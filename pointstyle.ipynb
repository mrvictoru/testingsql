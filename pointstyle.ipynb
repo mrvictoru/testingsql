{
 "metadata": {
  "language_info": {
   "codemirror_mode": {
    "name": "ipython",
    "version": 3
   },
   "file_extension": ".py",
   "mimetype": "text/x-python",
   "name": "python",
   "nbconvert_exporter": "python",
   "pygments_lexer": "ipython3",
   "version": "3.8.8"
  },
  "orig_nbformat": 2,
  "kernelspec": {
   "name": "python388jvsc74a57bd07e32a5934c5b659051144233c5c8473f81f36261514d0d1c6d1ecf878871908a",
   "display_name": "Python 3.8.8 64-bit ('base': conda)"
  }
 },
 "nbformat": 4,
 "nbformat_minor": 2,
 "cells": [
  {
   "cell_type": "code",
   "execution_count": 5,
   "metadata": {},
   "outputs": [],
   "source": [
    "from connection import connect\n",
    "import re\n",
    "import pandas as pd\n",
    "import csv\n"
   ]
  },
  {
   "cell_type": "code",
   "execution_count": 6,
   "metadata": {},
   "outputs": [
    {
     "output_type": "stream",
     "name": "stdout",
     "text": [
      "Connected\n12.2.0.1.0\n"
     ]
    }
   ],
   "source": [
    "# connect to Oracle DB\n",
    "connection = connect()"
   ]
  },
  {
   "cell_type": "code",
   "execution_count": 9,
   "metadata": {},
   "outputs": [],
   "source": [
    "fcsv = input(\"csv file: \")\n",
    "symid = pd.read_csv(fcsv)\n",
    "df = pd.DataFrame()\n",
    "for row in symid.G3E_STROKESYMBOL_0_1:\n",
    "    sqlstyle = \"SELECT * FROM {table} WHERE g3e_sno = '{styleid}'\".format(table = \"G3E_POINTSTYLE\", styleid = int(row[1:len(row)-1]))\n",
    "    ptstyle = pd.read_sql(sqlstyle,con=connection)\n",
    "    ptstyle = ptstyle.drop(['G3E_EDITDATE'], axis = 1)\n",
    "    df = df.append(ptstyle)"
   ]
  },
  {
   "cell_type": "code",
   "execution_count": 10,
   "metadata": {},
   "outputs": [
    {
     "output_type": "execute_result",
     "data": {
      "text/plain": [
       "    G3E_SNO           G3E_USERNAME  G3E_COLOR            G3E_FONTNAME  \\\n",
       "0  10001007         SYMBOL_S_255_2        255  HECGIS_1_h0.15w0.15_MT   \n",
       "0  10001008           SYMBOL_I_255        255             HECGIS_UDLS   \n",
       "0  10003006       SYMBOL_S_47615_2      47615  HECGIS_1_h0.15w0.15_MT   \n",
       "0  10003007         SYMBOL_I_47615      47615             HECGIS_UDLS   \n",
       "0  10003005       SYMBOL_CUT_47615      47615              HECGIS_108   \n",
       "0  10003008     SYMBOL_CUT_I_47615      47615             HECGIS_UDLS   \n",
       "0  10003005       SYMBOL_CUT_47615      47615              HECGIS_108   \n",
       "0  10004005    SYMBOL_S_11572735_2   11572735  HECGIS_1_h0.15w0.15_MT   \n",
       "0  10004006      SYMBOL_I_11572735   11572735             HECGIS_UDLS   \n",
       "0  10004004    SYMBOL_CUT_11572735   11572735              HECGIS_108   \n",
       "0  10004007  SYMBOL_CUT_I_11572735   11572735             HECGIS_UDLS   \n",
       "0  10004004    SYMBOL_CUT_11572735   11572735              HECGIS_108   \n",
       "0  10005003    SYMBOL_S_11568304_2   11568304  HECGIS_1_h0.15w0.15_MT   \n",
       "0  10005004      SYMBOL_I_11568304   11568304             HECGIS_UDLS   \n",
       "\n",
       "  G3E_SYMBOL G3E_MASKSYMBOL  G3E_SIZE  G3E_USEMASK  G3E_ALIGNMENT G3E_PDNO  \\\n",
       "0          S           None  2.124999            0              0     None   \n",
       "0          I           None  2.124999            0              0     None   \n",
       "0          S           None  2.124999            0              0     None   \n",
       "0          I           None  2.124999            0              0     None   \n",
       "0          H           None  2.041667            0              0     None   \n",
       "0          C           None  2.124999            0              0     None   \n",
       "0          H           None  2.041667            0              0     None   \n",
       "0          S           None  2.124999            0              0     None   \n",
       "0          I           None  2.124999            0              0     None   \n",
       "0          H           None  2.041667            0              0     None   \n",
       "0          C           None  2.124999            0              0     None   \n",
       "0          H           None  2.041667            0              0     None   \n",
       "0          S           None  2.124999            0              0     None   \n",
       "0          I           None  2.124999            0              0     None   \n",
       "\n",
       "   G3E_PLOTREDLINE        G3E_EDITDATE  G3E_STYLEUNITS  G3E_ROTATION  \\\n",
       "0                1 2015-06-12 20:16:51               1             0   \n",
       "0                1 2015-06-12 20:16:51               1             0   \n",
       "0                1 2015-06-12 20:16:51               1             0   \n",
       "0                1 2015-06-12 20:16:51               1             0   \n",
       "0                1 2015-06-12 20:16:51               1             0   \n",
       "0                1 2015-06-12 20:16:51               1             0   \n",
       "0                1 2015-06-12 20:16:51               1             0   \n",
       "0                1 2015-06-12 20:16:51               1             0   \n",
       "0                1 2015-06-12 20:16:51               1             0   \n",
       "0                1 2015-06-12 20:16:51               1             0   \n",
       "0                1 2015-06-12 20:16:51               1             0   \n",
       "0                1 2015-06-12 20:16:51               1             0   \n",
       "0                1 2015-06-12 20:16:51               1             0   \n",
       "0                1 2015-06-12 20:16:51               1             0   \n",
       "\n",
       "  G3E_TRANSLUCENCY G3E_MASKTRANSLUCENCY  \n",
       "0             None                 None  \n",
       "0             None                 None  \n",
       "0             None                 None  \n",
       "0             None                 None  \n",
       "0             None                 None  \n",
       "0             None                 None  \n",
       "0             None                 None  \n",
       "0             None                 None  \n",
       "0             None                 None  \n",
       "0             None                 None  \n",
       "0             None                 None  \n",
       "0             None                 None  \n",
       "0             None                 None  \n",
       "0             None                 None  "
      ],
      "text/html": "<div>\n<style scoped>\n    .dataframe tbody tr th:only-of-type {\n        vertical-align: middle;\n    }\n\n    .dataframe tbody tr th {\n        vertical-align: top;\n    }\n\n    .dataframe thead th {\n        text-align: right;\n    }\n</style>\n<table border=\"1\" class=\"dataframe\">\n  <thead>\n    <tr style=\"text-align: right;\">\n      <th></th>\n      <th>G3E_SNO</th>\n      <th>G3E_USERNAME</th>\n      <th>G3E_COLOR</th>\n      <th>G3E_FONTNAME</th>\n      <th>G3E_SYMBOL</th>\n      <th>G3E_MASKSYMBOL</th>\n      <th>G3E_SIZE</th>\n      <th>G3E_USEMASK</th>\n      <th>G3E_ALIGNMENT</th>\n      <th>G3E_PDNO</th>\n      <th>G3E_PLOTREDLINE</th>\n      <th>G3E_EDITDATE</th>\n      <th>G3E_STYLEUNITS</th>\n      <th>G3E_ROTATION</th>\n      <th>G3E_TRANSLUCENCY</th>\n      <th>G3E_MASKTRANSLUCENCY</th>\n    </tr>\n  </thead>\n  <tbody>\n    <tr>\n      <th>0</th>\n      <td>10001007</td>\n      <td>SYMBOL_S_255_2</td>\n      <td>255</td>\n      <td>HECGIS_1_h0.15w0.15_MT</td>\n      <td>S</td>\n      <td>None</td>\n      <td>2.124999</td>\n      <td>0</td>\n      <td>0</td>\n      <td>None</td>\n      <td>1</td>\n      <td>2015-06-12 20:16:51</td>\n      <td>1</td>\n      <td>0</td>\n      <td>None</td>\n      <td>None</td>\n    </tr>\n    <tr>\n      <th>0</th>\n      <td>10001008</td>\n      <td>SYMBOL_I_255</td>\n      <td>255</td>\n      <td>HECGIS_UDLS</td>\n      <td>I</td>\n      <td>None</td>\n      <td>2.124999</td>\n      <td>0</td>\n      <td>0</td>\n      <td>None</td>\n      <td>1</td>\n      <td>2015-06-12 20:16:51</td>\n      <td>1</td>\n      <td>0</td>\n      <td>None</td>\n      <td>None</td>\n    </tr>\n    <tr>\n      <th>0</th>\n      <td>10003006</td>\n      <td>SYMBOL_S_47615_2</td>\n      <td>47615</td>\n      <td>HECGIS_1_h0.15w0.15_MT</td>\n      <td>S</td>\n      <td>None</td>\n      <td>2.124999</td>\n      <td>0</td>\n      <td>0</td>\n      <td>None</td>\n      <td>1</td>\n      <td>2015-06-12 20:16:51</td>\n      <td>1</td>\n      <td>0</td>\n      <td>None</td>\n      <td>None</td>\n    </tr>\n    <tr>\n      <th>0</th>\n      <td>10003007</td>\n      <td>SYMBOL_I_47615</td>\n      <td>47615</td>\n      <td>HECGIS_UDLS</td>\n      <td>I</td>\n      <td>None</td>\n      <td>2.124999</td>\n      <td>0</td>\n      <td>0</td>\n      <td>None</td>\n      <td>1</td>\n      <td>2015-06-12 20:16:51</td>\n      <td>1</td>\n      <td>0</td>\n      <td>None</td>\n      <td>None</td>\n    </tr>\n    <tr>\n      <th>0</th>\n      <td>10003005</td>\n      <td>SYMBOL_CUT_47615</td>\n      <td>47615</td>\n      <td>HECGIS_108</td>\n      <td>H</td>\n      <td>None</td>\n      <td>2.041667</td>\n      <td>0</td>\n      <td>0</td>\n      <td>None</td>\n      <td>1</td>\n      <td>2015-06-12 20:16:51</td>\n      <td>1</td>\n      <td>0</td>\n      <td>None</td>\n      <td>None</td>\n    </tr>\n    <tr>\n      <th>0</th>\n      <td>10003008</td>\n      <td>SYMBOL_CUT_I_47615</td>\n      <td>47615</td>\n      <td>HECGIS_UDLS</td>\n      <td>C</td>\n      <td>None</td>\n      <td>2.124999</td>\n      <td>0</td>\n      <td>0</td>\n      <td>None</td>\n      <td>1</td>\n      <td>2015-06-12 20:16:51</td>\n      <td>1</td>\n      <td>0</td>\n      <td>None</td>\n      <td>None</td>\n    </tr>\n    <tr>\n      <th>0</th>\n      <td>10003005</td>\n      <td>SYMBOL_CUT_47615</td>\n      <td>47615</td>\n      <td>HECGIS_108</td>\n      <td>H</td>\n      <td>None</td>\n      <td>2.041667</td>\n      <td>0</td>\n      <td>0</td>\n      <td>None</td>\n      <td>1</td>\n      <td>2015-06-12 20:16:51</td>\n      <td>1</td>\n      <td>0</td>\n      <td>None</td>\n      <td>None</td>\n    </tr>\n    <tr>\n      <th>0</th>\n      <td>10004005</td>\n      <td>SYMBOL_S_11572735_2</td>\n      <td>11572735</td>\n      <td>HECGIS_1_h0.15w0.15_MT</td>\n      <td>S</td>\n      <td>None</td>\n      <td>2.124999</td>\n      <td>0</td>\n      <td>0</td>\n      <td>None</td>\n      <td>1</td>\n      <td>2015-06-12 20:16:51</td>\n      <td>1</td>\n      <td>0</td>\n      <td>None</td>\n      <td>None</td>\n    </tr>\n    <tr>\n      <th>0</th>\n      <td>10004006</td>\n      <td>SYMBOL_I_11572735</td>\n      <td>11572735</td>\n      <td>HECGIS_UDLS</td>\n      <td>I</td>\n      <td>None</td>\n      <td>2.124999</td>\n      <td>0</td>\n      <td>0</td>\n      <td>None</td>\n      <td>1</td>\n      <td>2015-06-12 20:16:51</td>\n      <td>1</td>\n      <td>0</td>\n      <td>None</td>\n      <td>None</td>\n    </tr>\n    <tr>\n      <th>0</th>\n      <td>10004004</td>\n      <td>SYMBOL_CUT_11572735</td>\n      <td>11572735</td>\n      <td>HECGIS_108</td>\n      <td>H</td>\n      <td>None</td>\n      <td>2.041667</td>\n      <td>0</td>\n      <td>0</td>\n      <td>None</td>\n      <td>1</td>\n      <td>2015-06-12 20:16:51</td>\n      <td>1</td>\n      <td>0</td>\n      <td>None</td>\n      <td>None</td>\n    </tr>\n    <tr>\n      <th>0</th>\n      <td>10004007</td>\n      <td>SYMBOL_CUT_I_11572735</td>\n      <td>11572735</td>\n      <td>HECGIS_UDLS</td>\n      <td>C</td>\n      <td>None</td>\n      <td>2.124999</td>\n      <td>0</td>\n      <td>0</td>\n      <td>None</td>\n      <td>1</td>\n      <td>2015-06-12 20:16:51</td>\n      <td>1</td>\n      <td>0</td>\n      <td>None</td>\n      <td>None</td>\n    </tr>\n    <tr>\n      <th>0</th>\n      <td>10004004</td>\n      <td>SYMBOL_CUT_11572735</td>\n      <td>11572735</td>\n      <td>HECGIS_108</td>\n      <td>H</td>\n      <td>None</td>\n      <td>2.041667</td>\n      <td>0</td>\n      <td>0</td>\n      <td>None</td>\n      <td>1</td>\n      <td>2015-06-12 20:16:51</td>\n      <td>1</td>\n      <td>0</td>\n      <td>None</td>\n      <td>None</td>\n    </tr>\n    <tr>\n      <th>0</th>\n      <td>10005003</td>\n      <td>SYMBOL_S_11568304_2</td>\n      <td>11568304</td>\n      <td>HECGIS_1_h0.15w0.15_MT</td>\n      <td>S</td>\n      <td>None</td>\n      <td>2.124999</td>\n      <td>0</td>\n      <td>0</td>\n      <td>None</td>\n      <td>1</td>\n      <td>2015-06-12 20:16:51</td>\n      <td>1</td>\n      <td>0</td>\n      <td>None</td>\n      <td>None</td>\n    </tr>\n    <tr>\n      <th>0</th>\n      <td>10005004</td>\n      <td>SYMBOL_I_11568304</td>\n      <td>11568304</td>\n      <td>HECGIS_UDLS</td>\n      <td>I</td>\n      <td>None</td>\n      <td>2.124999</td>\n      <td>0</td>\n      <td>0</td>\n      <td>None</td>\n      <td>1</td>\n      <td>2015-06-12 20:16:51</td>\n      <td>1</td>\n      <td>0</td>\n      <td>None</td>\n      <td>None</td>\n    </tr>\n  </tbody>\n</table>\n</div>"
     },
     "metadata": {},
     "execution_count": 10
    }
   ],
   "source": [
    "df"
   ]
  },
  {
   "cell_type": "code",
   "execution_count": 18,
   "metadata": {},
   "outputs": [],
   "source": [
    "filename = fcsv[:6] + \"pointstyle\" + \".csv\"\n",
    "csvdata = df.to_csv()\n",
    "with open(filename,'w') as f:\n",
    "    f.write(csvdata)\n",
    "    "
   ]
  },
  {
   "cell_type": "code",
   "execution_count": 21,
   "metadata": {},
   "outputs": [
    {
     "output_type": "stream",
     "name": "stdout",
     "text": [
      "Connection closed\n"
     ]
    }
   ],
   "source": [
    "# close connection\n",
    "if connection:\n",
    "    connection.close()\n",
    "    print(\"Connection closed\")"
   ]
  },
  {
   "cell_type": "code",
   "execution_count": null,
   "metadata": {},
   "outputs": [],
   "source": []
  }
 ]
}
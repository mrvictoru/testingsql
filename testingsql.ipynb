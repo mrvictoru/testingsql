{
 "metadata": {
  "language_info": {
   "codemirror_mode": {
    "name": "ipython",
    "version": 3
   },
   "file_extension": ".py",
   "mimetype": "text/x-python",
   "name": "python",
   "nbconvert_exporter": "python",
   "pygments_lexer": "ipython3",
   "version": "3.8.5-final"
  },
  "orig_nbformat": 2,
  "kernelspec": {
   "name": "python3",
   "display_name": "Python 3",
   "language": "python"
  }
 },
 "nbformat": 4,
 "nbformat_minor": 2,
 "cells": [
  {
   "cell_type": "code",
   "execution_count": 1,
   "metadata": {},
   "outputs": [],
   "source": [
    "import config\n",
    "import cx_Oracle\n",
    "import re\n",
    "import pandas as pd\n",
    "import csv\n",
    "\n"
   ]
  },
  {
   "cell_type": "code",
   "execution_count": 2,
   "metadata": {},
   "outputs": [
    {
     "output_type": "stream",
     "name": "stdout",
     "text": [
      "Connected\n12.2.0.1.0\n"
     ]
    }
   ],
   "source": [
    "# connect to Oracle DB\n",
    "connection = None\n",
    "try:\n",
    "    connection = cx_Oracle.connect(\n",
    "        config.username,\n",
    "        config.password,\n",
    "        config.dsn,\n",
    "        encoding = \"UTF-8\"\n",
    "    )\n",
    "    print(\"Connected\")\n",
    "    print(connection.version)\n",
    "except cx_Oracle.Error as error:\n",
    "    print(error)\n",
    "\n",
    "cursor = connection.cursor()"
   ]
  },
  {
   "cell_type": "code",
   "execution_count": 3,
   "metadata": {},
   "outputs": [
    {
     "output_type": "stream",
     "name": "stdout",
     "text": [
      "TR_SEC_LN_1\n",
      "PolylineGeometry\n"
     ]
    }
   ],
   "source": [
    "# set up style view and get the geometrytype of that style's feature\n",
    "view_name = \"V_TR_SEC_LN_1\"\n",
    "# if the logic is more difficult then what the program can handle (mainly having \"or\"). dont sort logic statement\n",
    "logichard = False\n",
    "feature_name = view_name[2:]\n",
    "print(feature_name)\n",
    "sql = \"Select g3e_geometrytype from G3E_COMPONENT where G3E_NAME = '{name}'\".format(name = feature_name)\n",
    "cursor.execute(sql)\n",
    "geometrytype = cursor.fetchall()[0][0]\n",
    "print(geometrytype)"
   ]
  },
  {
   "cell_type": "code",
   "execution_count": 4,
   "metadata": {},
   "outputs": [
    {
     "output_type": "stream",
     "name": "stdout",
     "text": [
      "G3E_COMPOSITELINESTYLE\n"
     ]
    }
   ],
   "source": [
    "# hardcode condition to know which styletable for the given style view\n",
    "if geometrytype == \"PolygonGeometry\":\n",
    "    styletable = 'G3E_AREASTYLE'\n",
    "elif geometrytype == \"PolylineGeometry\":\n",
    "    styletable = 'G3E_COMPOSITELINESTYLE'\n",
    "elif geometrytype == \"OrientedPointGeometry\":\n",
    "    styletable = 'G3E_POINTSTYLE'\n",
    "elif geometrytype == \"TextPointGeometry\":\n",
    "    styletable = 'G3E_TEXTSTYLE'\n",
    "elif geometrytype == \"CompositePolylineGeometry\":\n",
    "    styletable = 'G3E_COMPOSITELINESTYLE'\n",
    "\n",
    "print(styletable)"
   ]
  },
  {
   "cell_type": "code",
   "execution_count": 5,
   "metadata": {
    "tags": []
   },
   "outputs": [],
   "source": [
    "# extract text that create the given style view\n",
    "pattern = re.compile(r'\\s+')\n",
    "sql = \"SELECT TEXT FROM USER_VIEWS WHERE VIEW_NAME = '{view_name}'\".format(view_name = view_name)\n",
    "cursor.execute(sql)\n",
    "fetch = cursor.fetchall()\n",
    "txts = fetch[0][0]\n",
    "txts = txts.rpartition(\"CASE\")[2]\n",
    "txts = txts.rpartition(\"ELSE\")[0]\n",
    "txts = re.sub(pattern,'',txts)\n",
    "txts = txts.split(\"WHEN\")"
   ]
  },
  {
   "cell_type": "code",
   "execution_count": 6,
   "metadata": {},
   "outputs": [
    {
     "output_type": "stream",
     "name": "stdout",
     "text": [
      "['', \"TRIM(E.CODETEXT)='UNKNOWNROUTE'ANDTRIM(F.CODETEXT)IN('33','66')ANDTRIM(D.CODETEXT)IN('PPA','ABA','PPM','ABM','APA','INS','PPR','ABR','PPX','ABX','SP')THEN19050010\", \"TRIM(E.CODETEXT)='UNKNOWNROUTE'ANDTRIM(F.CODETEXT)='132'ANDTRIM(D.CODETEXT)IN('PPA','ABA','PPM','ABM','APA','INS','PPR','ABR','PPX','ABX','SP')THEN19050020\", \"TRIM(E.CODETEXT)='UNKNOWNROUTE'ANDTRIM(D.CODETEXT)IN('PPA','ABA','PPM','ABM','APA','INS','PPR','ABR','PPX','ABX','SP')THEN19050030\", \"TRIM(D.CODETEXT)IN('INS','SP')ANDTRIM(E.CODETEXT)='SUBMARINECABLE'ANDTRIM(F.CODETEXT)IN('33','66')THEN19050040\", \"TRIM(D.CODETEXT)IN('INS','SP')ANDTRIM(E.CODETEXT)='OVERHEADCONDUCTOR'ANDTRIM(F.CODETEXT)IN('33','66')THEN19050050\", \"TRIM(D.CODETEXT)IN('INS','SP')ANDTRIM(F.CODETEXT)IN('33','66')THEN19050060\", \"TRIM(D.CODETEXT)IN('INS','SP')ANDTRIM(E.CODETEXT)='SUBMARINECABLE'ANDTRIM(F.CODETEXT)='132'THEN19050070\", \"TRIM(D.CODETEXT)IN('INS','SP')ANDTRIM(E.CODETEXT)='OVERHEADCONDUCTOR'ANDTRIM(F.CODETEXT)='132'THEN19050080\", \"TRIM(D.CODETEXT)IN('INS','SP')ANDTRIM(F.CODETEXT)='132'THEN19050090\", \"TRIM(D.CODETEXT)IN('INS','SP')ANDTRIM(E.CODETEXT)='SUBMARINECABLE'THEN19050100\", \"TRIM(D.CODETEXT)IN('INS','SP')ANDTRIM(E.CODETEXT)='OVERHEADCONDUCTOR'THEN19050110\", \"TRIM(D.CODETEXT)IN('INS','SP')THEN19050120\", \"TRIM(D.CODETEXT)IN('ABN','RES')ANDTRIM(E.CODETEXT)='SUBMARINECABLE'ANDTRIM(F.CODETEXT)IN('33','66')THEN19050130\", \"TRIM(D.CODETEXT)IN('ABN','RES')ANDTRIM(E.CODETEXT)='OVERHEADCONDUCTOR'ANDTRIM(F.CODETEXT)IN('33','66')THEN19050140\", \"TRIM(D.CODETEXT)IN('ABN','RES')ANDTRIM(F.CODETEXT)IN('33','66')THEN19050150\", \"TRIM(D.CODETEXT)IN('ABN','RES')ANDTRIM(E.CODETEXT)='SUBMARINECABLE'ANDTRIM(F.CODETEXT)='132'THEN19050160\", \"TRIM(D.CODETEXT)IN('ABN','RES')ANDTRIM(E.CODETEXT)='OVERHEADCONDUCTOR'ANDTRIM(F.CODETEXT)='132'THEN19050170\", \"TRIM(D.CODETEXT)IN('ABN','RES')ANDTRIM(F.CODETEXT)='132'THEN19050180\", \"TRIM(D.CODETEXT)IN('ABN','RES')ANDTRIM(E.CODETEXT)='SUBMARINECABLE'THEN19050190\", \"TRIM(D.CODETEXT)IN('ABN','RES')ANDTRIM(E.CODETEXT)='OVERHEADCONDUCTOR'THEN19050200\", \"TRIM(D.CODETEXT)IN('ABN','RES')THEN19050210\", \"TRIM(D.CODETEXT)='ABA'ANDTRIM(E.CODETEXT)='SUBMARINECABLE'ANDTRIM(F.CODETEXT)IN('33','66')THEN19050220\", \"TRIM(D.CODETEXT)='ABA'ANDTRIM(E.CODETEXT)='OVERHEADCONDUCTOR'ANDTRIM(F.CODETEXT)IN('33','66')THEN19050230\", \"TRIM(D.CODETEXT)='ABA'ANDTRIM(F.CODETEXT)IN('33','66')THEN19050240\", \"TRIM(D.CODETEXT)='ABA'ANDTRIM(E.CODETEXT)='SUBMARINECABLE'ANDTRIM(F.CODETEXT)='132'THEN19050250\", \"TRIM(D.CODETEXT)='ABA'ANDTRIM(E.CODETEXT)='OVERHEADCONDUCTOR'ANDTRIM(F.CODETEXT)='132'THEN19050260\", \"TRIM(D.CODETEXT)='ABA'ANDTRIM(F.CODETEXT)='132'THEN19050270\", \"TRIM(D.CODETEXT)='ABA'ANDTRIM(E.CODETEXT)='SUBMARINECABLE'THEN19050280\", \"TRIM(D.CODETEXT)='ABA'ANDTRIM(E.CODETEXT)='OVERHEADCONDUCTOR'THEN19050290\", \"TRIM(D.CODETEXT)='ABA'THEN19050300\", \"TRIM(D.CODETEXT)='ABM'ANDTRIM(E.CODETEXT)='SUBMARINECABLE'ANDTRIM(F.CODETEXT)IN('33','66')THEN19050310\", \"TRIM(D.CODETEXT)='ABM'ANDTRIM(E.CODETEXT)='OVERHEADCONDUCTOR'ANDTRIM(F.CODETEXT)IN('33','66')THEN19050320\", \"TRIM(D.CODETEXT)='ABM'ANDTRIM(F.CODETEXT)IN('33','66')THEN19050330\", \"TRIM(D.CODETEXT)='ABM'ANDTRIM(E.CODETEXT)='SUBMARINECABLE'ANDTRIM(F.CODETEXT)='132'THEN19050340\", \"TRIM(D.CODETEXT)='ABM'ANDTRIM(E.CODETEXT)='OVERHEADCONDUCTOR'ANDTRIM(F.CODETEXT)='132'THEN19050350\", \"TRIM(D.CODETEXT)='ABM'ANDTRIM(F.CODETEXT)='132'THEN19050360\", \"TRIM(D.CODETEXT)='ABM'ANDTRIM(E.CODETEXT)='SUBMARINECABLE'THEN19050370\", \"TRIM(D.CODETEXT)='ABM'ANDTRIM(E.CODETEXT)='OVERHEADCONDUCTOR'THEN19050380\", \"TRIM(D.CODETEXT)='ABM'THEN19050390\", \"TRIM(D.CODETEXT)='ABR'ANDTRIM(E.CODETEXT)='SUBMARINECABLE'ANDTRIM(F.CODETEXT)IN('33','66')THEN19050400\", \"TRIM(D.CODETEXT)='ABR'ANDTRIM(E.CODETEXT)='OVERHEADCONDUCTOR'ANDTRIM(F.CODETEXT)IN('33','66')THEN19050410\", \"TRIM(D.CODETEXT)='ABR'ANDTRIM(F.CODETEXT)IN('33','66')THEN19050420\", \"TRIM(D.CODETEXT)='ABR'ANDTRIM(E.CODETEXT)='SUBMARINECABLE'ANDTRIM(F.CODETEXT)='132'THEN19050430\", \"TRIM(D.CODETEXT)='ABR'ANDTRIM(E.CODETEXT)='OVERHEADCONDUCTOR'ANDTRIM(F.CODETEXT)='132'THEN19050440\", \"TRIM(D.CODETEXT)='ABR'ANDTRIM(F.CODETEXT)='132'THEN19050450\", \"TRIM(D.CODETEXT)='ABR'ANDTRIM(E.CODETEXT)='SUBMARINECABLE'THEN19050460\", \"TRIM(D.CODETEXT)='ABR'ANDTRIM(E.CODETEXT)='OVERHEADCONDUCTOR'THEN19050470\", \"TRIM(D.CODETEXT)='ABR'THEN19050480\", \"TRIM(D.CODETEXT)='APA'ANDTRIM(E.CODETEXT)='SUBMARINECABLE'ANDTRIM(F.CODETEXT)IN('33','66')THEN19050490\", \"TRIM(D.CODETEXT)='APA'ANDTRIM(E.CODETEXT)='OVERHEADCONDUCTOR'ANDTRIM(F.CODETEXT)IN('33','66')THEN19050500\", \"TRIM(D.CODETEXT)='APA'ANDTRIM(F.CODETEXT)IN('33','66')THEN19050510\", \"TRIM(D.CODETEXT)='APA'ANDTRIM(E.CODETEXT)='SUBMARINECABLE'ANDTRIM(F.CODETEXT)='132'THEN19050520\", \"TRIM(D.CODETEXT)='APA'ANDTRIM(E.CODETEXT)='OVERHEADCONDUCTOR'ANDTRIM(F.CODETEXT)='132'THEN19050530\", \"TRIM(D.CODETEXT)='APA'ANDTRIM(F.CODETEXT)='132'THEN19050540\", \"TRIM(D.CODETEXT)='APA'ANDTRIM(E.CODETEXT)='SUBMARINECABLE'THEN19050550\", \"TRIM(D.CODETEXT)='APA'ANDTRIM(E.CODETEXT)='OVERHEADCONDUCTOR'THEN19050560\", \"TRIM(D.CODETEXT)='APA'THEN19050570\"]\n"
     ]
    }
   ],
   "source": [
    "print(txts)"
   ]
  },
  {
   "cell_type": "code",
   "execution_count": 7,
   "metadata": {},
   "outputs": [],
   "source": [
    "# find in use style id for given table\n",
    "sql = \"SELECT DISTINCT (g3e_styleid) FROM {view}\".format(view = view_name)\n",
    "dfid = pd.read_sql(sql,con=connection)"
   ]
  },
  {
   "cell_type": "code",
   "execution_count": 10,
   "metadata": {
    "tags": []
   },
   "outputs": [
    {
     "output_type": "stream",
     "name": "stdout",
     "text": [
      "{'19050010': {'TRIM(E.CODETEXT)': \"= 'UNKNOWNROUTE'\", 'TRIM(F.CODETEXT)': \"= ('33','66')\", \"TRIM(D.CODETEXT)IN('PPA','ABA','PPM','ABM','APA','\": \"= S','PPR','ABR','PPX','ABX','SP')\"}}\n"
     ]
    }
   ],
   "source": [
    "# extract cause(logic condition) and effect(styleid) into dict\n",
    "logics = {}\n",
    "\n",
    "spl_chr = \"THEN\"\n",
    "spl_and = \"AND\"\n",
    "spl_or = \"OR\"\n",
    "spl_eq = \"=\"\n",
    "spl_neq = \"<>\"\n",
    "spl_geq = \">=\"\n",
    "spl_seq = \"<=\"\n",
    "spl_g = \">\"\n",
    "spl_s = \"<\"\n",
    "spl_in = \"IN\"\n",
    "spl_notin = \"NOTIN\"\n",
    "for txt in txts:\n",
    "    if txt != \"\":\n",
    "        styleid = txt.rpartition(spl_chr)[2]\n",
    "        content = txt.rpartition(spl_chr)[0]\n",
    "        logic = {}\n",
    "        if not logichard:\n",
    "            if spl_and in content:\n",
    "                cond_list = content.split(spl_and)\n",
    "                for cond in cond_list:\n",
    "                    if spl_eq in cond:\n",
    "                        logic.update({cond.rpartition(spl_eq)[0]:\"= \" + cond.rpartition(spl_eq)[2]})\n",
    "                    elif spl_neq in cond:\n",
    "                        logic.update({cond.rpartition(spl_neq)[0]:\"<> \" + cond.rpartition(spl_neq)[2]})\n",
    "                    elif spl_geq in cond:\n",
    "                        logic.update({cond.rpartition(spl_geq)[0]:\">= \" + cond.rpartition(spl_geq)[2]})\n",
    "                    elif spl_seq in cond:\n",
    "                        logic.update({cond.rpartition(spl_seq)[0]:\"<= \" + cond.rpartition(spl_seq)[2]})\n",
    "                    elif spl_g in cond:\n",
    "                        logic.update({cond.rpartition(spl_g)[0]:\"> \" + cond.rpartition(spl_g)[2]})\n",
    "                    elif spl_s in cond:\n",
    "                        logic.update({cond.rpartition(spl_s)[0]:\"< \" + cond.rpartition(spl_s)[2]})\n",
    "                    elif spl_notin in cond:\n",
    "                        logic.update({cond.rpartition(spl_notin)[0]:\"NOT \" + cond.rpartition(spl_notin)[2]})\n",
    "                    elif spl_in in cond:\n",
    "                        logic.update({cond.rpartition(spl_in)[0]:\"= \" + cond.rpartition(spl_in)[2]})\n",
    "                    \n",
    "            else:\n",
    "                if spl_eq in content:\n",
    "                    logic.update({content.rpartition(spl_eq)[0]:\"= \" + content.rpartition(spl_eq)[2]})\n",
    "                elif spl_neq in content:\n",
    "                    logic.update({content.rpartition(spl_neq)[0]:\"<> \" + content.rpartition(spl_neq)[2]})\n",
    "                elif spl_geq in content:\n",
    "                    logic.update({content.rpartition(spl_geq)[0]:\">= \" + content.rpartition(spl_geq)[2]})\n",
    "                elif spl_seq in content:\n",
    "                    logic.update({content.rpartition(spl_seq)[0]:\"<= \" + content.rpartition(spl_seq)[2]})\n",
    "                elif spl_g in content:\n",
    "                    logic.update({content.rpartition(spl_g)[0]:\"> \" + content.rpartition(spl_g)[2]})\n",
    "                elif spl_s in content:\n",
    "                    logic.update({content.rpartition(spl_s)[0]:\"< \" + content.rpartition(spl_s)[2]})\n",
    "                elif spl_notin in content:\n",
    "                    logic.update({content.rpartition(spl_notin)[0]:\"NOT \" + content.rpartition(spl_notin)[2]})\n",
    "                elif spl_in in content:\n",
    "                    logic.update({content.rpartition(spl_in)[0]:\"= \" + content.rpartition(spl_in)[2]})\n",
    "        else:\n",
    "            logic.update({\"logic\":content})\n",
    "\n",
    "        index = len(styleid)\n",
    "        # remove comment that often tag behind style id\n",
    "        for i in styleid:\n",
    "            if not i.isdigit():\n",
    "                index = styleid.index(i)\n",
    "                break\n",
    "        styleid = styleid[:index]\n",
    "        # update logic with corresponding styleid\n",
    "        logics.update({styleid : logic})\n",
    "        break\n",
    "'''\n",
    "for row in dfid.iterrows():\n",
    "    logics[str(int(row[1].values))].update({\"In Used\" : \"YES\"})\n",
    "'''\n",
    "print(logics)"
   ]
  },
  {
   "cell_type": "code",
   "execution_count": 138,
   "metadata": {
    "tags": []
   },
   "outputs": [
    {
     "output_type": "stream",
     "name": "stdout",
     "text": [
      "{'15750010': {'G3E_COLOR': [16776960], 'G3E_STROKEPATTERN': [2000006], 'G3E_PLOTREDLINE': [1], 'G3E_COLOR.1': [nan], 'G3E_STROKEPATTERN.1': [nan], 'G3E_PLOTREDLINE.1': [nan]}, '15750020': {'G3E_COLOR': [47615], 'G3E_STROKEPATTERN': [2000006], 'G3E_PLOTREDLINE': [1], 'G3E_COLOR.1': [nan], 'G3E_STROKEPATTERN.1': [nan], 'G3E_PLOTREDLINE.1': [nan]}, '15750030': {'G3E_COLOR': [11572735], 'G3E_STROKEPATTERN': [2000006], 'G3E_PLOTREDLINE': [1], 'G3E_COLOR.1': [nan], 'G3E_STROKEPATTERN.1': [nan], 'G3E_PLOTREDLINE.1': [nan]}, '15750040': {'G3E_COLOR': [11568304], 'G3E_STROKEPATTERN': [2000006], 'G3E_PLOTREDLINE': [1], 'G3E_COLOR.1': [nan], 'G3E_STROKEPATTERN.1': [nan], 'G3E_PLOTREDLINE.1': [nan]}, '15750050': {'G3E_COLOR': [16776960], 'G3E_STROKEPATTERN': [10000001], 'G3E_PLOTREDLINE': [1], 'G3E_COLOR.1': [16776960], 'G3E_STROKEPATTERN.1': [10007003], 'G3E_PLOTREDLINE.1': [1]}, '15750060': {'G3E_COLOR': [16776960], 'G3E_STROKEPATTERN': [10000001], 'G3E_PLOTREDLINE': [1], 'G3E_COLOR.1': [16776960], 'G3E_STROKEPATTERN.1': [10007002], 'G3E_PLOTREDLINE.1': [1]}, '15750070': {'G3E_COLOR': [16776960], 'G3E_STROKEPATTERN': [10000001], 'G3E_PLOTREDLINE': [1], 'G3E_COLOR.1': [16776960], 'G3E_STROKEPATTERN.1': [10007001], 'G3E_PLOTREDLINE.1': [1]}, '15750080': {'G3E_COLOR': [16776960], 'G3E_STROKEPATTERN': [10000001], 'G3E_PLOTREDLINE': [1], 'G3E_COLOR.1': [16776960], 'G3E_STROKEPATTERN.1': [10007005], 'G3E_PLOTREDLINE.1': [1]}, '15750090': {'G3E_COLOR': [16776960], 'G3E_STROKEPATTERN': [10000001], 'G3E_PLOTREDLINE': [1], 'G3E_COLOR.1': [16776960], 'G3E_STROKEPATTERN.1': [10007004], 'G3E_PLOTREDLINE.1': [1]}, '15750100': {'G3E_COLOR': [16776960], 'G3E_STROKEPATTERN': [2000001], 'G3E_PLOTREDLINE': [1], 'G3E_COLOR.1': [nan], 'G3E_STROKEPATTERN.1': [nan], 'G3E_PLOTREDLINE.1': [nan]}, '15750110': {'G3E_COLOR': [16776960], 'G3E_STROKEPATTERN': [10000007], 'G3E_PLOTREDLINE': [1], 'G3E_COLOR.1': [16776960], 'G3E_STROKEPATTERN.1': [10007003], 'G3E_PLOTREDLINE.1': [1]}, '15750120': {'G3E_COLOR': [16776960], 'G3E_STROKEPATTERN': [10000007], 'G3E_PLOTREDLINE': [1], 'G3E_COLOR.1': [16776960], 'G3E_STROKEPATTERN.1': [10007002], 'G3E_PLOTREDLINE.1': [1]}, '15750130': {'G3E_COLOR': [16776960], 'G3E_STROKEPATTERN': [10000007], 'G3E_PLOTREDLINE': [1], 'G3E_COLOR.1': [16776960], 'G3E_STROKEPATTERN.1': [10007001], 'G3E_PLOTREDLINE.1': [1]}, '15750140': {'G3E_COLOR': [16776960], 'G3E_STROKEPATTERN': [10000007], 'G3E_PLOTREDLINE': [1], 'G3E_COLOR.1': [16776960], 'G3E_STROKEPATTERN.1': [10007005], 'G3E_PLOTREDLINE.1': [1]}, '15750150': {'G3E_COLOR': [16776960], 'G3E_STROKEPATTERN': [10000007], 'G3E_PLOTREDLINE': [1], 'G3E_COLOR.1': [16776960], 'G3E_STROKEPATTERN.1': [10007004], 'G3E_PLOTREDLINE.1': [1]}, '15750160': {'G3E_COLOR': [16776960], 'G3E_STROKEPATTERN': [2000007], 'G3E_PLOTREDLINE': [1], 'G3E_COLOR.1': [nan], 'G3E_STROKEPATTERN.1': [nan], 'G3E_PLOTREDLINE.1': [nan]}, '15750170': {'G3E_COLOR': [47615], 'G3E_STROKEPATTERN': [10000005], 'G3E_PLOTREDLINE': [1], 'G3E_COLOR.1': [47615], 'G3E_STROKEPATTERN.1': [10003001], 'G3E_PLOTREDLINE.1': [1]}, '15750180': {'G3E_COLOR': [47615], 'G3E_STROKEPATTERN': [10000005], 'G3E_PLOTREDLINE': [1], 'G3E_COLOR.1': [47615], 'G3E_STROKEPATTERN.1': [10003002], 'G3E_PLOTREDLINE.1': [1]}, '15750190': {'G3E_COLOR': [47615], 'G3E_STROKEPATTERN': [10000001], 'G3E_PLOTREDLINE': [1], 'G3E_COLOR.1': [47615], 'G3E_STROKEPATTERN.1': [10003001], 'G3E_PLOTREDLINE.1': [1]}, '15750200': {'G3E_COLOR': [47615], 'G3E_STROKEPATTERN': [10000001], 'G3E_PLOTREDLINE': [1], 'G3E_COLOR.1': [47615], 'G3E_STROKEPATTERN.1': [10003002], 'G3E_PLOTREDLINE.1': [1]}, '15750210': {'G3E_COLOR': [47615], 'G3E_STROKEPATTERN': [10000005], 'G3E_PLOTREDLINE': [1], 'G3E_COLOR.1': [47615], 'G3E_STROKEPATTERN.1': [10003007], 'G3E_PLOTREDLINE.1': [1]}, '15750220': {'G3E_COLOR': [47615], 'G3E_STROKEPATTERN': [10000005], 'G3E_PLOTREDLINE': [1], 'G3E_COLOR.1': [47615], 'G3E_STROKEPATTERN.1': [10003008], 'G3E_PLOTREDLINE.1': [1]}, '15750230': {'G3E_COLOR': [47615], 'G3E_STROKEPATTERN': [10000005], 'G3E_PLOTREDLINE': [1], 'G3E_COLOR.1': [47615], 'G3E_STROKEPATTERN.1': [10003011], 'G3E_PLOTREDLINE.1': [1]}, '15750240': {'G3E_COLOR': [47615], 'G3E_STROKEPATTERN': [2000005], 'G3E_PLOTREDLINE': [1], 'G3E_COLOR.1': [nan], 'G3E_STROKEPATTERN.1': [nan], 'G3E_PLOTREDLINE.1': [nan]}, '15750250': {'G3E_COLOR': [11572735], 'G3E_STROKEPATTERN': [10000004], 'G3E_PLOTREDLINE': [1], 'G3E_COLOR.1': [11572735], 'G3E_STROKEPATTERN.1': [10004001], 'G3E_PLOTREDLINE.1': [1]}, '15750260': {'G3E_COLOR': [11572735], 'G3E_STROKEPATTERN': [10000004], 'G3E_PLOTREDLINE': [1], 'G3E_COLOR.1': [11572735], 'G3E_STROKEPATTERN.1': [10004002], 'G3E_PLOTREDLINE.1': [1]}, '15750270': {'G3E_COLOR': [11572735], 'G3E_STROKEPATTERN': [10000001], 'G3E_PLOTREDLINE': [1], 'G3E_COLOR.1': [11572735], 'G3E_STROKEPATTERN.1': [10004001], 'G3E_PLOTREDLINE.1': [1]}, '15750280': {'G3E_COLOR': [11572735], 'G3E_STROKEPATTERN': [10000001], 'G3E_PLOTREDLINE': [1], 'G3E_COLOR.1': [11572735], 'G3E_STROKEPATTERN.1': [10004002], 'G3E_PLOTREDLINE.1': [1]}, '15750290': {'G3E_COLOR': [11572735], 'G3E_STROKEPATTERN': [10000004], 'G3E_PLOTREDLINE': [1], 'G3E_COLOR.1': [11572735], 'G3E_STROKEPATTERN.1': [10004005], 'G3E_PLOTREDLINE.1': [1]}, '15750300': {'G3E_COLOR': [11572735], 'G3E_STROKEPATTERN': [10000004], 'G3E_PLOTREDLINE': [1], 'G3E_COLOR.1': [11572735], 'G3E_STROKEPATTERN.1': [10004006], 'G3E_PLOTREDLINE.1': [1]}, '15750310': {'G3E_COLOR': [11572735], 'G3E_STROKEPATTERN': [10000004], 'G3E_PLOTREDLINE': [1], 'G3E_COLOR.1': [11572735], 'G3E_STROKEPATTERN.1': [10004009], 'G3E_PLOTREDLINE.1': [1]}, '15750320': {'G3E_COLOR': [11572735], 'G3E_STROKEPATTERN': [2000004], 'G3E_PLOTREDLINE': [1], 'G3E_COLOR.1': [nan], 'G3E_STROKEPATTERN.1': [nan], 'G3E_PLOTREDLINE.1': [nan]}, '15750330': {'G3E_COLOR': [11568304], 'G3E_STROKEPATTERN': [10000006], 'G3E_PLOTREDLINE': [1], 'G3E_COLOR.1': [11568304], 'G3E_STROKEPATTERN.1': [10005001], 'G3E_PLOTREDLINE.1': [1]}, '15750340': {'G3E_COLOR': [11568304], 'G3E_STROKEPATTERN': [2000008], 'G3E_PLOTREDLINE': [1], 'G3E_COLOR.1': [nan], 'G3E_STROKEPATTERN.1': [nan], 'G3E_PLOTREDLINE.1': [nan]}}\n"
     ]
    }
   ],
   "source": [
    "# get the relevant information for the given style id\n",
    "styles = {}\n",
    "# check if compositeline, as they have a seperate method of getting style info\n",
    "if styletable != 'G3E_COMPOSITELINESTYLE':\n",
    "    for styleid in logics.keys():\n",
    "        sqlstyle = \"SELECT * FROM {table} WHERE g3e_sno = '{styleid}'\".format(table = styletable, styleid = styleid)\n",
    "        df=pd.read_sql(sqlstyle,con=connection)\n",
    "        data = df.to_dict(orient = 'list')\n",
    "        # remove useless stuff\n",
    "        data.pop('G3E_SNO', None)\n",
    "        data.pop('G3E_USERNAME', None)\n",
    "        data.pop('G3E_EDITDATE', None)\n",
    "\n",
    "        styles.update({styleid:data})\n",
    "else:\n",
    "    for styleid in logics.keys():\n",
    "        sqlstyle = \"SELECT b.* FROM G3E_COMPOSITELINESTYLE a JOIN g3e_linestyle b on a.g3e_line1 = b.g3e_sno WHERE a.g3e_sno = '{styleid}'\".format(styleid = styleid)\n",
    "        df1=pd.read_sql(sqlstyle,con=connection)\n",
    "        # remove useless stuff\n",
    "        df1 = df1.drop(df1.columns[[0,1,3,4,5,6,9,10,11]], axis = 1)\n",
    "\n",
    "        sqlstyle = \"SELECT c.* FROM G3E_COMPOSITELINESTYLE a JOIN g3e_linestyle c on a.g3e_line2 = c.g3e_sno WHERE a.g3e_sno = '{styleid}'\".format(styleid = styleid)\n",
    "        df2=pd.read_sql(sqlstyle,con=connection)\n",
    "        # remove useless stuff\n",
    "        df2 = df2.drop(df2.columns[[0,1,3,4,5,6,9,10,11]], axis = 1)\n",
    "\n",
    "        df = pd.concat([df1,df2], axis = 1)\n",
    "        # rename column that has the same name\n",
    "        cols = pd.Series(df.columns)            \n",
    "        for dup in df.columns[df.columns.duplicated(keep=False)]:\n",
    "            cols[df.columns.get_loc(dup)] = ([dup + '.' + str(d_idx) if d_idx != 0 else dup for d_idx in range(df.columns.get_loc(dup).sum())])\n",
    "        df.columns = cols\n",
    "        data = df.to_dict(orient = 'list')\n",
    "\n",
    "        if df.empty:\n",
    "            sqlstyle = \"SELECT * FROM G3E_LINESTYLE WHERE g3e_sno = '{styleid}'\".format(table = styletable, styleid = styleid)\n",
    "            df=pd.read_sql(sqlstyle,con=connection)\n",
    "            data = df.to_dict(orient = 'list')\n",
    "            # remove useless stuff\n",
    "            data.pop('G3E_SNO', None)\n",
    "            data.pop('G3E_USERNAME', None)\n",
    "            data.pop('G3E_EDITDATE', None)\n",
    "        \n",
    "\n",
    "        styles.update({styleid:data})\n",
    "\n",
    "print(styles)"
   ]
  },
  {
   "cell_type": "code",
   "execution_count": 139,
   "metadata": {
    "tags": []
   },
   "outputs": [],
   "source": [
    "df1 = pd.DataFrame.from_dict({(i): styles[i]\n",
    "                                for i in styles.keys()},\n",
    "                                orient = 'index')\n",
    "df2 = pd.DataFrame.from_dict({(i): logics[i]\n",
    "                                for i in logics.keys()},\n",
    "                                orient = 'index')\n",
    "\n",
    "df = pd.concat([df1,df2], axis = 1)"
   ]
  },
  {
   "cell_type": "code",
   "execution_count": 140,
   "metadata": {},
   "outputs": [],
   "source": [
    "filename = view_name + \".csv\"\n",
    "csvdata = df.to_csv()\n",
    "with open(filename,'w') as f:\n",
    "    f.write(csvdata)\n",
    "    "
   ]
  },
  {
   "cell_type": "code",
   "execution_count": 26,
   "metadata": {},
   "outputs": [
    {
     "output_type": "stream",
     "name": "stdout",
     "text": [
      "Connection closed\n"
     ]
    }
   ],
   "source": [
    "# close connection\n",
    "if connection:\n",
    "    cursor.close()\n",
    "    connection.close()\n",
    "    print(\"Connection closed\")"
   ]
  }
 ]
}
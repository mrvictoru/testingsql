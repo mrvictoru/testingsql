{
 "metadata": {
  "language_info": {
   "codemirror_mode": {
    "name": "ipython",
    "version": 3
   },
   "file_extension": ".py",
   "mimetype": "text/x-python",
   "name": "python",
   "nbconvert_exporter": "python",
   "pygments_lexer": "ipython3",
   "version": "3.8.5-final"
  },
  "orig_nbformat": 2,
  "kernelspec": {
   "name": "python3",
   "display_name": "Python 3",
   "language": "python"
  }
 },
 "nbformat": 4,
 "nbformat_minor": 2,
 "cells": [
  {
   "cell_type": "code",
   "execution_count": 1,
   "metadata": {},
   "outputs": [],
   "source": [
    "import config\n",
    "import cx_Oracle\n",
    "import re\n",
    "\n",
    "pattern = re.compile(r'\\s+')"
   ]
  },
  {
   "cell_type": "code",
   "execution_count": 41,
   "metadata": {},
   "outputs": [
    {
     "output_type": "stream",
     "name": "stdout",
     "text": [
      "Connected\n12.2.0.1.0\n"
     ]
    }
   ],
   "source": [
    "# connect to Oracle DB\n",
    "connection = None\n",
    "try:\n",
    "    connection = cx_Oracle.connect(\n",
    "        config.username,\n",
    "        config.password,\n",
    "        config.dsn,\n",
    "        encoding = \"UTF-8\"\n",
    "    )\n",
    "    print(\"Connected\")\n",
    "    print(connection.version)\n",
    "except cx_Oracle.Error as error:\n",
    "    print(error)\n",
    "\n",
    "cursor = connection.cursor()"
   ]
  },
  {
   "cell_type": "code",
   "execution_count": 3,
   "metadata": {},
   "outputs": [],
   "source": [
    "sqlfilter = \"SELECT TABLE_NAME FROM ALL_TABLES WHERE TABLE_NAME LIKE '%STYLE%' AND TABLE_NAME LIKE '%G3E%'\"\n",
    "cursor.execute(sqlfilter)\n",
    "fetch = cursor.fetchall()\n",
    "tablelist = []\n",
    "for table in fetch:\n",
    "    tablelist.append(table[0])"
   ]
  },
  {
   "cell_type": "code",
   "execution_count": 4,
   "metadata": {},
   "outputs": [
    {
     "output_type": "stream",
     "name": "stdout",
     "text": [
      "['G3E_STYLETYPE_OPTLANG', 'G3E_STYLEOBJECTS_OPTLANG', 'G3E_STYLEFILTERS_OPTLANG', 'G3E_STYLECOLORS_OPTABLE', 'G3E_TEXTSTYLE_10100901', 'G3E_STYLERULE_0009', 'G3E_TEXTSTYLEFONT_OPTABLE', 'G3E_TEXTSTYLE', 'G3E_STYLE_0009', 'G3E_STYLETYPE_0009', 'G3E_STYLETYPE', 'G3E_STYLERULE', 'G3E_STYLEMAPPING_OPTABLE', 'G3E_STYLEMAPPING', 'G3E_STYLE', 'G3E_POINTSTYLEFONT_OPTABLE', 'G3E_POINTSTYLE', 'G3E_LINESTYLE', 'G3E_DIMSTYLEGROUP_OPTABLE', 'G3E_COMPOSITELINESTYLE', 'G3E_AREASTYLE', 'G3E_STYLELANGMAPPING', 'G3E_DIMSTYLEGROUP']\n"
     ]
    }
   ],
   "source": [
    "print(tablelist)"
   ]
  },
  {
   "cell_type": "code",
   "execution_count": 46,
   "metadata": {},
   "outputs": [
    {
     "output_type": "stream",
     "name": "stdout",
     "text": [
      "140\n"
     ]
    }
   ],
   "source": [
    "view_name = \"V_ADM_GPB_SHP_1\"\n",
    "sql = \"SELECT distinct(G3E_FNO) FROM {view_name}\".format(view_name = view_name)\n",
    "cursor.execute(sql)\n",
    "FNO = cursor.fetchall()[0][0]\n",
    "sql = \"Select b.g3e_table, b.g3e_geometrytype from G3E_FEATURECOMPONENT a join G3E_COMPONENT b on a.G3E_CNO = b.G3E_CNO where a.G3E_FNO = {FNO}\".format(FNO =FNO)\n",
    "cursor.execute(sql)\n"
   ]
  },
  {
   "cell_type": "code",
   "execution_count": 6,
   "metadata": {},
   "outputs": [],
   "source": [
    "sql = \"SELECT TEXT FROM USER_VIEWS WHERE VIEW_NAME = '{view_name}'\".format(view_name = view_name)\n",
    "cursor.execute(sql)\n",
    "fetch = cursor.fetchall()"
   ]
  },
  {
   "cell_type": "code",
   "execution_count": 7,
   "metadata": {},
   "outputs": [
    {
     "output_type": "stream",
     "name": "stdout",
     "text": [
      "['', \"TRIM(F.DISTRICT_TYPE)='HIGHWAYS'ANDTRIM(D.CODETEXT)='BASE'THEN11400010\", \"TRIM(F.DISTRICT_TYPE)='HEC'ANDTRIM(D.CODETEXT)='BASE'THEN11400020\", \"TRIM(F.DISTRICT_TYPE)='VILLAGE'ANDTRIM(D.CODETEXT)='BASE'THEN11400030\", \"TRIM(F.DISTRICT_TYPE)='GOVERNMENT'ANDTRIM(D.CODETEXT)='BASE'THEN11400040\", \"TRIM(F.DISTRICT_TYPE)='TOWNPLAN'ANDTRIM(D.CODETEXT)='BASE'THEN11400050\", \"TRIM(E.DISTRICT_NAME)='CRITICALITYINDEX(HEAVYTRAFFICBOUNDARY)'ANDTRIM(D.CODETEXT)='BASE'THEN11400060\", \"TRIM(E.DISTRICT_NAME)='CRITICALITYINDEX(LARGEPRIVATEESTATEORDEVELOPMENT)'ANDTRIM(D.CODETEXT)='BASE'THEN11400070\", \"TRIM(E.DISTRICT_NAME)='CRITICALITYINDEX(TEMPERATURESENSORCORRIDOR)'ANDTRIM(D.CODETEXT)='BASE'THEN11400080\"]\n"
     ]
    }
   ],
   "source": [
    "txts = fetch[0][0]\n",
    "txts = txts.rpartition(\"CASE\")[2]\n",
    "txts = txts.rpartition(\"ELSE\")[0]\n",
    "txts = re.sub(pattern,'',txts)\n",
    "txts = txts.split(\"WHEN\")\n",
    "\n",
    "print(txts)"
   ]
  },
  {
   "cell_type": "code",
   "execution_count": 8,
   "metadata": {},
   "outputs": [
    {
     "output_type": "stream",
     "name": "stdout",
     "text": [
      "[{'11400010': \"TRIM(F.DISTRICT_TYPE)='HIGHWAYS'ANDTRIM(D.CODETEXT)='BASE'\"}, {'11400020': \"TRIM(F.DISTRICT_TYPE)='HEC'ANDTRIM(D.CODETEXT)='BASE'\"}, {'11400030': \"TRIM(F.DISTRICT_TYPE)='VILLAGE'ANDTRIM(D.CODETEXT)='BASE'\"}, {'11400040': \"TRIM(F.DISTRICT_TYPE)='GOVERNMENT'ANDTRIM(D.CODETEXT)='BASE'\"}, {'11400050': \"TRIM(F.DISTRICT_TYPE)='TOWNPLAN'ANDTRIM(D.CODETEXT)='BASE'\"}, {'11400060': \"TRIM(E.DISTRICT_NAME)='CRITICALITYINDEX(HEAVYTRAFFICBOUNDARY)'ANDTRIM(D.CODETEXT)='BASE'\"}, {'11400070': \"TRIM(E.DISTRICT_NAME)='CRITICALITYINDEX(LARGEPRIVATEESTATEORDEVELOPMENT)'ANDTRIM(D.CODETEXT)='BASE'\"}, {'11400080': \"TRIM(E.DISTRICT_NAME)='CRITICALITYINDEX(TEMPERATURESENSORCORRIDOR)'ANDTRIM(D.CODETEXT)='BASE'\"}]\n"
     ]
    }
   ],
   "source": [
    "logics = []\n",
    "\n",
    "spl_chr = \"THEN\"\n",
    "for txt in txts:\n",
    "    if txt != \"\":\n",
    "        logic = {}\n",
    "        logic[txt.rpartition(spl_chr)[2]] = txt.rpartition(spl_chr)[0]\n",
    "        logics.append(logic)\n",
    "    \n",
    "print(logics)"
   ]
  },
  {
   "cell_type": "code",
   "execution_count": 39,
   "metadata": {},
   "outputs": [
    {
     "output_type": "stream",
     "name": "stdout",
     "text": [
      "11400010\n",
      "SELECT * FROM G3E_STYLETYPE_OPTLANG WHERE g3e_sno = '11400010'\n",
      "ORA-00904: \"G3E_SNO\": invalid identifier\n",
      "SELECT * FROM G3E_STYLEOBJECTS_OPTLANG WHERE g3e_sno = '11400010'\n",
      "[(4351, '0009', 11400010, 'ADM_GPB_SHP_1_1', 'AreaStyle', b'(\\xaa\\x896\\x0f\\x1aOI\\x90\\x05\\xe3r\\xc4\\xd0\\x9d\\xbd\\x06\\x00\\x00\\x00\\x01\\x00\\x00\\x00\\xfd\\xff\\xff\\xff\\xfd\\xff\\xff\\xff\\x00\\x00\\x00\\x00\\x00\\x00\\x14@\\x9a\\x99\\x99\\x99\\x99\\x99\\xc9?\\x00\\x00\\x01\\x00\\x00\\x00\\x01\\x00\\x00\\x00\\x01!\\xecmg\\xb4}\\xd3\\x11\\x90\\xcc\\x08\\x0065\\x19\\x03\\x02\\x00\\x00\\x00\\x01\\x00\\xff\\xa0\\x00\\x00\\xc7\\xfbq\\xfb\\xe5\\x93\\xf6?\\x00\\x00\\x00\\x00\\x00\\x00\\x00\\x00\\x04\\x00\\x00\\x00Q\\xabL\\xb3\\x02\\x80\\xd3\\x11\\x90\\xcc\\x08\\x0065\\x19\\x03\\x02\\x00\\x00\\x00\\x85\\x96\\x98\\x00\\x01\\x00\\x00\\x00\\x01\\x04\\x00\\x00\\x00\\x0c\\x93\\xa9\\x82Quj@cb\\xf3qm\\xfcM@\\n\\xdc\\xba\\x9b\\xa7*%@cb\\xf3qm\\xfcM@\\x00\\x00\\x00\\x00\\x08\\x00\\x00\\x00B\\x00O\\x00T\\x00H\\x00\\xd2\\x06\\xae\\x00\\x00\\x00\\x00\\x00J\\xf3\\xad\\x00d\\x00\\x00\\x00d\\x00\\x00\\x00', 0, 1, datetime.datetime(2020, 3, 20, 18, 6, 52))]\n",
      "SELECT * FROM G3E_STYLEFILTERS_OPTLANG WHERE g3e_sno = '11400010'\n",
      "[]\n",
      "SELECT * FROM G3E_STYLECOLORS_OPTABLE WHERE g3e_sno = '11400010'\n",
      "ORA-00904: \"G3E_SNO\": invalid identifier\n",
      "SELECT * FROM G3E_TEXTSTYLE_10100901 WHERE g3e_sno = '11400010'\n",
      "[]\n",
      "SELECT * FROM G3E_STYLERULE_0009 WHERE g3e_sno = '11400010'\n",
      "ORA-00904: \"G3E_SNO\": invalid identifier\n",
      "SELECT * FROM G3E_TEXTSTYLEFONT_OPTABLE WHERE g3e_sno = '11400010'\n",
      "ORA-00904: \"G3E_SNO\": invalid identifier\n",
      "SELECT * FROM G3E_TEXTSTYLE WHERE g3e_sno = '11400010'\n",
      "[]\n",
      "SELECT * FROM G3E_STYLE_0009 WHERE g3e_sno = '11400010'\n",
      "[(11400010, 'ADM_GPB_SHP_1_1', b'(\\xaa\\x896\\x0f\\x1aOI\\x90\\x05\\xe3r\\xc4\\xd0\\x9d\\xbd\\x06\\x00\\x00\\x00\\x01\\x00\\x00\\x00\\xfd\\xff\\xff\\xff\\xfd\\xff\\xff\\xff\\x00\\x00\\x00\\x00\\x00\\x00\\x14@\\x9a\\x99\\x99\\x99\\x99\\x99\\xc9?\\x00\\x00\\x01\\x00\\x00\\x00\\x01\\x00\\x00\\x00\\x01!\\xecmg\\xb4}\\xd3\\x11\\x90\\xcc\\x08\\x0065\\x19\\x03\\x02\\x00\\x00\\x00\\x01\\x00\\xff\\xa0\\x00\\x00\\xc7\\xfbq\\xfb\\xe5\\x93\\xf6?\\x00\\x00\\x00\\x00\\x00\\x00\\x00\\x00\\x04\\x00\\x00\\x00Q\\xabL\\xb3\\x02\\x80\\xd3\\x11\\x90\\xcc\\x08\\x0065\\x19\\x03\\x02\\x00\\x00\\x00\\x85\\x96\\x98\\x00\\x01\\x00\\x00\\x00\\x01\\x04\\x00\\x00\\x00\\x0c\\x93\\xa9\\x82Quj@cb\\xf3qm\\xfcM@\\n\\xdc\\xba\\x9b\\xa7*%@cb\\xf3qm\\xfcM@\\x00\\x00\\x00\\x00\\x08\\x00\\x00\\x00B\\x00O\\x00T\\x00H\\x00\\xd2\\x06\\xae\\x00\\x00\\x00\\x00\\x00J\\xf3\\xad\\x00d\\x00\\x00\\x00d\\x00\\x00\\x00', None, datetime.datetime(2020, 3, 20, 18, 3, 33))]\n",
      "SELECT * FROM G3E_STYLETYPE_0009 WHERE g3e_sno = '11400010'\n",
      "ORA-00904: \"G3E_SNO\": invalid identifier\n",
      "SELECT * FROM G3E_STYLETYPE WHERE g3e_sno = '11400010'\n",
      "ORA-00904: \"G3E_SNO\": invalid identifier\n",
      "SELECT * FROM G3E_STYLERULE WHERE g3e_sno = '11400010'\n",
      "[]\n",
      "SELECT * FROM G3E_STYLEMAPPING_OPTABLE WHERE g3e_sno = '11400010'\n",
      "[]\n",
      "SELECT * FROM G3E_STYLEMAPPING WHERE g3e_sno = '11400010'\n",
      "[]\n",
      "SELECT * FROM G3E_STYLE WHERE g3e_sno = '11400010'\n",
      "[(11400010, 'ADM_GPB_SHP_1_1', 'AreaStyle', b'(\\xaa\\x896\\x0f\\x1aOI\\x90\\x05\\xe3r\\xc4\\xd0\\x9d\\xbd\\x06\\x00\\x00\\x00\\x01\\x00\\x00\\x00\\xfd\\xff\\xff\\xff\\xfd\\xff\\xff\\xff\\x00\\x00\\x00\\x00\\x00\\x00\\x14@\\x9a\\x99\\x99\\x99\\x99\\x99\\xc9?\\x00\\x00\\x01\\x00\\x00\\x00\\x01\\x00\\x00\\x00\\x01!\\xecmg\\xb4}\\xd3\\x11\\x90\\xcc\\x08\\x0065\\x19\\x03\\x02\\x00\\x00\\x00\\x01\\x00\\xff\\xa0\\x00\\x00\\xc7\\xfbq\\xfb\\xe5\\x93\\xf6?\\x00\\x00\\x00\\x00\\x00\\x00\\x00\\x00\\x04\\x00\\x00\\x00Q\\xabL\\xb3\\x02\\x80\\xd3\\x11\\x90\\xcc\\x08\\x0065\\x19\\x03\\x02\\x00\\x00\\x00\\x85\\x96\\x98\\x00\\x01\\x00\\x00\\x00\\x01\\x04\\x00\\x00\\x00\\x0c\\x93\\xa9\\x82Quj@cb\\xf3qm\\xfcM@\\n\\xdc\\xba\\x9b\\xa7*%@cb\\xf3qm\\xfcM@\\x00\\x00\\x00\\x00\\x08\\x00\\x00\\x00B\\x00O\\x00T\\x00H\\x00\\xd2\\x06\\xae\\x00\\x00\\x00\\x00\\x00J\\xf3\\xad\\x00d\\x00\\x00\\x00d\\x00\\x00\\x00', 1, None, datetime.datetime(2015, 6, 12, 17, 2, 8), 0)]\n",
      "SELECT * FROM G3E_POINTSTYLEFONT_OPTABLE WHERE g3e_sno = '11400010'\n",
      "ORA-00904: \"G3E_SNO\": invalid identifier\n",
      "SELECT * FROM G3E_POINTSTYLE WHERE g3e_sno = '11400010'\n",
      "[]\n",
      "SELECT * FROM G3E_LINESTYLE WHERE g3e_sno = '11400010'\n",
      "[]\n",
      "SELECT * FROM G3E_DIMSTYLEGROUP_OPTABLE WHERE g3e_sno = '11400010'\n",
      "ORA-00904: \"G3E_SNO\": invalid identifier\n",
      "SELECT * FROM G3E_COMPOSITELINESTYLE WHERE g3e_sno = '11400010'\n",
      "[]\n",
      "SELECT * FROM G3E_AREASTYLE WHERE g3e_sno = '11400010'\n",
      "[(11400010, 'ADM_GPB_SHP_1_1', -3, 11405010, 1, 0, 0, -3, None, None, 1, datetime.datetime(2015, 6, 12, 17, 2, 8), 100, 100, 1)]\n",
      "SELECT * FROM G3E_STYLELANGMAPPING WHERE g3e_sno = '11400010'\n",
      "[]\n",
      "SELECT * FROM G3E_DIMSTYLEGROUP WHERE g3e_sno = '11400010'\n",
      "ORA-00904: \"G3E_SNO\": invalid identifier\n"
     ]
    }
   ],
   "source": [
    "check = list(logics[0].keys())[0]\n",
    "print(check)\n",
    "for table in tablelist:\n",
    "    sqlstyle = \"SELECT * FROM {table} WHERE g3e_sno = '{styleid}'\".format(table = table, styleid = check)\n",
    "    print(sqlstyle)\n",
    "    try:\n",
    "        cursor.execute(sqlstyle)\n",
    "        fetch = cursor.fetchall()\n",
    "        print(fetch)\n",
    "        styletable = table\n",
    "    except Exception as e:\n",
    "        print(e)      \n"
   ]
  },
  {
   "cell_type": "code",
   "execution_count": 52,
   "metadata": {},
   "outputs": [
    {
     "output_type": "stream",
     "name": "stdout",
     "text": [
      "dict_keys(['11400010'])\n"
     ]
    }
   ],
   "source": []
  },
  {
   "cell_type": "code",
   "execution_count": 5,
   "metadata": {},
   "outputs": [
    {
     "output_type": "stream",
     "name": "stdout",
     "text": [
      "Connection closed\n"
     ]
    }
   ],
   "source": [
    "# close connection\n",
    "if connection:\n",
    "    cursor.close()\n",
    "    connection.close()\n",
    "    print(\"Connection closed\")"
   ]
  }
 ]
}
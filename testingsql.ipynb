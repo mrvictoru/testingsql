{
 "metadata": {
  "language_info": {
   "codemirror_mode": {
    "name": "ipython",
    "version": 3
   },
   "file_extension": ".py",
   "mimetype": "text/x-python",
   "name": "python",
   "nbconvert_exporter": "python",
   "pygments_lexer": "ipython3",
   "version": "3.8.5-final"
  },
  "orig_nbformat": 2,
  "kernelspec": {
   "name": "python3",
   "display_name": "Python 3",
   "language": "python"
  }
 },
 "nbformat": 4,
 "nbformat_minor": 2,
 "cells": [
  {
   "cell_type": "code",
   "execution_count": 2,
   "metadata": {},
   "outputs": [],
   "source": [
    "import config\n",
    "import cx_Oracle\n",
    "import re\n",
    "import pandas as pd\n",
    "import csv\n",
    "\n",
    "pattern = re.compile(r'\\s+')"
   ]
  },
  {
   "cell_type": "code",
   "execution_count": 65,
   "metadata": {},
   "outputs": [
    {
     "output_type": "stream",
     "name": "stdout",
     "text": [
      "Connected\n12.2.0.1.0\n"
     ]
    }
   ],
   "source": [
    "# connect to Oracle DB\n",
    "connection = None\n",
    "try:\n",
    "    connection = cx_Oracle.connect(\n",
    "        config.username,\n",
    "        config.password,\n",
    "        config.dsn,\n",
    "        encoding = \"UTF-8\"\n",
    "    )\n",
    "    print(\"Connected\")\n",
    "    print(connection.version)\n",
    "except cx_Oracle.Error as error:\n",
    "    print(error)\n",
    "\n",
    "cursor = connection.cursor()"
   ]
  },
  {
   "cell_type": "code",
   "execution_count": 123,
   "metadata": {},
   "outputs": [
    {
     "output_type": "stream",
     "name": "stdout",
     "text": [
      "ADM_GMIX_LN_1\nPolylineGeometry\n"
     ]
    }
   ],
   "source": [
    "# set up style view and get the geometrytype of that style's feature\n",
    "view_name = \"V_ADM_GMIX_LN_1\"\n",
    "# if the logic is more difficult then what the program can handle (mainly having \"or\"). dont sort logic statement\n",
    "logichard = False\n",
    "feature_name = view_name[2:]\n",
    "print(feature_name)\n",
    "sql = \"Select g3e_geometrytype from G3E_COMPONENT where G3E_NAME = '{name}'\".format(name = feature_name)\n",
    "cursor.execute(sql)\n",
    "geometrytype = cursor.fetchall()[0][0]\n",
    "print(geometrytype)"
   ]
  },
  {
   "cell_type": "code",
   "execution_count": 124,
   "metadata": {},
   "outputs": [
    {
     "output_type": "stream",
     "name": "stdout",
     "text": [
      "G3E_COMPOSITELINESTYLE\n"
     ]
    }
   ],
   "source": [
    "# hardcode condition to know which styletable for the given style view\n",
    "if geometrytype == \"PolygonGeometry\":\n",
    "    styletable = 'G3E_AREASTYLE'\n",
    "elif geometrytype == \"PolylineGeometry\":\n",
    "    styletable = 'G3E_COMPOSITELINESTYLE'\n",
    "elif geometrytype == \"OrientedPointGeometry\":\n",
    "    styletable = 'G3E_POINTSTYLE'\n",
    "elif geometrytype == \"TextPointGeometry\":\n",
    "    styletable = 'G3E_TEXTSTYLE'\n",
    "elif geometrytype == \"CompositePolylineGeometry\":\n",
    "    styletable = 'G3E_COMPOSITELINESTYLE'\n",
    "\n",
    "print(styletable)"
   ]
  },
  {
   "cell_type": "code",
   "execution_count": 125,
   "metadata": {
    "tags": []
   },
   "outputs": [],
   "source": [
    "# extract text that create the given style view\n",
    "sql = \"SELECT TEXT FROM USER_VIEWS WHERE VIEW_NAME = '{view_name}'\".format(view_name = view_name)\n",
    "cursor.execute(sql)\n",
    "fetch = cursor.fetchall()\n",
    "txts = fetch[0][0]\n",
    "txts = txts.rpartition(\"CASE\")[2]\n",
    "txts = txts.rpartition(\"ELSE\")[0]\n",
    "txts = re.sub(pattern,'',txts)\n",
    "txts = txts.split(\"WHEN\")"
   ]
  },
  {
   "cell_type": "code",
   "execution_count": 126,
   "metadata": {
    "tags": []
   },
   "outputs": [
    {
     "output_type": "stream",
     "name": "stdout",
     "text": [
      "{'21220150': {'A.LINESTYLE': '= 2', 'TRIM(E.CODETEXT)': \"= 'HVSCH'\", \"TRIM(D.CODETEXT)IN('BASE','\": \"= S')\"}, '21220160': {'A.LINESTYLE': '= 2', 'TRIM(E.CODETEXT)': \"= 'HVMAP11KV'\", \"TRIM(D.CODETEXT)IN('BASE','\": \"= S')\"}, '21220170': {'A.LINESTYLE': '= 2', 'TRIM(E.CODETEXT)': \"= 'HVMAP22KV'\", \"TRIM(D.CODETEXT)IN('BASE','\": \"= S')\"}, '21220180': {'A.LINESTYLE': '= 2', 'TRIM(E.CODETEXT)': \"= 'LVSCH'\", 'TRIM(D.CODETEXT)': \"= 'BASE'\"}, '21220190': {'A.LINESTYLE': '= 2', 'TRIM(E.CODETEXT)': \"= 'LVMAP'\", 'TRIM(D.CODETEXT)': \"= 'BASE'\"}, '21220200': {'A.LINESTYLE': '= 2', 'TRIM(E.CODETEXT)': \"= 'SOLKOR'\", 'TRIM(D.CODETEXT)': \"= 'BASE'\"}, '21220210': {'A.LINESTYLE': '= 2', 'TRIM(E.CODETEXT)': \"= ('ADM','DT')\", 'TRIM(D.CODETEXT)': \"= 'BASE'\"}, '21220220': {'A.LINESTYLE': '= 2', 'TRIM(E.CODETEXT)': \"= 'PT'\", 'TRIM(D.CODETEXT)': \"= 'BASE'\"}, '21220230': {'A.LINESTYLE': '= 2', 'TRIM(E.CODETEXT)': \"= 'TRMAP66KV'\", 'TRIM(D.CODETEXT)': \"= 'BASE'\"}, '21220240': {'A.LINESTYLE': '= 2', 'TRIM(E.CODETEXT)': \"= 'TRMAP132KV'\", 'TRIM(D.CODETEXT)': \"= 'BASE'\"}, '21220250': {'A.LINESTYLE': '= 2', 'TRIM(E.CODETEXT)': \"= 'TRMAP275KV'\", 'TRIM(D.CODETEXT)': \"= 'BASE'\"}, '21220010': {'TRIM(E.CODETEXT)': \"= ('HVMAP11KV','HVSCH')\", \"TRIM(D.CODETEXT)IN('BASE','\": \"= S')\"}, '21220020': {'TRIM(E.CODETEXT)': \"= ('HVMAP11KV','HVSCH','HVMAP22KV')\", 'TRIM(D.CODETEXT)': \"= ('ABA','ABM','ABX','ABR')\"}, '21220030': {'TRIM(E.CODETEXT)': \"= ('HVMAP11KV','HVSCH','HVMAP22KV')\", 'TRIM(D.CODETEXT)': \"= ('PPM','PPR','PPX')\"}, '21220040': {'TRIM(E.CODETEXT)': \"= ('HVMAP11KV','HVSCH','HVMAP22KV')\", 'TRIM(D.CODETEXT)': \"= 'RES'\"}, '21220050': {'TRIM(E.CODETEXT)': \"= ('HVMAP11KV','HVSCH','HVMAP22KV')\", 'TRIM(D.CODETEXT)': \"= 'APA'\"}, '21220060': {'TRIM(E.CODETEXT)': \"= 'HVMAP22KV'\", \"TRIM(D.CODETEXT)IN('BASE','\": \"= S')\"}, '21220070': {'TRIM(E.CODETEXT)': \"= ('HVMAP11KV','HVMP22KV','HVSCH','LVMAP','LVSCH','SOLKOR','TRMAP66KV','TRMAP132KV','TRMAP275KV','PT')\", 'TRIM(D.CODETEXT)': \"= 'PPA'\"}, '21220080': {'TRIM(E.CODETEXT)': \"= ('LVMAP','LVSCH')\", 'TRIM(D.CODETEXT)': \"= 'BASE'\"}, '21220090': {'TRIM(E.CODETEXT)': \"= 'SOLKOR'\", 'TRIM(D.CODETEXT)': \"= 'BASE'\"}, '21220100': {'TRIM(E.CODETEXT)': \"= ('ADM','DT')\", 'TRIM(D.CODETEXT)': \"= 'BASE'\"}, '21220110': {'TRIM(E.CODETEXT)': \"= 'PT'\", 'TRIM(D.CODETEXT)': \"= 'BASE'\"}, '21220120': {'TRIM(E.CODETEXT)': \"= 'TRMAP66KV'\", 'TRIM(D.CODETEXT)': \"= 'BASE'\"}, '21220130': {'TRIM(E.CODETEXT)': \"= 'TRMAP132KV'\", 'TRIM(D.CODETEXT)': \"= 'BASE'\"}, '21220140': {'TRIM(E.CODETEXT)': \"= 'TRMAP275KV'\", 'TRIM(D.CODETEXT)': \"= 'BASE'\"}}\n"
     ]
    }
   ],
   "source": [
    "# extract cause(logic condition) and effect(styleid) into dict\n",
    "logics = {}\n",
    "\n",
    "spl_chr = \"THEN\"\n",
    "spl_and = \"AND\"\n",
    "spl_or = \"OR\"\n",
    "spl_eq = \"=\"\n",
    "spl_neq = \"<>\"\n",
    "spl_geq = \">=\"\n",
    "spl_seq = \"<=\"\n",
    "spl_g = \">\"\n",
    "spl_s = \"<\"\n",
    "spl_in = \"IN\"\n",
    "spl_notin = \"NOTIN\"\n",
    "for txt in txts:\n",
    "    if txt != \"\":\n",
    "        styleid = txt.rpartition(spl_chr)[2]\n",
    "        content = txt.rpartition(spl_chr)[0]\n",
    "        if not logichard:\n",
    "            logic = {}\n",
    "            if spl_and in content:\n",
    "                cond_list = content.split(spl_and)\n",
    "                for cond in cond_list:\n",
    "                    if spl_eq in cond:\n",
    "                        logic.update({cond.rpartition(spl_eq)[0]:\"= \" + cond.rpartition(spl_eq)[2]})\n",
    "                    elif spl_neq in cond:\n",
    "                        logic.update({cond.rpartition(spl_neq)[0]:\"<> \" + cond.rpartition(spl_neq)[2]})\n",
    "                    elif spl_geq in cond:\n",
    "                        logic.update({cond.rpartition(spl_geq)[0]:\">= \" + cond.rpartition(spl_geq)[2]})\n",
    "                    elif spl.seq in cond:\n",
    "                        logic.update({cond.rpartition(spl_seq)[0]:\"<= \" + cond.rpartition(spl_seq)[2]})\n",
    "                    elif sql.g in cond:\n",
    "                        logic.update({cond.rpartition(spl_g)[0]:\"> \" + cond.rpartition(spl_g)[2]})\n",
    "                    elif sql.s in cond:\n",
    "                        logic.update({cond.rpartition(spl_s)[0]:\"< \" + cond.rpartition(spl_s)[2]})\n",
    "                    elif spl_notin in cond:\n",
    "                        logic.update({cond.rpartition(spl_notin)[0]:\"NOT \" + cond.rpartition(spl_notin)[2]})\n",
    "                    elif spl_in in cond:\n",
    "                        logic.update({cond.rpartition(spl_in)[0]:\"= \" + cond.rpartition(spl_in)[2]})\n",
    "                    \n",
    "            else:\n",
    "                if spl_eq in content:\n",
    "                    logic.update({content.rpartition(spl_eq)[0]:\"= \" + content.rpartition(spl_eq)[2]})\n",
    "                elif spl_neq in content:\n",
    "                    logic.update({content.rpartition(spl_neq)[0]:\"<> \" + content.rpartition(spl_neq)[2]})\n",
    "                elif spl_geq in content:\n",
    "                    logic.update({content.rpartition(spl_geq)[0]:\">= \" + content.rpartition(spl_geq)[2]})\n",
    "                elif spl.seq in content:\n",
    "                    logic.update({content.rpartition(spl_seq)[0]:\"<= \" + content.rpartition(spl_seq)[2]})\n",
    "                elif sql.g in content:\n",
    "                    logic.update({content.rpartition(spl_g)[0]:\"> \" + content.rpartition(spl_g)[2]})\n",
    "                elif sql.s in content:\n",
    "                    logic.update({content.rpartition(spl_s)[0]:\"< \" + content.rpartition(spl_s)[2]})\n",
    "                elif spl_notin in content:\n",
    "                    logic.update({content.rpartition(spl_notin)[0]:\"NOT \" + content.rpartition(spl_notin)[2]})\n",
    "                elif spl_in in content:\n",
    "                    logic.update({content.rpartition(spl_in)[0]:\"= \" + content.rpartition(spl_in)[2]})\n",
    "        else:\n",
    "            logic = content\n",
    "\n",
    "        index = len(styleid)\n",
    "        # remove comment that often tag behind style id\n",
    "        for i in styleid:\n",
    "            if not i.isdigit():\n",
    "                index = styleid.index(i)\n",
    "                break\n",
    "        styleid = styleid[:index]\n",
    "        # update logic with corresponding styleid\n",
    "        logics.update({styleid : logic})\n",
    "    \n",
    "print(logics)"
   ]
  },
  {
   "cell_type": "code",
   "execution_count": 127,
   "metadata": {
    "tags": []
   },
   "outputs": [
    {
     "output_type": "stream",
     "name": "stdout",
     "text": [
      "{'21220150': {'G3E_COLOR': [255], 'G3E_WIDTH': [0.04], 'G3E_OFFSET': [0], 'G3E_STARTSYMBOL': [None], 'G3E_ENDSYMBOL': [None], 'G3E_STROKEPATTERN': [2000010], 'G3E_PLOTREDLINE': [1], 'G3E_STYLEUNITS': [3], 'G3E_TRANSLUCENCY': [None]}, '21220160': {'G3E_COLOR': [255], 'G3E_WIDTH': [0.04], 'G3E_OFFSET': [0], 'G3E_STARTSYMBOL': [None], 'G3E_ENDSYMBOL': [None], 'G3E_STROKEPATTERN': [2000003], 'G3E_PLOTREDLINE': [1], 'G3E_STYLEUNITS': [3], 'G3E_TRANSLUCENCY': [None]}, '21220170': {'G3E_COLOR': [14459090], 'G3E_WIDTH': [0.04], 'G3E_OFFSET': [0], 'G3E_STARTSYMBOL': [None], 'G3E_ENDSYMBOL': [None], 'G3E_STROKEPATTERN': [2000003], 'G3E_PLOTREDLINE': [1], 'G3E_STYLEUNITS': [3], 'G3E_TRANSLUCENCY': [None]}, '21220180': {'G3E_COLOR': [16776960], 'G3E_WIDTH': [0.04], 'G3E_OFFSET': [0], 'G3E_STARTSYMBOL': [None], 'G3E_ENDSYMBOL': [None], 'G3E_STROKEPATTERN': [2000010], 'G3E_PLOTREDLINE': [1], 'G3E_STYLEUNITS': [3], 'G3E_TRANSLUCENCY': [None]}, '21220190': {'G3E_COLOR': [16776960], 'G3E_WIDTH': [0.04], 'G3E_OFFSET': [0], 'G3E_STARTSYMBOL': [None], 'G3E_ENDSYMBOL': [None], 'G3E_STROKEPATTERN': [2000003], 'G3E_PLOTREDLINE': [1], 'G3E_STYLEUNITS': [3], 'G3E_TRANSLUCENCY': [None]}, '21220200': {'G3E_COLOR': [14459090], 'G3E_WIDTH': [0.04], 'G3E_OFFSET': [0], 'G3E_STARTSYMBOL': [None], 'G3E_ENDSYMBOL': [None], 'G3E_STROKEPATTERN': [2000003], 'G3E_PLOTREDLINE': [1], 'G3E_STYLEUNITS': [3], 'G3E_TRANSLUCENCY': [None]}, '21220210': {'G3E_COLOR': [13487565], 'G3E_WIDTH': [0.04], 'G3E_OFFSET': [0], 'G3E_STARTSYMBOL': [None], 'G3E_ENDSYMBOL': [None], 'G3E_STROKEPATTERN': [2000003], 'G3E_PLOTREDLINE': [1], 'G3E_STYLEUNITS': [3], 'G3E_TRANSLUCENCY': [None]}, '21220220': {'G3E_COLOR': [16711935], 'G3E_WIDTH': [0.04], 'G3E_OFFSET': [0], 'G3E_STARTSYMBOL': [None], 'G3E_ENDSYMBOL': [None], 'G3E_STROKEPATTERN': [2000003], 'G3E_PLOTREDLINE': [1], 'G3E_STYLEUNITS': [3], 'G3E_TRANSLUCENCY': [None]}, '21220230': {'G3E_COLOR': [65280], 'G3E_WIDTH': [0.04], 'G3E_OFFSET': [0], 'G3E_STARTSYMBOL': [None], 'G3E_ENDSYMBOL': [None], 'G3E_STROKEPATTERN': [2000003], 'G3E_PLOTREDLINE': [1], 'G3E_STYLEUNITS': [3], 'G3E_TRANSLUCENCY': [None]}, '21220240': {'G3E_COLOR': [49920], 'G3E_WIDTH': [0.04], 'G3E_OFFSET': [0], 'G3E_STARTSYMBOL': [None], 'G3E_ENDSYMBOL': [None], 'G3E_STROKEPATTERN': [2000003], 'G3E_PLOTREDLINE': [1], 'G3E_STYLEUNITS': [3], 'G3E_TRANSLUCENCY': [None]}, '21220250': {'G3E_COLOR': [37120], 'G3E_WIDTH': [0.04], 'G3E_OFFSET': [0], 'G3E_STARTSYMBOL': [None], 'G3E_ENDSYMBOL': [None], 'G3E_STROKEPATTERN': [2000003], 'G3E_PLOTREDLINE': [1], 'G3E_STYLEUNITS': [3], 'G3E_TRANSLUCENCY': [None]}, '21220010': {'G3E_COLOR': [255], 'G3E_WIDTH': [0.04], 'G3E_OFFSET': [None], 'G3E_STARTSYMBOL': [None], 'G3E_ENDSYMBOL': [None], 'G3E_STROKEPATTERN': [None], 'G3E_PLOTREDLINE': [1], 'G3E_STYLEUNITS': [3], 'G3E_TRANSLUCENCY': [None]}, '21220020': {'G3E_COLOR': [11572735], 'G3E_WIDTH': [0.04], 'G3E_OFFSET': [None], 'G3E_STARTSYMBOL': [None], 'G3E_ENDSYMBOL': [None], 'G3E_STROKEPATTERN': [None], 'G3E_PLOTREDLINE': [1], 'G3E_STYLEUNITS': [3], 'G3E_TRANSLUCENCY': [None]}, '21220030': {'G3E_COLOR': [47615], 'G3E_WIDTH': [0.04], 'G3E_OFFSET': [None], 'G3E_STARTSYMBOL': [None], 'G3E_ENDSYMBOL': [None], 'G3E_STROKEPATTERN': [None], 'G3E_PLOTREDLINE': [1], 'G3E_STYLEUNITS': [3], 'G3E_TRANSLUCENCY': [None]}, '21220040': {'G3E_COLOR': [8882055], 'G3E_WIDTH': [0.04], 'G3E_OFFSET': [None], 'G3E_STARTSYMBOL': [None], 'G3E_ENDSYMBOL': [None], 'G3E_STROKEPATTERN': [None], 'G3E_PLOTREDLINE': [1], 'G3E_STYLEUNITS': [3], 'G3E_TRANSLUCENCY': [None]}, '21220050': {'G3E_COLOR': [11568304], 'G3E_WIDTH': [0.04], 'G3E_OFFSET': [None], 'G3E_STARTSYMBOL': [None], 'G3E_ENDSYMBOL': [None], 'G3E_STROKEPATTERN': [None], 'G3E_PLOTREDLINE': [1], 'G3E_STYLEUNITS': [3], 'G3E_TRANSLUCENCY': [None]}, '21220060': {'G3E_COLOR': [14459090], 'G3E_WIDTH': [0.04], 'G3E_OFFSET': [None], 'G3E_STARTSYMBOL': [None], 'G3E_ENDSYMBOL': [None], 'G3E_STROKEPATTERN': [None], 'G3E_PLOTREDLINE': [1], 'G3E_STYLEUNITS': [3], 'G3E_TRANSLUCENCY': [None]}, '21220070': {'G3E_COLOR': [47615], 'G3E_WIDTH': [0.04], 'G3E_OFFSET': [None], 'G3E_STARTSYMBOL': [None], 'G3E_ENDSYMBOL': [None], 'G3E_STROKEPATTERN': [None], 'G3E_PLOTREDLINE': [1], 'G3E_STYLEUNITS': [3], 'G3E_TRANSLUCENCY': [None]}, '21220080': {'G3E_COLOR': [16776960], 'G3E_WIDTH': [0.04], 'G3E_OFFSET': [None], 'G3E_STARTSYMBOL': [None], 'G3E_ENDSYMBOL': [None], 'G3E_STROKEPATTERN': [None], 'G3E_PLOTREDLINE': [1], 'G3E_STYLEUNITS': [3], 'G3E_TRANSLUCENCY': [None]}, '21220090': {'G3E_COLOR': [14459090], 'G3E_WIDTH': [0.04], 'G3E_OFFSET': [None], 'G3E_STARTSYMBOL': [None], 'G3E_ENDSYMBOL': [None], 'G3E_STROKEPATTERN': [None], 'G3E_PLOTREDLINE': [1], 'G3E_STYLEUNITS': [3], 'G3E_TRANSLUCENCY': [None]}, '21220100': {'G3E_COLOR': [13487565], 'G3E_WIDTH': [0.04], 'G3E_OFFSET': [None], 'G3E_STARTSYMBOL': [None], 'G3E_ENDSYMBOL': [None], 'G3E_STROKEPATTERN': [None], 'G3E_PLOTREDLINE': [1], 'G3E_STYLEUNITS': [3], 'G3E_TRANSLUCENCY': [None]}, '21220110': {'G3E_COLOR': [16711935], 'G3E_WIDTH': [0.04], 'G3E_OFFSET': [None], 'G3E_STARTSYMBOL': [None], 'G3E_ENDSYMBOL': [None], 'G3E_STROKEPATTERN': [None], 'G3E_PLOTREDLINE': [1], 'G3E_STYLEUNITS': [3], 'G3E_TRANSLUCENCY': [None]}, '21220120': {'G3E_COLOR': [65280], 'G3E_WIDTH': [0.04], 'G3E_OFFSET': [None], 'G3E_STARTSYMBOL': [None], 'G3E_ENDSYMBOL': [None], 'G3E_STROKEPATTERN': [None], 'G3E_PLOTREDLINE': [1], 'G3E_STYLEUNITS': [3], 'G3E_TRANSLUCENCY': [None]}, '21220130': {'G3E_COLOR': [49920], 'G3E_WIDTH': [0.04], 'G3E_OFFSET': [None], 'G3E_STARTSYMBOL': [None], 'G3E_ENDSYMBOL': [None], 'G3E_STROKEPATTERN': [None], 'G3E_PLOTREDLINE': [1], 'G3E_STYLEUNITS': [3], 'G3E_TRANSLUCENCY': [None]}, '21220140': {'G3E_COLOR': [37120], 'G3E_WIDTH': [0.04], 'G3E_OFFSET': [None], 'G3E_STARTSYMBOL': [None], 'G3E_ENDSYMBOL': [None], 'G3E_STROKEPATTERN': [None], 'G3E_PLOTREDLINE': [1], 'G3E_STYLEUNITS': [3], 'G3E_TRANSLUCENCY': [None]}}\n"
     ]
    }
   ],
   "source": [
    "# get the relevant information for the given style id\n",
    "styles = {}\n",
    "# check if compositeline, as they have a seperate method of getting style info\n",
    "if styletable != 'G3E_COMPOSITELINESTYLE':\n",
    "    for styleid in logics.keys():\n",
    "        sqlstyle = \"SELECT * FROM {table} WHERE g3e_sno = '{styleid}'\".format(table = styletable, styleid = styleid)\n",
    "        df=pd.read_sql(sqlstyle,con=connection)\n",
    "        data = df.to_dict(orient = 'list')\n",
    "        # remove useless stuff\n",
    "        data.pop('G3E_SNO', None)\n",
    "        data.pop('G3E_USERNAME', None)\n",
    "        data.pop('G3E_EDITDATE', None)\n",
    "\n",
    "        styles.update({styleid:data})\n",
    "else:\n",
    "    for styleid in logics.keys():\n",
    "        sqlstyle = \"SELECT b.* FROM G3E_COMPOSITELINESTYLE a JOIN g3e_linestyle b on a.g3e_line1 = b.g3e_sno WHERE a.g3e_sno = '{styleid}'\".format(styleid = styleid)\n",
    "        df1=pd.read_sql(sqlstyle,con=connection)\n",
    "        # remove useless stuff\n",
    "        df1 = df1.drop(df1.columns[[0,1,3,4,5,6,9,10,11]], axis = 1)\n",
    "\n",
    "        sqlstyle = \"SELECT c.* FROM G3E_COMPOSITELINESTYLE a JOIN g3e_linestyle c on a.g3e_line2 = c.g3e_sno WHERE a.g3e_sno = '{styleid}'\".format(styleid = styleid)\n",
    "        df2=pd.read_sql(sqlstyle,con=connection)\n",
    "        # remove useless stuff\n",
    "        df2 = df2.drop(df2.columns[[0,1,3,4,5,6,9,10,11]], axis = 1)\n",
    "\n",
    "        df = pd.concat([df1,df2], axis = 1)\n",
    "        # rename column that has the same name\n",
    "        cols = pd.Series(df.columns)            \n",
    "        for dup in df.columns[df.columns.duplicated(keep=False)]:\n",
    "            cols[df.columns.get_loc(dup)] = ([dup + '.' + str(d_idx) if d_idx != 0 else dup for d_idx in range(df.columns.get_loc(dup).sum())])\n",
    "        df.columns = cols\n",
    "        data = df.to_dict(orient = 'list')\n",
    "\n",
    "        if df.empty:\n",
    "            sqlstyle = \"SELECT * FROM G3E_LINESTYLE WHERE g3e_sno = '{styleid}'\".format(table = styletable, styleid = styleid)\n",
    "            df=pd.read_sql(sqlstyle,con=connection)\n",
    "            data = df.to_dict(orient = 'list')\n",
    "            # remove useless stuff\n",
    "            data.pop('G3E_SNO', None)\n",
    "            data.pop('G3E_USERNAME', None)\n",
    "            data.pop('G3E_EDITDATE', None)\n",
    "        \n",
    "\n",
    "        styles.update({styleid:data})\n",
    "\n",
    "print(styles)"
   ]
  },
  {
   "cell_type": "code",
   "execution_count": 128,
   "metadata": {
    "tags": []
   },
   "outputs": [],
   "source": [
    "df1 = pd.DataFrame.from_dict({(i): styles[i]\n",
    "                                for i in styles.keys()},\n",
    "                                orient = 'index')\n",
    "df2 = pd.DataFrame.from_dict({(i): logics[i]\n",
    "                                for i in logics.keys()},\n",
    "                                orient = 'index')\n",
    "\n",
    "df = pd.concat([df1,df2], axis = 1)"
   ]
  },
  {
   "cell_type": "code",
   "execution_count": 129,
   "metadata": {},
   "outputs": [],
   "source": [
    "filename = view_name + \".csv\"\n",
    "csvdata = df.to_csv()\n",
    "with open(filename,'w') as f:\n",
    "    f.write(csvdata)\n",
    "    "
   ]
  },
  {
   "cell_type": "code",
   "execution_count": 11,
   "metadata": {},
   "outputs": [
    {
     "output_type": "stream",
     "name": "stdout",
     "text": [
      "Connection closed\n"
     ]
    }
   ],
   "source": [
    "# close connection\n",
    "if connection:\n",
    "    cursor.close()\n",
    "    connection.close()\n",
    "    print(\"Connection closed\")"
   ]
  }
 ]
}
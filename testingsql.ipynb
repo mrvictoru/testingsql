{
 "metadata": {
  "language_info": {
   "codemirror_mode": {
    "name": "ipython",
    "version": 3
   },
   "file_extension": ".py",
   "mimetype": "text/x-python",
   "name": "python",
   "nbconvert_exporter": "python",
   "pygments_lexer": "ipython3",
   "version": "3.8.8"
  },
  "orig_nbformat": 2,
  "kernelspec": {
   "name": "python388jvsc74a57bd07e32a5934c5b659051144233c5c8473f81f36261514d0d1c6d1ecf878871908a",
   "display_name": "Python 3.8.8 64-bit ('base': conda)"
  }
 },
 "nbformat": 4,
 "nbformat_minor": 2,
 "cells": [
  {
   "cell_type": "code",
   "execution_count": 1,
   "metadata": {},
   "outputs": [],
   "source": [
    "import config\n",
    "import cx_Oracle\n",
    "import re\n",
    "import pandas as pd\n",
    "import csv\n"
   ]
  },
  {
   "cell_type": "code",
   "execution_count": 2,
   "metadata": {},
   "outputs": [
    {
     "output_type": "stream",
     "name": "stdout",
     "text": [
      "Connected\n12.2.0.1.0\n"
     ]
    }
   ],
   "source": [
    "# connect to Oracle DB\n",
    "connection = None\n",
    "try:\n",
    "    connection = cx_Oracle.connect(\n",
    "        config.username,\n",
    "        config.password,\n",
    "        config.dsn,\n",
    "        encoding = \"UTF-8\"\n",
    "    )\n",
    "    print(\"Connected\")\n",
    "    print(connection.version)\n",
    "except cx_Oracle.Error as error:\n",
    "    print(error)\n",
    "\n",
    "cursor = connection.cursor()"
   ]
  },
  {
   "cell_type": "code",
   "execution_count": 3,
   "metadata": {},
   "outputs": [
    {
     "output_type": "stream",
     "name": "stdout",
     "text": [
      "LV_SEC_DEPTH_TX\nTextPointGeometry\n"
     ]
    }
   ],
   "source": [
    "# set up style view and get the geometrytype of that style's feature\n",
    "view_name = \"V_LV_SEC_DEPTH_TX\"\n",
    "# if the logic is more difficult then what the program can handle (mainly having \"or\"). dont sort logic statement\n",
    "logichard = True\n",
    "feature_name = view_name[2:]\n",
    "print(feature_name)\n",
    "sql = \"Select g3e_geometrytype from G3E_COMPONENT where G3E_NAME = '{name}'\".format(name = feature_name)\n",
    "cursor.execute(sql)\n",
    "geometrytype = cursor.fetchall()[0][0]\n",
    "print(geometrytype)"
   ]
  },
  {
   "cell_type": "code",
   "execution_count": 4,
   "metadata": {},
   "outputs": [
    {
     "output_type": "stream",
     "name": "stdout",
     "text": [
      "G3E_TEXTSTYLE\n"
     ]
    }
   ],
   "source": [
    "# hardcode condition to know which styletable for the given style view\n",
    "if geometrytype == \"PolygonGeometry\":\n",
    "    styletable = 'G3E_AREASTYLE'\n",
    "elif geometrytype == \"PolylineGeometry\":\n",
    "    styletable = 'G3E_COMPOSITELINESTYLE'\n",
    "elif geometrytype == \"OrientedPointGeometry\":\n",
    "    styletable = 'G3E_POINTSTYLE'\n",
    "elif geometrytype == \"TextPointGeometry\":\n",
    "    styletable = 'G3E_TEXTSTYLE'\n",
    "elif geometrytype == \"CompositePolylineGeometry\":\n",
    "    styletable = 'G3E_COMPOSITELINESTYLE'\n",
    "\n",
    "print(styletable)"
   ]
  },
  {
   "cell_type": "code",
   "execution_count": 17,
   "metadata": {
    "tags": []
   },
   "outputs": [],
   "source": [
    "# extract text that create the given style view\n",
    "pattern = re.compile(r'\\s+')\n",
    "sql = \"SELECT TEXT FROM USER_VIEWS WHERE VIEW_NAME = '{view_name}'\".format(view_name = view_name)\n",
    "cursor.execute(sql)\n",
    "fetch = cursor.fetchall()\n",
    "txts = fetch[0][0]\n",
    "txts = txts.rpartition(\"SELECT CASE\")[2]\n",
    "txts = txts.split(\"END\", 1)[0]\n",
    "txts = re.sub(pattern,'',txts)\n",
    "default = txts.rpartition(\"ELSE\")[2]\n",
    "txts = txts.rpartition(\"ELSE\")[0]\n",
    "txts = txts.split(\"WHEN\")"
   ]
  },
  {
   "cell_type": "code",
   "execution_count": 18,
   "metadata": {},
   "outputs": [
    {
     "output_type": "execute_result",
     "data": {
      "text/plain": [
       "['',\n",
       " \"TRIM(D.CODETEXT)IN('INS','ABN','RES')THEN45760030\",\n",
       " \"TRIM(D.CODETEXT)IN('ABA','ABM','ABX','ABR')THEN45760190\",\n",
       " \"TRIM(D.CODETEXT)IN('PPA','PPM','PPX','PPR')THEN45760200\",\n",
       " \"TRIM(D.CODETEXT)IN('ABN','RES','CLO')THEN45760210\",\n",
       " \"TRIM(D.CODETEXT)='APA'THEN45760220\"]"
      ]
     },
     "metadata": {},
     "execution_count": 18
    }
   ],
   "source": [
    "txts"
   ]
  },
  {
   "cell_type": "code",
   "execution_count": 87,
   "metadata": {},
   "outputs": [],
   "source": [
    "# find in use style id for given table\n",
    "sql = \"SELECT DISTINCT (g3e_styleid) FROM {view}\".format(view = view_name)\n",
    "dfid = pd.read_sql(sql,con=connection)"
   ]
  },
  {
   "cell_type": "code",
   "execution_count": 88,
   "metadata": {
    "tags": []
   },
   "outputs": [
    {
     "output_type": "stream",
     "name": "stdout",
     "text": [
      "{'14910000': {}, '14910010': {'logic': \"TRIM(E.CODETEXT)='UNKNOWNROUTE'ANDTRIM(D.CODETEXT)='INS'\", 'In Used': 'YES'}, '14910020': {'logic': \"TRIM(E.CODETEXT)='UNKNOWNROUTE'ANDTRIM(D.CODETEXT)IN('PPA','PPM','PPR','PPX')\"}, '14910030': {'logic': \"TRIM(E.CODETEXT)='UNKNOWNROUTE'ANDTRIM(D.CODETEXT)IN('ABA','ABM','ABR','ABX')\"}, '14910040': {'logic': \"TRIM(E.CODETEXT)='UNKNOWNROUTE'ANDTRIM(D.CODETEXT)='APA'\"}, '14910050': {'logic': \"TRIM(D.CODETEXT)='INS'ANDTRIM(E.CODETEXT)='SUBMARINECABLE'ANDTRIM(C.WATER_TREE)='YES'\"}, '14910060': {'logic': \"TRIM(D.CODETEXT)='INS'ANDTRIM(E.CODETEXT)='SUBMARINECABLE'ANDTRIM(C.INGRESS_STATUS)='YES'\"}, '14910070': {'logic': \"TRIM(D.CODETEXT)='INS'ANDTRIM(E.CODETEXT)='SUBMARINECABLE'\"}, '14910080': {'logic': \"TRIM(D.CODETEXT)='INS'ANDTRIM(C.WATER_TREE)='YES'\"}, '14910090': {'logic': \"TRIM(D.CODETEXT)='INS'ANDTRIM(C.INGRESS_STATUS)='YES'\"}, '14910100': {'logic': \"TRIM(D.CODETEXT)='INS'\", 'In Used': 'YES'}, '14910110': {'logic': \"TRIM(D.CODETEXT)IN('ABN','RES')ANDTRIM(E.CODETEXT)='SUBMARINECABLE'ANDTRIM(C.WATER_TREE)='YES'\"}, '14910120': {'logic': \"TRIM(D.CODETEXT)IN('ABN','RES')ANDTRIM(E.CODETEXT)='SUBMARINECABLE'ANDTRIM(C.INGRESS_STATUS)='YES'\"}, '14910130': {'logic': \"TRIM(D.CODETEXT)IN('ABN','RES')ANDTRIM(E.CODETEXT)='SUBMARINECABLE'\"}, '14910140': {'logic': \"TRIM(D.CODETEXT)IN('ABN','RES')ANDTRIM(C.WATER_TREE)='YES'\"}, '14910150': {'logic': \"TRIM(D.CODETEXT)IN('ABN','RES')ANDTRIM(C.INGRESS_STATUS)='YES'\"}, '14910160': {'logic': \"TRIM(D.CODETEXT)IN('ABN','RES')\", 'In Used': 'YES'}, '14910170': {'logic': \"TRIM(D.CODETEXT)='PPA'ANDTRIM(E.CODETEXT)='SUBMARINECABLE'\"}, '14910180': {'logic': \"TRIM(D.CODETEXT)='PPA'\"}, '14910190': {'logic': \"TRIM(D.CODETEXT)='PPM'ANDTRIM(E.CODETEXT)='SUBMARINECABLE'\"}, '14910200': {'logic': \"TRIM(D.CODETEXT)='PPM'\"}, '14910210': {'logic': \"TRIM(D.CODETEXT)='PPR'ANDTRIM(E.CODETEXT)='SUBMARINECABLE'\"}, '14910220': {'logic': \"TRIM(D.CODETEXT)='PPR'\"}, '14910230': {'logic': \"TRIM(D.CODETEXT)='PPX'ANDTRIM(E.CODETEXT)='SUBMARINECABLE'\"}, '14910240': {'logic': \"TRIM(D.CODETEXT)='PPX'\"}, '14910250': {'logic': \"TRIM(D.CODETEXT)='ABA'ANDTRIM(E.CODETEXT)='SUBMARINECABLE'\"}, '14910260': {'logic': \"TRIM(D.CODETEXT)='ABA'\"}, '14910270': {'logic': \"TRIM(D.CODETEXT)='ABM'ANDTRIM(E.CODETEXT)='SUBMARINECABLE'\"}, '14910280': {'logic': \"TRIM(D.CODETEXT)='ABM'\"}, '14910290': {'logic': \"TRIM(D.CODETEXT)='ABR'ANDTRIM(E.CODETEXT)='SUBMARINECABLE'\"}, '14910300': {'logic': \"TRIM(D.CODETEXT)='ABR'\"}, '14910310': {'logic': \"TRIM(D.CODETEXT)='ABX'ANDTRIM(E.CODETEXT)='SUBMARINECABLE'\"}, '14910320': {'logic': \"TRIM(D.CODETEXT)='ABX'\"}, '14910330': {'logic': \"TRIM(D.CODETEXT)='APA'ANDTRIM(E.CODETEXT)='SUBMARINECABLE'\"}, '14910340': {'logic': \"TRIM(D.CODETEXT)='APA'\"}}\n"
     ]
    }
   ],
   "source": [
    "# extract cause(logic condition) and effect(styleid) into dict\n",
    "logics = {}\n",
    "logics.update({default:{}})\n",
    "\n",
    "spl_chr = \"THEN\"\n",
    "spl_and = \"AND\"\n",
    "spl_or = \"OR\"\n",
    "spl_eq = \"=\"\n",
    "spl_neq = \"<>\"\n",
    "spl_geq = \">=\"\n",
    "spl_seq = \"<=\"\n",
    "spl_g = \">\"\n",
    "spl_s = \"<\"\n",
    "spl_in = \"IN(\"\n",
    "spl_notin = \"NOTIN\"\n",
    "for txt in txts:\n",
    "    if txt != \"\":\n",
    "        styleid = txt.rpartition(spl_chr)[2]\n",
    "        content = txt.rpartition(spl_chr)[0]\n",
    "        logic = {}\n",
    "        if not logichard:\n",
    "            if spl_and in content:\n",
    "                cond_list = content.split(spl_and)\n",
    "                for cond in cond_list:\n",
    "                    if spl_eq in cond:\n",
    "                        logic.update({cond.rpartition(spl_eq)[0]:\"= \" + cond.rpartition(spl_eq)[2]})\n",
    "                    elif spl_neq in cond:\n",
    "                        logic.update({cond.rpartition(spl_neq)[0]:\"<> \" + cond.rpartition(spl_neq)[2]})\n",
    "                    elif spl_geq in cond:\n",
    "                        logic.update({cond.rpartition(spl_geq)[0]:\">= \" + cond.rpartition(spl_geq)[2]})\n",
    "                    elif spl_seq in cond:\n",
    "                        logic.update({cond.rpartition(spl_seq)[0]:\"<= \" + cond.rpartition(spl_seq)[2]})\n",
    "                    elif spl_g in cond:\n",
    "                        logic.update({cond.rpartition(spl_g)[0]:\"> \" + cond.rpartition(spl_g)[2]})\n",
    "                    elif spl_s in cond:\n",
    "                        logic.update({cond.rpartition(spl_s)[0]:\"< \" + cond.rpartition(spl_s)[2]})\n",
    "                    elif spl_notin in cond:\n",
    "                        logic.update({cond.rpartition(spl_notin)[0]:\"NOT \" + cond.rpartition(spl_notin)[2]})\n",
    "                    elif spl_in in cond:\n",
    "                        logic.update({cond.rpartition(spl_in)[0]:\"= \" + cond.rpartition(spl_in)[2]})\n",
    "                    \n",
    "            else:\n",
    "                if spl_eq in content:\n",
    "                    logic.update({content.rpartition(spl_eq)[0]:\"= \" + content.rpartition(spl_eq)[2]})\n",
    "                elif spl_neq in content:\n",
    "                    logic.update({content.rpartition(spl_neq)[0]:\"<> \" + content.rpartition(spl_neq)[2]})\n",
    "                elif spl_geq in content:\n",
    "                    logic.update({content.rpartition(spl_geq)[0]:\">= \" + content.rpartition(spl_geq)[2]})\n",
    "                elif spl_seq in content:\n",
    "                    logic.update({content.rpartition(spl_seq)[0]:\"<= \" + content.rpartition(spl_seq)[2]})\n",
    "                elif spl_g in content:\n",
    "                    logic.update({content.rpartition(spl_g)[0]:\"> \" + content.rpartition(spl_g)[2]})\n",
    "                elif spl_s in content:\n",
    "                    logic.update({content.rpartition(spl_s)[0]:\"< \" + content.rpartition(spl_s)[2]})\n",
    "                elif spl_notin in content:\n",
    "                    logic.update({content.rpartition(spl_notin)[0]:\"NOT \" + content.rpartition(spl_notin)[2]})\n",
    "                elif spl_in in content:\n",
    "                    logic.update({content.rpartition(spl_in)[0]:\"= \" + content.rpartition(spl_in)[2]})\n",
    "        else:\n",
    "            logic.update({\"logic\":content})\n",
    "\n",
    "        index = len(styleid)\n",
    "        # remove comment that often tag behind style id\n",
    "        for i in styleid:\n",
    "            if not i.isdigit():\n",
    "                index = styleid.index(i)\n",
    "                break\n",
    "        styleid = styleid[:index]\n",
    "        # update logic with corresponding styleid\n",
    "        logics.update({styleid : logic})\n",
    "\n",
    "\n",
    "for row in dfid.iterrows():\n",
    "    logics[str(int(row[1].values))].update({\"In Used\" : \"YES\"})\n",
    "\n",
    "print(logics)"
   ]
  },
  {
   "cell_type": "code",
   "execution_count": 80,
   "metadata": {},
   "outputs": [
    {
     "output_type": "execute_result",
     "data": {
      "text/plain": [
       "1"
      ]
     },
     "metadata": {},
     "execution_count": 80
    }
   ],
   "source": [
    "len(logics)"
   ]
  },
  {
   "cell_type": "code",
   "execution_count": 16,
   "metadata": {
    "tags": []
   },
   "outputs": [
    {
     "output_type": "stream",
     "name": "stdout",
     "text": [
      "{'154100000': {'G3E_SMNO': [526607], 'G3E_FONTNAME': ['HECGIS_104'], 'G3E_SYMBOL': ['o'], 'G3E_SIZE': [2.96041715], 'G3E_USEMASK': [0], 'G3E_ALIGNMENT': [1], 'G3E_PLOTREDLINE': [1], 'G3E_STYLEUNITS': [1], 'G3E_ROTATION': [0]}, '154100060': {'G3E_SMNO': [526611], 'G3E_FONTNAME': ['HECGIS_104'], 'G3E_SYMBOL': ['p'], 'G3E_SIZE': [2.96041715], 'G3E_USEMASK': [0], 'G3E_ALIGNMENT': [1], 'G3E_PLOTREDLINE': [1], 'G3E_STYLEUNITS': [1], 'G3E_ROTATION': [0]}, '154100070': {'G3E_SMNO': [526612], 'G3E_FONTNAME': ['HECGIS_104'], 'G3E_SYMBOL': ['p'], 'G3E_SIZE': [2.96041715], 'G3E_USEMASK': [0], 'G3E_ALIGNMENT': [1], 'G3E_PLOTREDLINE': [1], 'G3E_STYLEUNITS': [1], 'G3E_ROTATION': [0]}, '154100080': {'G3E_SMNO': [526613], 'G3E_FONTNAME': ['HECGIS_104'], 'G3E_SYMBOL': ['p'], 'G3E_SIZE': [2.96041715], 'G3E_USEMASK': [0], 'G3E_ALIGNMENT': [1], 'G3E_PLOTREDLINE': [1], 'G3E_STYLEUNITS': [1], 'G3E_ROTATION': [0]}, '154100090': {'G3E_SMNO': [526614], 'G3E_FONTNAME': ['HECGIS_104'], 'G3E_SYMBOL': ['p'], 'G3E_SIZE': [2.96041715], 'G3E_USEMASK': [0], 'G3E_ALIGNMENT': [1], 'G3E_PLOTREDLINE': [1], 'G3E_STYLEUNITS': [1], 'G3E_ROTATION': [0]}, '154100100': {'G3E_SMNO': [526615], 'G3E_FONTNAME': ['HECGIS_104'], 'G3E_SYMBOL': ['p'], 'G3E_SIZE': [2.96041715], 'G3E_USEMASK': [0], 'G3E_ALIGNMENT': [1], 'G3E_PLOTREDLINE': [1], 'G3E_STYLEUNITS': [1], 'G3E_ROTATION': [0]}, '154100010': {'G3E_SMNO': [526608], 'G3E_FONTNAME': ['HECGIS_104'], 'G3E_SYMBOL': ['o'], 'G3E_SIZE': [2.96041715], 'G3E_USEMASK': [0], 'G3E_ALIGNMENT': [1], 'G3E_PLOTREDLINE': [1], 'G3E_STYLEUNITS': [1], 'G3E_ROTATION': [0]}, '154100020': {'G3E_SMNO': [526609], 'G3E_FONTNAME': ['HECGIS_104'], 'G3E_SYMBOL': ['o'], 'G3E_SIZE': [2.96041715], 'G3E_USEMASK': [0], 'G3E_ALIGNMENT': [1], 'G3E_PLOTREDLINE': [1], 'G3E_STYLEUNITS': [1], 'G3E_ROTATION': [0]}, '154100030': {'G3E_SMNO': [526610], 'G3E_FONTNAME': ['HECGIS_104'], 'G3E_SYMBOL': ['o'], 'G3E_SIZE': [2.96041715], 'G3E_USEMASK': [0], 'G3E_ALIGNMENT': [1], 'G3E_PLOTREDLINE': [1], 'G3E_STYLEUNITS': [1], 'G3E_ROTATION': [0]}, '154100040': {'G3E_SMNO': [527152], 'G3E_FONTNAME': ['HECGIS_104'], 'G3E_SYMBOL': ['o'], 'G3E_SIZE': [2.96041715], 'G3E_USEMASK': [0], 'G3E_ALIGNMENT': [1], 'G3E_PLOTREDLINE': [1], 'G3E_STYLEUNITS': [1], 'G3E_ROTATION': [0]}, '154100050': {'G3E_SMNO': [526859], 'G3E_FONTNAME': ['HECGIS_104'], 'G3E_SYMBOL': ['o'], 'G3E_SIZE': [2.96041715], 'G3E_USEMASK': [0], 'G3E_ALIGNMENT': [1], 'G3E_PLOTREDLINE': [1], 'G3E_STYLEUNITS': [1], 'G3E_ROTATION': [0]}}\n"
     ]
    }
   ],
   "source": [
    "# get the relevant information for the given style id\n",
    "styles = {}\n",
    "# check if compositeline, as there is a seperate method of getting style info\n",
    "if styletable != 'G3E_COMPOSITELINESTYLE':\n",
    "    for styleid in logics.keys():\n",
    "        sqlstyle = \"SELECT * FROM {table} WHERE g3e_sno = '{styleid}'\".format(table = styletable, styleid = styleid)\n",
    "        df=pd.read_sql(sqlstyle,con=connection)\n",
    "        df = df.drop(['G3E_COLOR','G3E_SNO','G3E_USERNAME','G3E_EDITDATE'], axis = 1)\n",
    "        # get white print color\n",
    "        sqlcolor = \"SELECT G3E_SNO FROM G3E_STYLEMAPPING WHERE G3E_LEGENDSNO = {styleid} and g3e_stno = 301\".format(styleid = styleid)\n",
    "        dfcolor = pd.read_sql(sqlcolor,con=connection)\n",
    "        df = pd.concat([dfcolor,df], axis = 1)\n",
    "        df = df.dropna(how='all',axis=1)\n",
    "        data = df.to_dict(orient = 'list')\n",
    "        styles.update({styleid:data})\n",
    "\n",
    "        \n",
    "else:\n",
    "    for styleid in logics.keys():\n",
    "        # get 1st line style\n",
    "        sqlstyle = \"SELECT b.* FROM G3E_COMPOSITELINESTYLE a JOIN g3e_linestyle b on a.g3e_line1 = b.g3e_sno WHERE a.g3e_sno = '{styleid}'\".format(styleid = styleid)\n",
    "        df1=pd.read_sql(sqlstyle,con=connection)\n",
    "        df1 = df1.drop(df1.columns[[0,1,2,3,4,5,6,9,10,11]], axis = 1)\n",
    "        # get stroke pattern\n",
    "        if not df1.empty:\n",
    "            sqlstyle = \"SELECT * FROM G3E_NORMALIZEDSTROKE WHERE G3E_SPNO = {stroke}\".format(stroke = df1.G3E_STROKEPATTERN[0])\n",
    "            df1s = pd.read_sql(sqlstyle,con=connection)\n",
    "            df1s = df1s.drop(['G3E_SPNO','G3E_USERNAME','G3E_EDITDATE','G3E_DASHPATTERNADJUSTMENT','G3E_MICROSTATIONSTYLENAME','G3E_UDLS'], axis = 1)\n",
    "            df1 = pd.concat([df1,df1s], axis = 1)\n",
    "        # get white print color\n",
    "        sqlcolor = \"SELECT G3E_SNO FROM G3E_STYLEMAPPING WHERE G3E_LEGENDSNO = {styleid} and g3e_stno = 301\".format(styleid = styleid)\n",
    "        dfcolor = pd.read_sql(sqlcolor,con=connection)\n",
    "        df1 = pd.concat([dfcolor,df1], axis = 1)\n",
    "        \n",
    "\n",
    "        # get 2nd line style\n",
    "        sqlstyle = \"SELECT c.* FROM G3E_COMPOSITELINESTYLE a JOIN g3e_linestyle c on a.g3e_line2 = c.g3e_sno WHERE a.g3e_sno = '{styleid}'\".format(styleid = styleid)\n",
    "        df2=pd.read_sql(sqlstyle,con=connection)\n",
    "        df2 = df2.drop(df2.columns[[0,1,2,3,4,5,6,9,10,11]], axis = 1)\n",
    "        # get stroke pattern\n",
    "        if not df2.empty:\n",
    "            sqlstyle = \"SELECT * FROM G3E_NORMALIZEDSTROKE WHERE G3E_SPNO = {stroke}\".format(stroke = df2.G3E_STROKEPATTERN[0])\n",
    "            df2s = pd.read_sql(sqlstyle,con=connection)\n",
    "            df2s = df2s.drop(['G3E_SPNO','G3E_USERNAME','G3E_EDITDATE','G3E_DASHPATTERNADJUSTMENT','G3E_MICROSTATIONSTYLENAME','G3E_UDLS'], axis = 1)\n",
    "            df2 = pd.concat([df2,df2s], axis = 1)\n",
    "        # get white print color\n",
    "        sqlcolor = \"SELECT G3E_SNO FROM G3E_STYLEMAPPING WHERE G3E_LEGENDSNO = {styleid} and g3e_stno = 301\".format(styleid = styleid)\n",
    "        dfcolor = pd.read_sql(sqlcolor,con=connection)\n",
    "        df2 = pd.concat([dfcolor,df2], axis = 1)\n",
    "\n",
    "        # combine table\n",
    "        df = pd.concat([df1,df2], axis = 1)\n",
    "        # rename column that has the same name\n",
    "        cols = pd.Series(df.columns)            \n",
    "        for dup in df.columns[df.columns.duplicated(keep=False)]:\n",
    "            cols[df.columns.get_loc(dup)] = ([dup + '_' + str(d_idx) if d_idx != 0 else dup for d_idx in range(df.columns.get_loc(dup).sum())])\n",
    "        df.columns = cols\n",
    "\n",
    "        # if both pattern is empty then get style from single line style table\n",
    "        if df.empty:\n",
    "            sqlstyle = \"SELECT * FROM G3E_LINESTYLE WHERE g3e_sno = '{styleid}'\".format(table = styletable, styleid = styleid)\n",
    "            df = pd.read_sql(sqlstyle,con=connection)\n",
    "            # get stroke pattern\n",
    "            if df.G3E_STROKEPATTERN[0] is not None:\n",
    "                sqlstyle = \"SELECT * FROM G3E_NORMALIZEDSTROKE WHERE G3E_SPNO = {stroke}\".format(stroke = df.G3E_STROKEPATTERN[0])\n",
    "                dfs = pd.read_sql(sqlstyle,con=connection)\n",
    "                dfs = dfs.drop(['G3E_SPNO','G3E_USERNAME','G3E_EDITDATE','G3E_DASHPATTERNADJUSTMENT','G3E_MICROSTATIONSTYLENAME','G3E_UDLS'], axis = 1)\n",
    "                df = pd.concat([df,dfs], axis = 1)\n",
    "            df = df.drop(['G3E_COLOR','G3E_SNO','G3E_USERNAME','G3E_EDITDATE'], axis = 1)\n",
    "            # get white print color\n",
    "            sqlcolor = \"SELECT G3E_SNO FROM G3E_STYLEMAPPING WHERE G3E_LEGENDSNO = {styleid} and g3e_stno = 301\".format(styleid = styleid)\n",
    "            dfcolor = pd.read_sql(sqlcolor,con=connection)\n",
    "            df = pd.concat([dfcolor,df], axis = 1)\n",
    "        \n",
    "        data = df.to_dict(orient = 'list')\n",
    "        styles.update({styleid:data})\n",
    "\n",
    "print(styles)"
   ]
  },
  {
   "cell_type": "code",
   "execution_count": 17,
   "metadata": {
    "tags": []
   },
   "outputs": [],
   "source": [
    "df1 = pd.DataFrame.from_dict({(i): styles[i]\n",
    "                                for i in styles.keys()},\n",
    "                                orient = 'index')\n",
    "\n",
    "# drop empty column in df1\n",
    "for column in df1:\n",
    "    isNone = True\n",
    "    for item in df1[column]:\n",
    "        if not (item == [None] or type(item) == float):\n",
    "            isNone = False\n",
    "            break\n",
    "    if isNone:\n",
    "        df1 = df1.drop([column], axis = 1)\n",
    "\n",
    "\n",
    "df2 = pd.DataFrame.from_dict({(i): logics[i]\n",
    "                                for i in logics.keys()},\n",
    "                                orient = 'index')\n",
    "\n",
    "df = pd.concat([df1,df2], axis = 1)"
   ]
  },
  {
   "cell_type": "code",
   "execution_count": 18,
   "metadata": {},
   "outputs": [],
   "source": [
    "filename = view_name + \".csv\"\n",
    "csvdata = df.to_csv()\n",
    "with open(filename,'w') as f:\n",
    "    f.write(csvdata)\n",
    "    "
   ]
  },
  {
   "cell_type": "code",
   "execution_count": 21,
   "metadata": {},
   "outputs": [
    {
     "output_type": "stream",
     "name": "stdout",
     "text": [
      "Connection closed\n"
     ]
    }
   ],
   "source": [
    "# close connection\n",
    "if connection:\n",
    "    cursor.close()\n",
    "    connection.close()\n",
    "    print(\"Connection closed\")"
   ]
  },
  {
   "cell_type": "code",
   "execution_count": null,
   "metadata": {},
   "outputs": [],
   "source": []
  }
 ]
}
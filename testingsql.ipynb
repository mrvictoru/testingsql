{
 "metadata": {
  "language_info": {
   "codemirror_mode": {
    "name": "ipython",
    "version": 3
   },
   "file_extension": ".py",
   "mimetype": "text/x-python",
   "name": "python",
   "nbconvert_exporter": "python",
   "pygments_lexer": "ipython3",
   "version": "3.8.5-final"
  },
  "orig_nbformat": 2,
  "kernelspec": {
   "name": "python3",
   "display_name": "Python 3",
   "language": "python"
  }
 },
 "nbformat": 4,
 "nbformat_minor": 2,
 "cells": [
  {
   "cell_type": "code",
   "execution_count": 2,
   "metadata": {},
   "outputs": [],
   "source": [
    "import config\n",
    "import cx_Oracle\n",
    "import re\n",
    "import pandas as pd\n",
    "import csv\n",
    "import pprint\n",
    "\n",
    "pattern = re.compile(r'\\s+')"
   ]
  },
  {
   "cell_type": "code",
   "execution_count": 13,
   "metadata": {},
   "outputs": [
    {
     "output_type": "stream",
     "name": "stdout",
     "text": [
      "Connected\n12.2.0.1.0\n"
     ]
    }
   ],
   "source": [
    "# connect to Oracle DB\n",
    "connection = None\n",
    "try:\n",
    "    connection = cx_Oracle.connect(\n",
    "        config.username,\n",
    "        config.password,\n",
    "        config.dsn,\n",
    "        encoding = \"UTF-8\"\n",
    "    )\n",
    "    print(\"Connected\")\n",
    "    print(connection.version)\n",
    "except cx_Oracle.Error as error:\n",
    "    print(error)\n",
    "\n",
    "cursor = connection.cursor()"
   ]
  },
  {
   "cell_type": "code",
   "execution_count": 43,
   "metadata": {},
   "outputs": [
    {
     "output_type": "stream",
     "name": "stdout",
     "text": [
      "LV_SEC_LN_1\nPolylineGeometry\n"
     ]
    }
   ],
   "source": [
    "# set up style view and get the geometrytype of that style's feature\n",
    "view_name = \"V_LV_SEC_LN_1\"\n",
    "feature_name = view_name[2:]\n",
    "print(feature_name)\n",
    "sql = \"Select g3e_geometrytype from G3E_COMPONENT where G3E_NAME = '{name}'\".format(name = feature_name)\n",
    "cursor.execute(sql)\n",
    "geometrytype = cursor.fetchall()[0][0]\n",
    "print(geometrytype)"
   ]
  },
  {
   "cell_type": "code",
   "execution_count": 44,
   "metadata": {},
   "outputs": [
    {
     "output_type": "stream",
     "name": "stdout",
     "text": [
      "G3E_COMPOSITELINESTYLE\n"
     ]
    }
   ],
   "source": [
    "# hardcode condition to know which styletable for the given style view\n",
    "if geometrytype == \"PolygonGeometry\":\n",
    "    styletable = 'G3E_AREASTYLE'\n",
    "elif geometrytype == \"PolylineGeometry\":\n",
    "    styletable = 'G3E_COMPOSITELINESTYLE'\n",
    "elif geometrytype == \"OrientedPointGeometry\":\n",
    "    styletable = 'G3E_POINTSTYLE'\n",
    "elif geometrytype == \"TextPointGeometry\":\n",
    "    styletable = 'G3E_TEXTSTYLE'\n",
    "elif geometrytype == \"CompositePolylineGeometry\":\n",
    "    styletable = 'G3E_COMPOSITELINESTYLE'\n",
    "\n",
    "print(styletable)"
   ]
  },
  {
   "cell_type": "code",
   "execution_count": 45,
   "metadata": {
    "tags": []
   },
   "outputs": [],
   "source": [
    "# extract text that create the given style view\n",
    "sql = \"SELECT TEXT FROM USER_VIEWS WHERE VIEW_NAME = '{view_name}'\".format(view_name = view_name)\n",
    "cursor.execute(sql)\n",
    "fetch = cursor.fetchall()\n",
    "txts = fetch[0][0]\n",
    "txts = txts.rpartition(\"CASE\")[2]\n",
    "txts = txts.rpartition(\"ELSE\")[0]\n",
    "txts = re.sub(pattern,'',txts)\n",
    "txts = txts.split(\"WHEN\")"
   ]
  },
  {
   "cell_type": "code",
   "execution_count": 46,
   "metadata": {
    "tags": []
   },
   "outputs": [
    {
     "output_type": "stream",
     "name": "stdout",
     "text": [
      "{'15750010': \"TRIM(E.CODETEXT)='UNKNOWNROUTE'ANDTRIM(D.CODETEXT)='INS'\", '15750020': \"TRIM(E.CODETEXT)='UNKNOWNROUTE'ANDTRIM(D.CODETEXT)IN('PPA','PPM','PPR','PPX')\", '15750030': \"TRIM(E.CODETEXT)='UNKNOWNROUTE'ANDTRIM(D.CODETEXT)IN('ABA','ABM','ABR','ABX')\", '15750040': \"TRIM(E.CODETEXT)='UNKNOWNROUTE'ANDTRIM(D.CODETEXT)='APA'\", '15750050': \"TRIM(D.CODETEXT)='INS'ANDTRIM(E.CODETEXT)='SUBMARINECABLE'ANDTRIM(C.WATER_TREE)='YES'\", '15750060': \"TRIM(D.CODETEXT)='INS'ANDTRIM(E.CODETEXT)='SUBMARINECABLE'ANDTRIM(C.INGRESS_STATUS)='YES'\", '15750070': \"TRIM(D.CODETEXT)='INS'ANDTRIM(E.CODETEXT)='SUBMARINECABLE'\", '15750080': \"TRIM(D.CODETEXT)='INS'ANDTRIM(C.WATER_TREE)='YES'\", '15750090': \"TRIM(D.CODETEXT)='INS'ANDTRIM(C.INGRESS_STATUS)='YES'\", '15750100': \"TRIM(D.CODETEXT)='INS'\", '15750110': \"TRIM(D.CODETEXT)IN('ABN','RES')ANDTRIM(E.CODETEXT)='SUBMARINECABLE'ANDTRIM(C.WATER_TREE)='YES'\", '15750120': \"TRIM(D.CODETEXT)IN('ABN','RES')ANDTRIM(E.CODETEXT)='SUBMARINECABLE'ANDTRIM(C.INGRESS_STATUS)='YES'\", '15750130': \"TRIM(D.CODETEXT)IN('ABN','RES')ANDTRIM(E.CODETEXT)='SUBMARINECABLE'\", '15750140': \"TRIM(D.CODETEXT)IN('ABN','RES')ANDTRIM(C.WATER_TREE)='YES'\", '15750150': \"TRIM(D.CODETEXT)IN('ABN','RES')ANDTRIM(C.INGRESS_STATUS)='YES'\", '15750160': \"TRIM(D.CODETEXT)IN('ABN','RES')\", '15750170': \"TRIM(D.CODETEXT)='PPA'ANDTRIM(E.CODETEXT)='SUBMARINECABLE'\", '15750180': \"TRIM(D.CODETEXT)='PPA'\", '15750190': \"TRIM(D.CODETEXT)='PPM'ANDTRIM(E.CODETEXT)='SUBMARINECABLE'\", '15750200': \"TRIM(D.CODETEXT)='PPM'\", '15750210': \"TRIM(D.CODETEXT)='PPR'ANDTRIM(E.CODETEXT)='SUBMARINECABLE'\", '15750220': \"TRIM(D.CODETEXT)='PPR'\", '15750230': \"TRIM(D.CODETEXT)='PPX'ANDTRIM(E.CODETEXT)='SUBMARINECABLE'\", '15750240': \"TRIM(D.CODETEXT)='PPX'\", '15750250': \"TRIM(D.CODETEXT)='ABA'ANDTRIM(E.CODETEXT)='SUBMARINECABLE'\", '15750260': \"TRIM(D.CODETEXT)='ABA'\", '15750270': \"TRIM(D.CODETEXT)='ABM'ANDTRIM(E.CODETEXT)='SUBMARINECABLE'\", '15750280': \"TRIM(D.CODETEXT)='ABM'\", '15750290': \"TRIM(D.CODETEXT)='ABR'ANDTRIM(E.CODETEXT)='SUBMARINECABLE'\", '15750300': \"TRIM(D.CODETEXT)='ABR'\", '15750310': \"TRIM(D.CODETEXT)='ABX'ANDTRIM(E.CODETEXT)='SUBMARINECABLE'\", '15750320': \"TRIM(D.CODETEXT)='ABX'\", '15750330': \"TRIM(D.CODETEXT)='APA'ANDTRIM(E.CODETEXT)='SUBMARINECABLE'\", '15750340': \"TRIM(D.CODETEXT)='APA'\"}\n"
     ]
    }
   ],
   "source": [
    "# extract cause(logic condition) and effect(styleid) into dict\n",
    "logics = {}\n",
    "\n",
    "spl_chr = \"THEN\"\n",
    "for txt in txts:\n",
    "    if txt != \"\":\n",
    "        styleid = txt.rpartition(spl_chr)[2]\n",
    "        index = len(styleid)\n",
    "        for i in styleid:\n",
    "            if not i.isdigit():\n",
    "                index = styleid.index(i)\n",
    "                break\n",
    "        styleid = styleid[:index]\n",
    "        logics.update({styleid : txt.rpartition(spl_chr)[0]})\n",
    "    \n",
    "print(logics)"
   ]
  },
  {
   "cell_type": "code",
   "execution_count": 47,
   "metadata": {
    "tags": []
   },
   "outputs": [],
   "source": [
    "# get the relevant information for the given style id\n",
    "styles = {}\n",
    "# check if compositeline, as they have a seperate method of getting style info\n",
    "if styletable != 'G3E_COMPOSITELINESTYLE':\n",
    "    for styleid in logics.keys():\n",
    "        sqlstyle = \"SELECT * FROM {table} WHERE g3e_sno = '{styleid}'\".format(table = styletable, styleid = styleid)\n",
    "        df=pd.read_sql(sqlstyle,con=connection)\n",
    "        data = df.to_dict(orient = 'list')\n",
    "        # remove useless stuff\n",
    "        data.pop('G3E_SNO', None)\n",
    "        data.pop('G3E_USERNAME', None)\n",
    "        data.pop('G3E_EDITDATE', None)\n",
    "\n",
    "        styles.update({styleid:data})\n",
    "else:\n",
    "    for styleid in logics.keys():\n",
    "        sqlstyle = \"SELECT b.* FROM G3E_COMPOSITELINESTYLE a JOIN g3e_linestyle b on a.g3e_line1 = b.g3e_sno WHERE a.g3e_sno = '{styleid}'\".format(styleid = styleid)\n",
    "        df1=pd.read_sql(sqlstyle,con=connection)\n",
    "        # remove useless stuff\n",
    "        df1 = df1.drop(df1.columns[[0,1,3,4,5,6,9,10,11]], axis = 1)\n",
    "\n",
    "        sqlstyle = \"SELECT c.* FROM G3E_COMPOSITELINESTYLE a JOIN g3e_linestyle c on a.g3e_line2 = c.g3e_sno WHERE a.g3e_sno = '{styleid}'\".format(styleid = styleid)\n",
    "        df2=pd.read_sql(sqlstyle,con=connection)\n",
    "        # remove useless stuff\n",
    "        df2 = df2.drop(df2.columns[[0,1,3,4,5,6,9,10,11]], axis = 1)\n",
    "\n",
    "        df = pd.concat([df1,df2], axis = 1)\n",
    "        # rename column that has the same name\n",
    "        cols = pd.Series(df.columns)            \n",
    "        for dup in df.columns[df.columns.duplicated(keep=False)]:\n",
    "            cols[df.columns.get_loc(dup)] = ([dup + '.' + str(d_idx) if d_idx != 0 else dup for d_idx in range(df.columns.get_loc(dup).sum())])\n",
    "        df.columns = cols\n",
    "        data = df.to_dict(orient = 'list')\n",
    "\n",
    "        styles.update({styleid:data})\n",
    "\n",
    "#print(styles)"
   ]
  },
  {
   "cell_type": "code",
   "execution_count": 48,
   "metadata": {
    "tags": []
   },
   "outputs": [],
   "source": [
    "printdicts = {}\n",
    "for styleid in logics.keys():\n",
    "    printdicts.update({styleid: styles[styleid]})\n",
    "    printdicts[styleid].update({\"logic\": logics[styleid]})\n",
    "\n",
    "df = pd.DataFrame.from_dict({(i): printdicts[i]\n",
    "                                for i in printdicts.keys()},\n",
    "                                orient = 'index')"
   ]
  },
  {
   "cell_type": "code",
   "execution_count": 49,
   "metadata": {},
   "outputs": [],
   "source": [
    "filename = view_name + \".csv\"\n",
    "csvdata = df.to_csv()\n",
    "with open(filename,'w') as f:\n",
    "    f.write(csvdata)\n",
    "    "
   ]
  },
  {
   "cell_type": "code",
   "execution_count": 11,
   "metadata": {},
   "outputs": [
    {
     "output_type": "stream",
     "name": "stdout",
     "text": [
      "Connection closed\n"
     ]
    }
   ],
   "source": [
    "# close connection\n",
    "if connection:\n",
    "    cursor.close()\n",
    "    connection.close()\n",
    "    print(\"Connection closed\")"
   ]
  },
  {
   "cell_type": "code",
   "execution_count": null,
   "metadata": {},
   "outputs": [],
   "source": []
  }
 ]
}
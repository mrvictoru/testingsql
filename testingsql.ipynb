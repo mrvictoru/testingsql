{
 "metadata": {
  "language_info": {
   "codemirror_mode": {
    "name": "ipython",
    "version": 3
   },
   "file_extension": ".py",
   "mimetype": "text/x-python",
   "name": "python",
   "nbconvert_exporter": "python",
   "pygments_lexer": "ipython3",
   "version": "3.8.5-final"
  },
  "orig_nbformat": 2,
  "kernelspec": {
   "name": "python3",
   "display_name": "Python 3",
   "language": "python"
  }
 },
 "nbformat": 4,
 "nbformat_minor": 2,
 "cells": [
  {
   "cell_type": "code",
   "execution_count": 1,
   "metadata": {},
   "outputs": [],
   "source": [
    "import config\n",
    "import cx_Oracle\n",
    "import re\n",
    "import pandas as pd\n",
    "import csv\n",
    "\n",
    "pattern = re.compile(r'\\s+')"
   ]
  },
  {
   "cell_type": "code",
   "execution_count": 6,
   "metadata": {},
   "outputs": [
    {
     "output_type": "stream",
     "name": "stdout",
     "text": [
      "Connected\n12.2.0.1.0\n"
     ]
    }
   ],
   "source": [
    "# connect to Oracle DB\n",
    "connection = None\n",
    "try:\n",
    "    connection = cx_Oracle.connect(\n",
    "        config.username,\n",
    "        config.password,\n",
    "        config.dsn,\n",
    "        encoding = \"UTF-8\"\n",
    "    )\n",
    "    print(\"Connected\")\n",
    "    print(connection.version)\n",
    "except cx_Oracle.Error as error:\n",
    "    print(error)\n",
    "\n",
    "cursor = connection.cursor()"
   ]
  },
  {
   "cell_type": "code",
   "execution_count": 7,
   "metadata": {},
   "outputs": [
    {
     "output_type": "stream",
     "name": "stdout",
     "text": [
      "HV_TRF_SYM_1\n",
      "OrientedPointGeometry\n"
     ]
    }
   ],
   "source": [
    "# set up style view and get the geometrytype of that style's feature\n",
    "view_name = \"V_HV_TRF_SYM_1\"\n",
    "feature_name = view_name[2:]\n",
    "print(feature_name)\n",
    "sql = \"Select g3e_geometrytype from G3E_COMPONENT where G3E_NAME = '{name}'\".format(name = feature_name)\n",
    "cursor.execute(sql)\n",
    "geometrytype = cursor.fetchall()[0][0]\n",
    "print(geometrytype)"
   ]
  },
  {
   "cell_type": "code",
   "execution_count": 8,
   "metadata": {},
   "outputs": [
    {
     "output_type": "stream",
     "name": "stdout",
     "text": [
      "G3E_POINTSTYLE\n"
     ]
    }
   ],
   "source": [
    "# hardcode condition to know which styletable for the given style view\n",
    "if geometrytype == \"PolygonGeometry\":\n",
    "    styletable = 'G3E_AREASTYLE'\n",
    "elif geometrytype == \"PolylineGeometry\":\n",
    "    styletable = 'G3E_LINESTYLE'\n",
    "elif geometrytype == \"OrientedPointGeometry\":\n",
    "    styletable = 'G3E_POINTSTYLE'\n",
    "elif geometrytype == \"TextPointGeometry\":\n",
    "    styletable = 'G3E_TEXTSTYLE'\n",
    "elif geometrytype == \"CompositePolylineGeometry\":\n",
    "    styletable = 'G3E_COMPOSITELINESTYLE'\n",
    "\n",
    "print(styletable)"
   ]
  },
  {
   "cell_type": "code",
   "execution_count": 9,
   "metadata": {},
   "outputs": [
    {
     "output_type": "stream",
     "name": "stdout",
     "text": [
      "['', \"TRIM(D.CODETEXT)IN('PPA','PPM','PPR','PPX')ANDTRIM(E.CODETEXT)='RECTIFIER'THEN14800010\", \"TRIM(D.CODETEXT)IN('PPA','PPM','PPR','PPX')THEN14800020\", \"TRIM(D.CODETEXT)IN('ABA','ABM','ABR','ABX')ANDTRIM(E.CODETEXT)='RECTIFIER'THEN14800030\", \"TRIM(D.CODETEXT)IN('ABA','ABM','ABR','ABX')THEN14800040\", \"TRIM(D.CODETEXT)='INS'ANDTRIM(E.CODETEXT)='RECTIFIER'THEN14800050\", \"TRIM(D.CODETEXT)='INS'THEN14800060\", \"TRIM(D.CODETEXT)IN('RES','ABN')ANDTRIM(E.CODETEXT)='RECTIFIER'THEN14800070\", \"TRIM(D.CODETEXT)IN('RES','ABN')THEN14800080\", \"TRIM(D.CODETEXT)='APA'ANDTRIM(E.CODETEXT)='RECTIFIER'THEN14800090\", \"TRIM(D.CODETEXT)='APA'THEN14800100\"]\n"
     ]
    }
   ],
   "source": [
    "# extract text that create the given style view\n",
    "sql = \"SELECT TEXT FROM USER_VIEWS WHERE VIEW_NAME = '{view_name}'\".format(view_name = view_name)\n",
    "cursor.execute(sql)\n",
    "fetch = cursor.fetchall()\n",
    "txts = fetch[0][0]\n",
    "txts = txts.rpartition(\"CASE\")[2]\n",
    "txts = txts.rpartition(\"ELSE\")[0]\n",
    "txts = re.sub(pattern,'',txts)\n",
    "txts = txts.split(\"WHEN\")\n",
    "\n",
    "print(txts)"
   ]
  },
  {
   "cell_type": "code",
   "execution_count": 11,
   "metadata": {},
   "outputs": [
    {
     "output_type": "stream",
     "name": "stdout",
     "text": [
      "{'14800010': \"TRIM(D.CODETEXT)IN('PPA','PPM','PPR','PPX')ANDTRIM(E.CODETEXT)='RECTIFIER'\", '14800020': \"TRIM(D.CODETEXT)IN('PPA','PPM','PPR','PPX')\", '14800030': \"TRIM(D.CODETEXT)IN('ABA','ABM','ABR','ABX')ANDTRIM(E.CODETEXT)='RECTIFIER'\", '14800040': \"TRIM(D.CODETEXT)IN('ABA','ABM','ABR','ABX')\", '14800050': \"TRIM(D.CODETEXT)='INS'ANDTRIM(E.CODETEXT)='RECTIFIER'\", '14800060': \"TRIM(D.CODETEXT)='INS'\", '14800070': \"TRIM(D.CODETEXT)IN('RES','ABN')ANDTRIM(E.CODETEXT)='RECTIFIER'\", '14800080': \"TRIM(D.CODETEXT)IN('RES','ABN')\", '14800090': \"TRIM(D.CODETEXT)='APA'ANDTRIM(E.CODETEXT)='RECTIFIER'\", '14800100': \"TRIM(D.CODETEXT)='APA'\"}\n"
     ]
    }
   ],
   "source": [
    "# extract cause(logic condition) and effect(styleid) into dict\n",
    "logics = {}\n",
    "\n",
    "spl_chr = \"THEN\"\n",
    "for txt in txts:\n",
    "    if txt != \"\":\n",
    "        logics.update({txt.rpartition(spl_chr)[2] : txt.rpartition(spl_chr)[0]})\n",
    "    \n",
    "print(logics)"
   ]
  },
  {
   "cell_type": "code",
   "execution_count": 12,
   "metadata": {},
   "outputs": [],
   "source": [
    "# get the relevant information for the given style id\n",
    "styles = {}\n",
    "for styleid in logics.keys():\n",
    "    sqlstyle = \"SELECT * FROM {table} WHERE g3e_sno = '{styleid}'\".format(table = styletable, styleid = styleid)\n",
    "    df=pd.read_sql(sqlstyle,con=connection)\n",
    "    data = df.to_dict(orient = 'list')\n",
    "    data.pop('G3E_SNO', None)\n",
    "    data.pop('G3E_USERNAME', None)\n",
    "    data.pop('G3E_EDITDATE', None)\n",
    "    styles.update({styleid:data})"
   ]
  },
  {
   "cell_type": "code",
   "execution_count": 13,
   "metadata": {
    "tags": []
   },
   "outputs": [
    {
     "output_type": "stream",
     "name": "stdout",
     "text": [
      "{'14800010': {'G3E_COLOR': [47615], 'G3E_FONTNAME': ['HECGIS_104'], 'G3E_SYMBOL': [']'], 'G3E_MASKSYMBOL': [None], 'G3E_SIZE': [3.98125065], 'G3E_USEMASK': [0], 'G3E_ALIGNMENT': [2], 'G3E_PDNO': [None], 'G3E_PLOTREDLINE': [1], 'G3E_STYLEUNITS': [1], 'G3E_ROTATION': [0], 'G3E_TRANSLUCENCY': [None], 'G3E_MASKTRANSLUCENCY': [None]}, '14800020': {'G3E_COLOR': [47615], 'G3E_FONTNAME': ['HECGIS_104'], 'G3E_SYMBOL': ['O'], 'G3E_MASKSYMBOL': [None], 'G3E_SIZE': [3.98125065], 'G3E_USEMASK': [0], 'G3E_ALIGNMENT': [2], 'G3E_PDNO': [None], 'G3E_PLOTREDLINE': [1], 'G3E_STYLEUNITS': [1], 'G3E_ROTATION': [0], 'G3E_TRANSLUCENCY': [None], 'G3E_MASKTRANSLUCENCY': [None]}, '14800030': {'G3E_COLOR': [11572735], 'G3E_FONTNAME': ['HECGIS_104'], 'G3E_SYMBOL': [']'], 'G3E_MASKSYMBOL': [None], 'G3E_SIZE': [3.98125065], 'G3E_USEMASK': [0], 'G3E_ALIGNMENT': [2], 'G3E_PDNO': [None], 'G3E_PLOTREDLINE': [1], 'G3E_STYLEUNITS': [1], 'G3E_ROTATION': [0], 'G3E_TRANSLUCENCY': [None], 'G3E_MASKTRANSLUCENCY': [None]}, '14800040': {'G3E_COLOR': [11572735], 'G3E_FONTNAME': ['HECGIS_104'], 'G3E_SYMBOL': ['O'], 'G3E_MASKSYMBOL': [None], 'G3E_SIZE': [3.98125065], 'G3E_USEMASK': [0], 'G3E_ALIGNMENT': [2], 'G3E_PDNO': [None], 'G3E_PLOTREDLINE': [1], 'G3E_STYLEUNITS': [1], 'G3E_ROTATION': [0], 'G3E_TRANSLUCENCY': [None], 'G3E_MASKTRANSLUCENCY': [None]}, '14800050': {'G3E_COLOR': [255], 'G3E_FONTNAME': ['HECGIS_104'], 'G3E_SYMBOL': [']'], 'G3E_MASKSYMBOL': [None], 'G3E_SIZE': [3.98125065], 'G3E_USEMASK': [0], 'G3E_ALIGNMENT': [2], 'G3E_PDNO': [None], 'G3E_PLOTREDLINE': [1], 'G3E_STYLEUNITS': [1], 'G3E_ROTATION': [0], 'G3E_TRANSLUCENCY': [None], 'G3E_MASKTRANSLUCENCY': [None]}, '14800060': {'G3E_COLOR': [255], 'G3E_FONTNAME': ['HECGIS_104'], 'G3E_SYMBOL': ['O'], 'G3E_MASKSYMBOL': [None], 'G3E_SIZE': [3.98125065], 'G3E_USEMASK': [0], 'G3E_ALIGNMENT': [2], 'G3E_PDNO': [None], 'G3E_PLOTREDLINE': [1], 'G3E_STYLEUNITS': [1], 'G3E_ROTATION': [0], 'G3E_TRANSLUCENCY': [None], 'G3E_MASKTRANSLUCENCY': [None]}, '14800070': {'G3E_COLOR': [8882055], 'G3E_FONTNAME': ['HECGIS_104'], 'G3E_SYMBOL': [']'], 'G3E_MASKSYMBOL': [None], 'G3E_SIZE': [3.98125065], 'G3E_USEMASK': [0], 'G3E_ALIGNMENT': [2], 'G3E_PDNO': [None], 'G3E_PLOTREDLINE': [1], 'G3E_STYLEUNITS': [1], 'G3E_ROTATION': [0], 'G3E_TRANSLUCENCY': [None], 'G3E_MASKTRANSLUCENCY': [None]}, '14800080': {'G3E_COLOR': [8882055], 'G3E_FONTNAME': ['HECGIS_104'], 'G3E_SYMBOL': ['O'], 'G3E_MASKSYMBOL': [None], 'G3E_SIZE': [3.98125065], 'G3E_USEMASK': [0], 'G3E_ALIGNMENT': [2], 'G3E_PDNO': [None], 'G3E_PLOTREDLINE': [1], 'G3E_STYLEUNITS': [1], 'G3E_ROTATION': [0], 'G3E_TRANSLUCENCY': [None], 'G3E_MASKTRANSLUCENCY': [None]}, '14800090': {'G3E_COLOR': [11568304], 'G3E_FONTNAME': ['HECGIS_104'], 'G3E_SYMBOL': [']'], 'G3E_MASKSYMBOL': [None], 'G3E_SIZE': [3.98125065], 'G3E_USEMASK': [0], 'G3E_ALIGNMENT': [2], 'G3E_PDNO': [None], 'G3E_PLOTREDLINE': [1], 'G3E_STYLEUNITS': [1], 'G3E_ROTATION': [0], 'G3E_TRANSLUCENCY': [None], 'G3E_MASKTRANSLUCENCY': [None]}, '14800100': {'G3E_COLOR': [11568304], 'G3E_FONTNAME': ['HECGIS_104'], 'G3E_SYMBOL': ['O'], 'G3E_MASKSYMBOL': [None], 'G3E_SIZE': [3.98125065], 'G3E_USEMASK': [0], 'G3E_ALIGNMENT': [2], 'G3E_PDNO': [None], 'G3E_PLOTREDLINE': [1], 'G3E_STYLEUNITS': [1], 'G3E_ROTATION': [0], 'G3E_TRANSLUCENCY': [None], 'G3E_MASKTRANSLUCENCY': [None]}}\n{'14800010': \"TRIM(D.CODETEXT)IN('PPA','PPM','PPR','PPX')ANDTRIM(E.CODETEXT)='RECTIFIER'\", '14800020': \"TRIM(D.CODETEXT)IN('PPA','PPM','PPR','PPX')\", '14800030': \"TRIM(D.CODETEXT)IN('ABA','ABM','ABR','ABX')ANDTRIM(E.CODETEXT)='RECTIFIER'\", '14800040': \"TRIM(D.CODETEXT)IN('ABA','ABM','ABR','ABX')\", '14800050': \"TRIM(D.CODETEXT)='INS'ANDTRIM(E.CODETEXT)='RECTIFIER'\", '14800060': \"TRIM(D.CODETEXT)='INS'\", '14800070': \"TRIM(D.CODETEXT)IN('RES','ABN')ANDTRIM(E.CODETEXT)='RECTIFIER'\", '14800080': \"TRIM(D.CODETEXT)IN('RES','ABN')\", '14800090': \"TRIM(D.CODETEXT)='APA'ANDTRIM(E.CODETEXT)='RECTIFIER'\", '14800100': \"TRIM(D.CODETEXT)='APA'\"}\n"
     ]
    }
   ],
   "source": [
    "print(styles)\n",
    "print(logics)"
   ]
  },
  {
   "cell_type": "code",
   "execution_count": 14,
   "metadata": {
    "tags": []
   },
   "outputs": [
    {
     "output_type": "stream",
     "name": "stdout",
     "text": [
      "{'14800010': {'G3E_COLOR': [47615], 'G3E_FONTNAME': ['HECGIS_104'], 'G3E_SYMBOL': [']'], 'G3E_MASKSYMBOL': [None], 'G3E_SIZE': [3.98125065], 'G3E_USEMASK': [0], 'G3E_ALIGNMENT': [2], 'G3E_PDNO': [None], 'G3E_PLOTREDLINE': [1], 'G3E_STYLEUNITS': [1], 'G3E_ROTATION': [0], 'G3E_TRANSLUCENCY': [None], 'G3E_MASKTRANSLUCENCY': [None], 'logic': \"TRIM(D.CODETEXT)IN('PPA','PPM','PPR','PPX')ANDTRIM(E.CODETEXT)='RECTIFIER'\"}, '14800020': {'G3E_COLOR': [47615], 'G3E_FONTNAME': ['HECGIS_104'], 'G3E_SYMBOL': ['O'], 'G3E_MASKSYMBOL': [None], 'G3E_SIZE': [3.98125065], 'G3E_USEMASK': [0], 'G3E_ALIGNMENT': [2], 'G3E_PDNO': [None], 'G3E_PLOTREDLINE': [1], 'G3E_STYLEUNITS': [1], 'G3E_ROTATION': [0], 'G3E_TRANSLUCENCY': [None], 'G3E_MASKTRANSLUCENCY': [None], 'logic': \"TRIM(D.CODETEXT)IN('PPA','PPM','PPR','PPX')\"}, '14800030': {'G3E_COLOR': [11572735], 'G3E_FONTNAME': ['HECGIS_104'], 'G3E_SYMBOL': [']'], 'G3E_MASKSYMBOL': [None], 'G3E_SIZE': [3.98125065], 'G3E_USEMASK': [0], 'G3E_ALIGNMENT': [2], 'G3E_PDNO': [None], 'G3E_PLOTREDLINE': [1], 'G3E_STYLEUNITS': [1], 'G3E_ROTATION': [0], 'G3E_TRANSLUCENCY': [None], 'G3E_MASKTRANSLUCENCY': [None], 'logic': \"TRIM(D.CODETEXT)IN('ABA','ABM','ABR','ABX')ANDTRIM(E.CODETEXT)='RECTIFIER'\"}, '14800040': {'G3E_COLOR': [11572735], 'G3E_FONTNAME': ['HECGIS_104'], 'G3E_SYMBOL': ['O'], 'G3E_MASKSYMBOL': [None], 'G3E_SIZE': [3.98125065], 'G3E_USEMASK': [0], 'G3E_ALIGNMENT': [2], 'G3E_PDNO': [None], 'G3E_PLOTREDLINE': [1], 'G3E_STYLEUNITS': [1], 'G3E_ROTATION': [0], 'G3E_TRANSLUCENCY': [None], 'G3E_MASKTRANSLUCENCY': [None], 'logic': \"TRIM(D.CODETEXT)IN('ABA','ABM','ABR','ABX')\"}, '14800050': {'G3E_COLOR': [255], 'G3E_FONTNAME': ['HECGIS_104'], 'G3E_SYMBOL': [']'], 'G3E_MASKSYMBOL': [None], 'G3E_SIZE': [3.98125065], 'G3E_USEMASK': [0], 'G3E_ALIGNMENT': [2], 'G3E_PDNO': [None], 'G3E_PLOTREDLINE': [1], 'G3E_STYLEUNITS': [1], 'G3E_ROTATION': [0], 'G3E_TRANSLUCENCY': [None], 'G3E_MASKTRANSLUCENCY': [None], 'logic': \"TRIM(D.CODETEXT)='INS'ANDTRIM(E.CODETEXT)='RECTIFIER'\"}, '14800060': {'G3E_COLOR': [255], 'G3E_FONTNAME': ['HECGIS_104'], 'G3E_SYMBOL': ['O'], 'G3E_MASKSYMBOL': [None], 'G3E_SIZE': [3.98125065], 'G3E_USEMASK': [0], 'G3E_ALIGNMENT': [2], 'G3E_PDNO': [None], 'G3E_PLOTREDLINE': [1], 'G3E_STYLEUNITS': [1], 'G3E_ROTATION': [0], 'G3E_TRANSLUCENCY': [None], 'G3E_MASKTRANSLUCENCY': [None], 'logic': \"TRIM(D.CODETEXT)='INS'\"}, '14800070': {'G3E_COLOR': [8882055], 'G3E_FONTNAME': ['HECGIS_104'], 'G3E_SYMBOL': [']'], 'G3E_MASKSYMBOL': [None], 'G3E_SIZE': [3.98125065], 'G3E_USEMASK': [0], 'G3E_ALIGNMENT': [2], 'G3E_PDNO': [None], 'G3E_PLOTREDLINE': [1], 'G3E_STYLEUNITS': [1], 'G3E_ROTATION': [0], 'G3E_TRANSLUCENCY': [None], 'G3E_MASKTRANSLUCENCY': [None], 'logic': \"TRIM(D.CODETEXT)IN('RES','ABN')ANDTRIM(E.CODETEXT)='RECTIFIER'\"}, '14800080': {'G3E_COLOR': [8882055], 'G3E_FONTNAME': ['HECGIS_104'], 'G3E_SYMBOL': ['O'], 'G3E_MASKSYMBOL': [None], 'G3E_SIZE': [3.98125065], 'G3E_USEMASK': [0], 'G3E_ALIGNMENT': [2], 'G3E_PDNO': [None], 'G3E_PLOTREDLINE': [1], 'G3E_STYLEUNITS': [1], 'G3E_ROTATION': [0], 'G3E_TRANSLUCENCY': [None], 'G3E_MASKTRANSLUCENCY': [None], 'logic': \"TRIM(D.CODETEXT)IN('RES','ABN')\"}, '14800090': {'G3E_COLOR': [11568304], 'G3E_FONTNAME': ['HECGIS_104'], 'G3E_SYMBOL': [']'], 'G3E_MASKSYMBOL': [None], 'G3E_SIZE': [3.98125065], 'G3E_USEMASK': [0], 'G3E_ALIGNMENT': [2], 'G3E_PDNO': [None], 'G3E_PLOTREDLINE': [1], 'G3E_STYLEUNITS': [1], 'G3E_ROTATION': [0], 'G3E_TRANSLUCENCY': [None], 'G3E_MASKTRANSLUCENCY': [None], 'logic': \"TRIM(D.CODETEXT)='APA'ANDTRIM(E.CODETEXT)='RECTIFIER'\"}, '14800100': {'G3E_COLOR': [11568304], 'G3E_FONTNAME': ['HECGIS_104'], 'G3E_SYMBOL': ['O'], 'G3E_MASKSYMBOL': [None], 'G3E_SIZE': [3.98125065], 'G3E_USEMASK': [0], 'G3E_ALIGNMENT': [2], 'G3E_PDNO': [None], 'G3E_PLOTREDLINE': [1], 'G3E_STYLEUNITS': [1], 'G3E_ROTATION': [0], 'G3E_TRANSLUCENCY': [None], 'G3E_MASKTRANSLUCENCY': [None], 'logic': \"TRIM(D.CODETEXT)='APA'\"}}\n"
     ]
    }
   ],
   "source": [
    "printdicts = {}\n",
    "for styleid in logics.keys():\n",
    "    printdicts.update({styleid: styles[styleid]})\n",
    "    printdicts[styleid].update({\"logic\": logics[styleid]})\n",
    "print(printdicts)"
   ]
  },
  {
   "cell_type": "code",
   "execution_count": 15,
   "metadata": {},
   "outputs": [],
   "source": [
    "df = pd.DataFrame.from_dict({(i): printdicts[i]\n",
    "                                for i in printdicts.keys()},\n",
    "                                orient = 'index')\n",
    "print(df)"
   ]
  },
  {
   "cell_type": "code",
   "execution_count": 16,
   "metadata": {},
   "outputs": [],
   "source": [
    "filename = view_name + \".csv\"\n",
    "csvdata = df.to_csv()\n",
    "with open(filename,'w') as f:\n",
    "    f.write(csvdata)\n",
    "    "
   ]
  },
  {
   "cell_type": "code",
   "execution_count": 25,
   "metadata": {},
   "outputs": [
    {
     "output_type": "stream",
     "name": "stdout",
     "text": [
      "Connection closed\n"
     ]
    }
   ],
   "source": [
    "# close connection\n",
    "if connection:\n",
    "    cursor.close()\n",
    "    connection.close()\n",
    "    print(\"Connection closed\")"
   ]
  },
  {
   "cell_type": "code",
   "execution_count": null,
   "metadata": {},
   "outputs": [],
   "source": []
  }
 ]
}
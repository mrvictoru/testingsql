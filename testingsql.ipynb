{
 "metadata": {
  "language_info": {
   "codemirror_mode": {
    "name": "ipython",
    "version": 3
   },
   "file_extension": ".py",
   "mimetype": "text/x-python",
   "name": "python",
   "nbconvert_exporter": "python",
   "pygments_lexer": "ipython3",
   "version": "3.8.5-final"
  },
  "orig_nbformat": 2,
  "kernelspec": {
   "name": "python3",
   "display_name": "Python 3",
   "language": "python"
  }
 },
 "nbformat": 4,
 "nbformat_minor": 2,
 "cells": [
  {
   "cell_type": "code",
   "execution_count": 1,
   "metadata": {},
   "outputs": [],
   "source": [
    "import config\n",
    "import cx_Oracle\n",
    "import re\n",
    "import pandas as pd\n",
    "import csv\n",
    "import numpy as np"
   ]
  },
  {
   "cell_type": "code",
   "execution_count": 31,
   "metadata": {},
   "outputs": [
    {
     "output_type": "stream",
     "name": "stdout",
     "text": [
      "Connected\n12.2.0.1.0\n"
     ]
    }
   ],
   "source": [
    "# connect to Oracle DB\n",
    "connection = None\n",
    "try:\n",
    "    connection = cx_Oracle.connect(\n",
    "        config.username,\n",
    "        config.password,\n",
    "        config.dsn,\n",
    "        encoding = \"UTF-8\"\n",
    "    )\n",
    "    print(\"Connected\")\n",
    "    print(connection.version)\n",
    "except cx_Oracle.Error as error:\n",
    "    print(error)\n",
    "\n",
    "cursor = connection.cursor()"
   ]
  },
  {
   "cell_type": "code",
   "execution_count": 32,
   "metadata": {},
   "outputs": [
    {
     "output_type": "stream",
     "name": "stdout",
     "text": [
      "ADM_DIM_LN_1\n",
      "PolylineGeometry\n"
     ]
    }
   ],
   "source": [
    "# set up style view and get the geometrytype of that style's feature\n",
    "view_name = \"V_ADM_DIM_LN_1\"\n",
    "# if the logic is more difficult then what the program can handle (mainly having \"or\"). dont sort logic statement\n",
    "logichard = False\n",
    "feature_name = view_name[2:]\n",
    "print(feature_name)\n",
    "sql = \"Select g3e_geometrytype from G3E_COMPONENT where G3E_NAME = '{name}'\".format(name = feature_name)\n",
    "cursor.execute(sql)\n",
    "geometrytype = cursor.fetchall()[0][0]\n",
    "print(geometrytype)"
   ]
  },
  {
   "cell_type": "code",
   "execution_count": 33,
   "metadata": {},
   "outputs": [
    {
     "output_type": "stream",
     "name": "stdout",
     "text": [
      "G3E_COMPOSITELINESTYLE\n"
     ]
    }
   ],
   "source": [
    "# hardcode condition to know which styletable for the given style view\n",
    "if geometrytype == \"PolygonGeometry\":\n",
    "    styletable = 'G3E_AREASTYLE'\n",
    "elif geometrytype == \"PolylineGeometry\":\n",
    "    styletable = 'G3E_COMPOSITELINESTYLE'\n",
    "elif geometrytype == \"OrientedPointGeometry\":\n",
    "    styletable = 'G3E_POINTSTYLE'\n",
    "elif geometrytype == \"TextPointGeometry\":\n",
    "    styletable = 'G3E_TEXTSTYLE'\n",
    "elif geometrytype == \"CompositePolylineGeometry\":\n",
    "    styletable = 'G3E_COMPOSITELINESTYLE'\n",
    "\n",
    "print(styletable)"
   ]
  },
  {
   "cell_type": "code",
   "execution_count": 34,
   "metadata": {
    "tags": []
   },
   "outputs": [],
   "source": [
    "# extract text that create the given style view\n",
    "pattern = re.compile(r'\\s+')\n",
    "sql = \"SELECT TEXT FROM USER_VIEWS WHERE VIEW_NAME = '{view_name}'\".format(view_name = view_name)\n",
    "cursor.execute(sql)\n",
    "fetch = cursor.fetchall()\n",
    "txts = fetch[0][0]\n",
    "txts = txts.rpartition(\"CASE\")[2]\n",
    "txts = txts.rpartition(\"END\")[0]\n",
    "txts = re.sub(pattern,'',txts)\n",
    "default = txts.rpartition(\"ELSE\")[2]\n",
    "txts = txts.rpartition(\"ELSE\")[0]\n",
    "txts = txts.split(\"WHEN\")"
   ]
  },
  {
   "cell_type": "code",
   "execution_count": 36,
   "metadata": {},
   "outputs": [],
   "source": [
    "# find in use style id for given table\n",
    "sql = \"SELECT DISTINCT (g3e_styleid) FROM {view}\".format(view = view_name)\n",
    "dfid = pd.read_sql(sql,con=connection)"
   ]
  },
  {
   "cell_type": "code",
   "execution_count": 40,
   "metadata": {
    "tags": []
   },
   "outputs": [
    {
     "output_type": "stream",
     "name": "stdout",
     "text": [
      "{'11290000': {'In Used': 'YES'}, '11290010': {'TRIM(A.IS_VISIBLE)': \"= '1'\", 'TRIM(A.TYPE)': '= 3', 'TRIM(F.CODETEXT)': \"= 'ARROW'\", 'TRIM(D.CODETEXT)': \"= 'BASE','INS')\", 'TRIM(E.CODETEXT)': \"= 'HVMAP11KV'\", 'In Used': 'YES'}, '11290020': {'TRIM(A.IS_VISIBLE)': \"= '1'\", 'TRIM(A.TYPE)': '= 3', 'TRIM(F.CODETEXT)': \"= 'ARROW'\", 'TRIM(D.CODETEXT)': \"= 'BASE','INS')\", 'TRIM(E.CODETEXT)': \"= 'HVMAP22KV'\", 'In Used': 'YES'}, '11290030': {'TRIM(A.IS_VISIBLE)': \"= '1'\", 'TRIM(A.TYPE)': '= 3', 'TRIM(F.CODETEXT)': \"= 'ARROW'\", 'TRIM(D.CODETEXT)': \"= 'BASE','INS')\", 'TRIM(E.CODETEXT)': \"= 'SOLKOR'\", 'In Used': 'YES'}, '11290040': {'TRIM(A.IS_VISIBLE)': \"= '1'\", 'TRIM(A.TYPE)': '= 3', 'TRIM(F.CODETEXT)': \"= 'ARROW'\", 'TRIM(D.CODETEXT)': \"= 'BASE','INS')\", 'TRIM(E.CODETEXT)': \"= 'LVMAP'\", 'In Used': 'YES'}, '11290050': {'TRIM(A.IS_VISIBLE)': \"= '1'\", 'TRIM(A.TYPE)': '= 3', 'TRIM(F.CODETEXT)': \"= 'ARROW'\", 'TRIM(D.CODETEXT)': \"= 'BASE','INS')\", 'TRIM(E.CODETEXT)': \"= 'ADM','DT')\", 'In Used': 'YES'}, '11290060': {'TRIM(A.IS_VISIBLE)': \"= '1'\", 'TRIM(A.TYPE)': '= 3', 'TRIM(F.CODETEXT)': \"= 'ARROW'\", 'TRIM(D.CODETEXT)': \"= 'BASE','INS')\", 'TRIM(E.CODETEXT)': \"= 'PT'\", 'In Used': 'YES'}, '11290070': {'TRIM(A.IS_VISIBLE)': \"= '1'\", 'TRIM(A.TYPE)': '= 3', 'TRIM(F.CODETEXT)': \"= 'ARROW'\", 'TRIM(D.CODETEXT)': \"= 'BASE','INS')\", 'TRIM(E.CODETEXT)': \"= 'TRMAP66KV'\"}, '11290080': {'TRIM(A.IS_VISIBLE)': \"= '1'\", 'TRIM(A.TYPE)': '= 3', 'TRIM(F.CODETEXT)': \"= 'ARROW'\", 'TRIM(D.CODETEXT)': \"= 'BASE','INS')\", 'TRIM(E.CODETEXT)': \"= 'TRMAP132KV'\", 'In Used': 'YES'}, '11290090': {'TRIM(A.IS_VISIBLE)': \"= '1'\", 'TRIM(A.TYPE)': '= 3', 'TRIM(F.CODETEXT)': \"= 'ARROW'\", 'TRIM(D.CODETEXT)': \"= 'BASE','INS')\", 'TRIM(E.CODETEXT)': \"= 'TRMAP275KV'\"}, '11290100': {'TRIM(A.IS_VISIBLE)': \"= '1'\", 'TRIM(A.TYPE)': '= 3', 'TRIM(F.CODETEXT)': \"= 'ARROW'\", 'TRIM(D.CODETEXT)': \"= 'BASE','INS')\", 'TRIM(E.CODETEXT)': \"= 'SL'\"}, '11290110': {'TRIM(A.IS_VISIBLE)': \"= '1'\", 'TRIM(A.TYPE)': '= 3', 'TRIM(F.CODETEXT)': \"= 'ARROW'\", 'TRIM(D.CODETEXT)': \"= 'RES','ABN')\", 'TRIM(E.CODETEXT)': \"= 'HVMAP11KV','HVMAP22KV','SOLKOR','LVMAP','ADM','PT','TRMAP66KV','TRMAP132KV','TRMAP275KV','SL')\"}, '11290120': {'TRIM(A.IS_VISIBLE)': \"= '1'\", 'TRIM(A.TYPE)': '= 3', 'TRIM(F.CODETEXT)': \"= 'STROKE'\", 'TRIM(D.CODETEXT)': \"= 'BASE','INS')\", 'TRIM(E.CODETEXT)': \"= 'HVMAP11KV'\"}, '11290130': {'TRIM(A.IS_VISIBLE)': \"= '1'\", 'TRIM(A.TYPE)': '= 3', 'TRIM(F.CODETEXT)': \"= 'STROKE'\", 'TRIM(D.CODETEXT)': \"= 'BASE','INS')\", 'TRIM(E.CODETEXT)': \"= 'HVMAP22KV'\"}, '11290140': {'TRIM(A.IS_VISIBLE)': \"= '1'\", 'TRIM(A.TYPE)': '= 3', 'TRIM(F.CODETEXT)': \"= 'STROKE'\", 'TRIM(D.CODETEXT)': \"= 'BASE','INS')\", 'TRIM(E.CODETEXT)': \"= 'SOLKOR'\"}, '11290150': {'TRIM(A.IS_VISIBLE)': \"= '1'\", 'TRIM(A.TYPE)': '= 3', 'TRIM(F.CODETEXT)': \"= 'STROKE'\", 'TRIM(D.CODETEXT)': \"= 'BASE','INS')\", 'TRIM(E.CODETEXT)': \"= 'LVMAP'\"}, '11290160': {'TRIM(A.IS_VISIBLE)': \"= '1'\", 'TRIM(A.TYPE)': '= 3', 'TRIM(F.CODETEXT)': \"= 'STROKE'\", 'TRIM(D.CODETEXT)': \"= 'BASE','INS')\", 'TRIM(E.CODETEXT)': \"= 'ADM','DT')\"}, '11290170': {'TRIM(A.IS_VISIBLE)': \"= '1'\", 'TRIM(A.TYPE)': '= 3', 'TRIM(F.CODETEXT)': \"= 'STROKE'\", 'TRIM(D.CODETEXT)': \"= 'BASE','INS')\", 'TRIM(E.CODETEXT)': \"= 'PT'\"}, '11290180': {'TRIM(A.IS_VISIBLE)': \"= '1'\", 'TRIM(A.TYPE)': '= 3', 'TRIM(F.CODETEXT)': \"= 'STROKE'\", 'TRIM(D.CODETEXT)': \"= 'BASE','INS')\", 'TRIM(E.CODETEXT)': \"= 'TRMAP66KV'\"}, '11290190': {'TRIM(A.IS_VISIBLE)': \"= '1'\", 'TRIM(A.TYPE)': '= 3', 'TRIM(F.CODETEXT)': \"= 'STROKE'\", 'TRIM(D.CODETEXT)': \"= 'BASE','INS')\", 'TRIM(E.CODETEXT)': \"= 'TRMAP132KV'\"}, '11290200': {'TRIM(A.IS_VISIBLE)': \"= '1'\", 'TRIM(A.TYPE)': '= 3', 'TRIM(F.CODETEXT)': \"= 'STROKE'\", 'TRIM(D.CODETEXT)': \"= 'BASE','INS')\", 'TRIM(E.CODETEXT)': \"= 'TRMAP275KV'\"}, '11290210': {'TRIM(A.IS_VISIBLE)': \"= '1'\", 'TRIM(A.TYPE)': '= 3', 'TRIM(F.CODETEXT)': \"= 'STROKE'\", 'TRIM(D.CODETEXT)': \"= 'BASE','INS')\", 'TRIM(E.CODETEXT)': \"= 'SL'\"}, '11290220': {'TRIM(A.IS_VISIBLE)': \"= '1'\", 'TRIM(A.TYPE)': '= 3', 'TRIM(F.CODETEXT)': \"= 'STROKE'\", 'TRIM(D.CODETEXT)': \"= 'RES','ABN')\", 'TRIM(E.CODETEXT)': \"= 'HVMAP11KV','HVMAP22KV','SOLKOR','LVMAP','ADM','PT','TRMAP66KV','TRMAP132KV','TRMAP275KV','SL')\"}, '11290230': {'TRIM(A.IS_VISIBLE)': \"= '1'\", 'TRIM(A.TYPE)': '= 4,5)', 'TRIM(F.CODETEXT)': \"= 'ARROW'\", 'TRIM(D.CODETEXT)': \"= 'BASE','INS')\", 'TRIM(E.CODETEXT)': \"= 'HVMAP11KV'\", 'In Used': 'YES'}, '11290240': {'TRIM(A.IS_VISIBLE)': \"= '1'\", 'TRIM(A.TYPE)': '= 4,5)', 'TRIM(F.CODETEXT)': \"= 'ARROW'\", 'TRIM(D.CODETEXT)': \"= 'BASE','INS')\", 'TRIM(E.CODETEXT)': \"= 'HVMAP22KV'\", 'In Used': 'YES'}, '11290250': {'TRIM(A.IS_VISIBLE)': \"= '1'\", 'TRIM(A.TYPE)': '= 4,5)', 'TRIM(F.CODETEXT)': \"= 'ARROW'\", 'TRIM(D.CODETEXT)': \"= 'BASE','INS')\", 'TRIM(E.CODETEXT)': \"= 'SOLKOR'\", 'In Used': 'YES'}, '11290260': {'TRIM(A.IS_VISIBLE)': \"= '1'\", 'TRIM(A.TYPE)': '= 4,5)', 'TRIM(F.CODETEXT)': \"= 'ARROW'\", 'TRIM(D.CODETEXT)': \"= 'BASE','INS')\", 'TRIM(E.CODETEXT)': \"= 'LVMAP'\", 'In Used': 'YES'}, '11290270': {'TRIM(A.IS_VISIBLE)': \"= '1'\", 'TRIM(A.TYPE)': '= 4,5)', 'TRIM(F.CODETEXT)': \"= 'ARROW'\", 'TRIM(D.CODETEXT)': \"= 'BASE','INS')\", 'TRIM(E.CODETEXT)': \"= 'ADM','DT')\", 'In Used': 'YES'}, '11290280': {'TRIM(A.IS_VISIBLE)': \"= '1'\", 'TRIM(A.TYPE)': '= 4,5)', 'TRIM(F.CODETEXT)': \"= 'ARROW'\", 'TRIM(D.CODETEXT)': \"= 'BASE','INS')\", 'TRIM(E.CODETEXT)': \"= 'PT'\", 'In Used': 'YES'}, '11290290': {'TRIM(A.IS_VISIBLE)': \"= '1'\", 'TRIM(A.TYPE)': '= 4,5)', 'TRIM(F.CODETEXT)': \"= 'ARROW'\", 'TRIM(D.CODETEXT)': \"= 'BASE','INS')\", 'TRIM(E.CODETEXT)': \"= 'TRMAP66KV'\"}, '11290300': {'TRIM(A.IS_VISIBLE)': \"= '1'\", 'TRIM(A.TYPE)': '= 4,5)', 'TRIM(F.CODETEXT)': \"= 'ARROW'\", 'TRIM(D.CODETEXT)': \"= 'BASE','INS')\", 'TRIM(E.CODETEXT)': \"= 'TRMAP132KV'\", 'In Used': 'YES'}, '11290310': {'TRIM(A.IS_VISIBLE)': \"= '1'\", 'TRIM(A.TYPE)': '= 4,5)', 'TRIM(F.CODETEXT)': \"= 'ARROW'\", 'TRIM(D.CODETEXT)': \"= 'BASE','INS')\", 'TRIM(E.CODETEXT)': \"= 'TRMAP275KV'\"}, '11290320': {'TRIM(A.IS_VISIBLE)': \"= '1'\", 'TRIM(A.TYPE)': '= 4,5)', 'TRIM(F.CODETEXT)': \"= 'ARROW'\", 'TRIM(D.CODETEXT)': \"= 'BASE','INS')\", 'TRIM(E.CODETEXT)': \"= 'SL'\"}, '11290330': {'TRIM(A.IS_VISIBLE)': \"= '1'\", 'TRIM(A.TYPE)': '= 4,5)', 'TRIM(F.CODETEXT)': \"= 'ARROW'\", 'TRIM(D.CODETEXT)': \"= 'RES','ABN')\", 'TRIM(E.CODETEXT)': \"= 'HVMAP11KV','HVMAP22KV','SOLKOR','LVMAP','ADM','PT','TRMAP66KV','TRMAP132KV','TRMAP275KV','SL')\"}, '11290340': {'TRIM(A.IS_VISIBLE)': \"= '1'\", 'TRIM(A.TYPE)': '= 4,5)', 'TRIM(F.CODETEXT)': \"= 'STROKE'\", 'TRIM(D.CODETEXT)': \"= 'BASE','INS')\", 'TRIM(E.CODETEXT)': \"= 'HVMAP11KV'\"}, '11290350': {'TRIM(A.IS_VISIBLE)': \"= '1'\", 'TRIM(A.TYPE)': '= 4,5)', 'TRIM(F.CODETEXT)': \"= 'STROKE'\", 'TRIM(D.CODETEXT)': \"= 'BASE','INS')\", 'TRIM(E.CODETEXT)': \"= 'HVMAP22KV'\"}, '11290360': {'TRIM(A.IS_VISIBLE)': \"= '1'\", 'TRIM(A.TYPE)': '= 4,5)', 'TRIM(F.CODETEXT)': \"= 'STROKE'\", 'TRIM(D.CODETEXT)': \"= 'BASE','INS')\", 'TRIM(E.CODETEXT)': \"= 'SOLKOR'\"}, '11290370': {'TRIM(A.IS_VISIBLE)': \"= '1'\", 'TRIM(A.TYPE)': '= 4,5)', 'TRIM(F.CODETEXT)': \"= 'STROKE'\", 'TRIM(D.CODETEXT)': \"= 'BASE','INS')\", 'TRIM(E.CODETEXT)': \"= 'LVMAP'\"}, '11290380': {'TRIM(A.IS_VISIBLE)': \"= '1'\", 'TRIM(A.TYPE)': '= 4,5)', 'TRIM(F.CODETEXT)': \"= 'STROKE'\", 'TRIM(D.CODETEXT)': \"= 'BASE','INS')\", 'TRIM(E.CODETEXT)': \"= 'ADM','DT')\"}, '11290390': {'TRIM(A.IS_VISIBLE)': \"= '1'\", 'TRIM(A.TYPE)': '= 4,5)', 'TRIM(F.CODETEXT)': \"= 'STROKE'\", 'TRIM(D.CODETEXT)': \"= 'BASE','INS')\", 'TRIM(E.CODETEXT)': \"= 'PT'\"}, '11290400': {'TRIM(A.IS_VISIBLE)': \"= '1'\", 'TRIM(A.TYPE)': '= 4,5)', 'TRIM(F.CODETEXT)': \"= 'STROKE'\", 'TRIM(D.CODETEXT)': \"= 'BASE','INS')\", 'TRIM(E.CODETEXT)': \"= 'TRMAP66KV'\"}, '11290410': {'TRIM(A.IS_VISIBLE)': \"= '1'\", 'TRIM(A.TYPE)': '= 4,5)', 'TRIM(F.CODETEXT)': \"= 'STROKE'\", 'TRIM(D.CODETEXT)': \"= 'BASE','INS')\", 'TRIM(E.CODETEXT)': \"= 'TRMAP132KV'\"}, '11290420': {'TRIM(A.IS_VISIBLE)': \"= '1'\", 'TRIM(A.TYPE)': '= 4,5)', 'TRIM(F.CODETEXT)': \"= 'STROKE'\", 'TRIM(D.CODETEXT)': \"= 'BASE','INS')\", 'TRIM(E.CODETEXT)': \"= 'TRMAP275KV'\"}, '11290430': {'TRIM(A.IS_VISIBLE)': \"= '1'\", 'TRIM(A.TYPE)': '= 4,5)', 'TRIM(F.CODETEXT)': \"= 'STROKE'\", 'TRIM(D.CODETEXT)': \"= 'BASE','INS')\", 'TRIM(E.CODETEXT)': \"= 'SL'\"}, '11290440': {'TRIM(A.IS_VISIBLE)': \"= '1'\", 'TRIM(A.TYPE)': '= 4,5)', 'TRIM(F.CODETEXT)': \"= 'STROKE'\", 'TRIM(D.CODETEXT)': \"= 'RES','ABN')\", 'TRIM(E.CODETEXT)': \"= 'HVMAP11KV','HVMAP22KV','SOLKOR','LVMAP','ADM','PT','TRMAP66KV','TRMAP132KV','TRMAP275KV','SL')\"}, '11290450': {'TRIM(A.IS_VISIBLE)': \"= '1'\", 'TRIM(A.TYPE)': '= 1,2)', 'TRIM(D.CODETEXT)': \"= 'BASE','INS')\", 'TRIM(E.CODETEXT)': \"= 'HVMAP11KV'\", 'In Used': 'YES'}, '11290460': {'TRIM(A.IS_VISIBLE)': \"= '1'\", 'TRIM(A.TYPE)': '= 1,2)', 'TRIM(D.CODETEXT)': \"= 'BASE','INS')\", 'TRIM(E.CODETEXT)': \"= 'HVMAP22KV'\", 'In Used': 'YES'}, '11290470': {'TRIM(A.IS_VISIBLE)': \"= '1'\", 'TRIM(A.TYPE)': '= 1,2)', 'TRIM(D.CODETEXT)': \"= 'BASE','INS')\", 'TRIM(E.CODETEXT)': \"= 'SOLKOR'\", 'In Used': 'YES'}, '11290480': {'TRIM(A.IS_VISIBLE)': \"= '1'\", 'TRIM(A.TYPE)': '= 1,2)', 'TRIM(D.CODETEXT)': \"= 'BASE','INS')\", 'TRIM(E.CODETEXT)': \"= 'LVMAP'\", 'In Used': 'YES'}, '11290490': {'TRIM(A.IS_VISIBLE)': \"= '1'\", 'TRIM(A.TYPE)': '= 1,2)', 'TRIM(D.CODETEXT)': \"= 'BASE','INS')\", 'TRIM(E.CODETEXT)': \"= 'ADM','DT')\", 'In Used': 'YES'}, '11290500': {'TRIM(A.IS_VISIBLE)': \"= '1'\", 'TRIM(A.TYPE)': '= 1,2)', 'TRIM(D.CODETEXT)': \"= 'BASE','INS')\", 'TRIM(E.CODETEXT)': \"= 'PT'\", 'In Used': 'YES'}, '11290510': {'TRIM(A.IS_VISIBLE)': \"= '1'\", 'TRIM(A.TYPE)': '= 1,2)', 'TRIM(D.CODETEXT)': \"= 'BASE','INS')\", 'TRIM(E.CODETEXT)': \"= 'TRMAP66KV'\"}, '11290520': {'TRIM(A.IS_VISIBLE)': \"= '1'\", 'TRIM(A.TYPE)': '= 1,2)', 'TRIM(D.CODETEXT)': \"= 'BASE','INS')\", 'TRIM(E.CODETEXT)': \"= 'TRMAP132KV'\", 'In Used': 'YES'}, '11290530': {'TRIM(A.IS_VISIBLE)': \"= '1'\", 'TRIM(A.TYPE)': '= 1,2)', 'TRIM(D.CODETEXT)': \"= 'BASE','INS')\", 'TRIM(E.CODETEXT)': \"= 'TRMAP275KV'\"}, '11290540': {'TRIM(A.IS_VISIBLE)': \"= '1'\", 'TRIM(A.TYPE)': '= 1,2)', 'TRIM(D.CODETEXT)': \"= 'BASE','INS')\", 'TRIM(E.CODETEXT)': \"= 'SL'\"}, '11290550': {'TRIM(A.IS_VISIBLE)': \"= '1'\", 'TRIM(A.TYPE)': '= 1,2)', 'TRIM(D.CODETEXT)': \"= 'RES','ABN')\", 'TRIM(E.CODETEXT)': \"= 'HVMAP11KV','HVMAP22KV','SOLKOR','LVMAP','ADM','PT','TRMAP66KV','TRMAP132KV','TRMAP275KV','SL')\"}}\n"
     ]
    }
   ],
   "source": [
    "# extract cause(logic condition) and effect(styleid) into dict\n",
    "logics = {}\n",
    "logics.update({default:{}})\n",
    "\n",
    "spl_chr = \"THEN\"\n",
    "spl_and = \"AND\"\n",
    "spl_or = \"OR\"\n",
    "spl_eq = \"=\"\n",
    "spl_neq = \"<>\"\n",
    "spl_geq = \">=\"\n",
    "spl_seq = \"<=\"\n",
    "spl_g = \">\"\n",
    "spl_s = \"<\"\n",
    "spl_in = \"IN(\"\n",
    "spl_notin = \"NOTIN\"\n",
    "for txt in txts:\n",
    "    if txt != \"\":\n",
    "        styleid = txt.rpartition(spl_chr)[2]\n",
    "        content = txt.rpartition(spl_chr)[0]\n",
    "        logic = {}\n",
    "        if not logichard:\n",
    "            if spl_and in content:\n",
    "                cond_list = content.split(spl_and)\n",
    "                for cond in cond_list:\n",
    "                    if spl_eq in cond:\n",
    "                        logic.update({cond.rpartition(spl_eq)[0]:\"= \" + cond.rpartition(spl_eq)[2]})\n",
    "                    elif spl_neq in cond:\n",
    "                        logic.update({cond.rpartition(spl_neq)[0]:\"<> \" + cond.rpartition(spl_neq)[2]})\n",
    "                    elif spl_geq in cond:\n",
    "                        logic.update({cond.rpartition(spl_geq)[0]:\">= \" + cond.rpartition(spl_geq)[2]})\n",
    "                    elif spl_seq in cond:\n",
    "                        logic.update({cond.rpartition(spl_seq)[0]:\"<= \" + cond.rpartition(spl_seq)[2]})\n",
    "                    elif spl_g in cond:\n",
    "                        logic.update({cond.rpartition(spl_g)[0]:\"> \" + cond.rpartition(spl_g)[2]})\n",
    "                    elif spl_s in cond:\n",
    "                        logic.update({cond.rpartition(spl_s)[0]:\"< \" + cond.rpartition(spl_s)[2]})\n",
    "                    elif spl_notin in cond:\n",
    "                        logic.update({cond.rpartition(spl_notin)[0]:\"NOT \" + cond.rpartition(spl_notin)[2]})\n",
    "                    elif spl_in in cond:\n",
    "                        logic.update({cond.rpartition(spl_in)[0]:\"= \" + cond.rpartition(spl_in)[2]})\n",
    "                    \n",
    "            else:\n",
    "                if spl_eq in content:\n",
    "                    logic.update({content.rpartition(spl_eq)[0]:\"= \" + content.rpartition(spl_eq)[2]})\n",
    "                elif spl_neq in content:\n",
    "                    logic.update({content.rpartition(spl_neq)[0]:\"<> \" + content.rpartition(spl_neq)[2]})\n",
    "                elif spl_geq in content:\n",
    "                    logic.update({content.rpartition(spl_geq)[0]:\">= \" + content.rpartition(spl_geq)[2]})\n",
    "                elif spl_seq in content:\n",
    "                    logic.update({content.rpartition(spl_seq)[0]:\"<= \" + content.rpartition(spl_seq)[2]})\n",
    "                elif spl_g in content:\n",
    "                    logic.update({content.rpartition(spl_g)[0]:\"> \" + content.rpartition(spl_g)[2]})\n",
    "                elif spl_s in content:\n",
    "                    logic.update({content.rpartition(spl_s)[0]:\"< \" + content.rpartition(spl_s)[2]})\n",
    "                elif spl_notin in content:\n",
    "                    logic.update({content.rpartition(spl_notin)[0]:\"NOT \" + content.rpartition(spl_notin)[2]})\n",
    "                elif spl_in in content:\n",
    "                    logic.update({content.rpartition(spl_in)[0]:\"= \" + content.rpartition(spl_in)[2]})\n",
    "        else:\n",
    "            logic.update({\"logic\":content})\n",
    "\n",
    "        index = len(styleid)\n",
    "        # remove comment that often tag behind style id\n",
    "        for i in styleid:\n",
    "            if not i.isdigit():\n",
    "                index = styleid.index(i)\n",
    "                break\n",
    "        styleid = styleid[:index]\n",
    "        # update logic with corresponding styleid\n",
    "        logics.update({styleid : logic})\n",
    "\n",
    "\n",
    "for row in dfid.iterrows():\n",
    "    logics[str(int(row[1].values))].update({\"In Used\" : \"YES\"})\n",
    "\n",
    "print(logics)"
   ]
  },
  {
   "cell_type": "code",
   "execution_count": 41,
   "metadata": {
    "tags": []
   },
   "outputs": [
    {
     "output_type": "stream",
     "name": "stdout",
     "text": [
      "{'11290000': {'G3E_COLOR': [16730955], 'G3E_WIDTH': [0.04], 'G3E_PLOTREDLINE': [1], 'G3E_STYLEUNITS': [3]}, '11290010': {'G3E_COLOR': [255], 'G3E_WIDTH': [0.04], 'G3E_STARTSYMBOL': [11295120], 'G3E_ENDSYMBOL': [11295010], 'G3E_PLOTREDLINE': [1], 'G3E_STYLEUNITS': [1]}, '11290020': {'G3E_COLOR': [14459090], 'G3E_WIDTH': [0.04], 'G3E_STARTSYMBOL': [11295130], 'G3E_ENDSYMBOL': [11295020], 'G3E_PLOTREDLINE': [1], 'G3E_STYLEUNITS': [1]}, '11290030': {'G3E_COLOR': [14459090], 'G3E_WIDTH': [0.04], 'G3E_STARTSYMBOL': [11295140], 'G3E_ENDSYMBOL': [11295030], 'G3E_PLOTREDLINE': [1], 'G3E_STYLEUNITS': [1]}, '11290040': {'G3E_COLOR': [16776960], 'G3E_WIDTH': [0.04], 'G3E_STARTSYMBOL': [11295150], 'G3E_ENDSYMBOL': [11295040], 'G3E_PLOTREDLINE': [1], 'G3E_STYLEUNITS': [1]}, '11290050': {'G3E_COLOR': [13487565], 'G3E_WIDTH': [0.04], 'G3E_STARTSYMBOL': [11295160], 'G3E_ENDSYMBOL': [11295050], 'G3E_PLOTREDLINE': [1], 'G3E_STYLEUNITS': [1]}, '11290060': {'G3E_COLOR': [16711935], 'G3E_WIDTH': [0.04], 'G3E_STARTSYMBOL': [11295170], 'G3E_ENDSYMBOL': [11295060], 'G3E_PLOTREDLINE': [1], 'G3E_STYLEUNITS': [1]}, '11290070': {'G3E_COLOR': [65280], 'G3E_WIDTH': [0.04], 'G3E_STARTSYMBOL': [11295180], 'G3E_ENDSYMBOL': [11295070], 'G3E_PLOTREDLINE': [1], 'G3E_STYLEUNITS': [1]}, '11290080': {'G3E_COLOR': [49920], 'G3E_WIDTH': [0.04], 'G3E_STARTSYMBOL': [11295190], 'G3E_ENDSYMBOL': [11295080], 'G3E_PLOTREDLINE': [1], 'G3E_STYLEUNITS': [1]}, '11290090': {'G3E_COLOR': [37120], 'G3E_WIDTH': [0.04], 'G3E_STARTSYMBOL': [11295200], 'G3E_ENDSYMBOL': [11295090], 'G3E_PLOTREDLINE': [1], 'G3E_STYLEUNITS': [1]}, '11290100': {'G3E_COLOR': [6587095], 'G3E_WIDTH': [0.04], 'G3E_STARTSYMBOL': [11295210], 'G3E_ENDSYMBOL': [11295100], 'G3E_PLOTREDLINE': [1], 'G3E_STYLEUNITS': [1]}, '11290110': {'G3E_COLOR': [8882055], 'G3E_WIDTH': [0.04], 'G3E_STARTSYMBOL': [11295220], 'G3E_ENDSYMBOL': [11295110], 'G3E_PLOTREDLINE': [1], 'G3E_STYLEUNITS': [1]}, '11290120': {'G3E_COLOR': [255], 'G3E_WIDTH': [0.04], 'G3E_STARTSYMBOL': [11295340], 'G3E_ENDSYMBOL': [11295230], 'G3E_PLOTREDLINE': [1], 'G3E_STYLEUNITS': [1]}, '11290130': {'G3E_COLOR': [14459090], 'G3E_WIDTH': [0.04], 'G3E_STARTSYMBOL': [11295350], 'G3E_ENDSYMBOL': [11295240], 'G3E_PLOTREDLINE': [1], 'G3E_STYLEUNITS': [1]}, '11290140': {'G3E_COLOR': [14459090], 'G3E_WIDTH': [0.04], 'G3E_STARTSYMBOL': [11295360], 'G3E_ENDSYMBOL': [11295250], 'G3E_PLOTREDLINE': [1], 'G3E_STYLEUNITS': [1]}, '11290150': {'G3E_COLOR': [16776960], 'G3E_WIDTH': [0.04], 'G3E_STARTSYMBOL': [11295370], 'G3E_ENDSYMBOL': [11295260], 'G3E_PLOTREDLINE': [1], 'G3E_STYLEUNITS': [1]}, '11290160': {'G3E_COLOR': [13487565], 'G3E_WIDTH': [0.04], 'G3E_STARTSYMBOL': [11295380], 'G3E_ENDSYMBOL': [11295270], 'G3E_PLOTREDLINE': [1], 'G3E_STYLEUNITS': [1]}, '11290170': {'G3E_COLOR': [16711935], 'G3E_WIDTH': [0.04], 'G3E_STARTSYMBOL': [11295390], 'G3E_ENDSYMBOL': [11295280], 'G3E_PLOTREDLINE': [1], 'G3E_STYLEUNITS': [1]}, '11290180': {'G3E_COLOR': [65280], 'G3E_WIDTH': [0.04], 'G3E_STARTSYMBOL': [11295400], 'G3E_ENDSYMBOL': [11295290], 'G3E_PLOTREDLINE': [1], 'G3E_STYLEUNITS': [1]}, '11290190': {'G3E_COLOR': [49920], 'G3E_WIDTH': [0.04], 'G3E_STARTSYMBOL': [11295410], 'G3E_ENDSYMBOL': [11295300], 'G3E_PLOTREDLINE': [1], 'G3E_STYLEUNITS': [1]}, '11290200': {'G3E_COLOR': [37120], 'G3E_WIDTH': [0.04], 'G3E_STARTSYMBOL': [11295420], 'G3E_ENDSYMBOL': [11295310], 'G3E_PLOTREDLINE': [1], 'G3E_STYLEUNITS': [1]}, '11290210': {'G3E_COLOR': [6587095], 'G3E_WIDTH': [0.04], 'G3E_STARTSYMBOL': [11295430], 'G3E_ENDSYMBOL': [11295320], 'G3E_PLOTREDLINE': [1], 'G3E_STYLEUNITS': [1]}, '11290220': {'G3E_COLOR': [8882055], 'G3E_WIDTH': [0.04], 'G3E_STARTSYMBOL': [11295440], 'G3E_ENDSYMBOL': [11295330], 'G3E_PLOTREDLINE': [1], 'G3E_STYLEUNITS': [1]}, '11290230': {'G3E_COLOR': [255], 'G3E_WIDTH': [0.04], 'G3E_STARTSYMBOL': [11295120], 'G3E_PLOTREDLINE': [1], 'G3E_STYLEUNITS': [1]}, '11290240': {'G3E_COLOR': [14459090], 'G3E_WIDTH': [0.04], 'G3E_STARTSYMBOL': [11295130], 'G3E_PLOTREDLINE': [1], 'G3E_STYLEUNITS': [1]}, '11290250': {'G3E_COLOR': [14459090], 'G3E_WIDTH': [0.04], 'G3E_STARTSYMBOL': [11295140], 'G3E_PLOTREDLINE': [1], 'G3E_STYLEUNITS': [1]}, '11290260': {'G3E_COLOR': [16776960], 'G3E_WIDTH': [0.04], 'G3E_STARTSYMBOL': [11295150], 'G3E_PLOTREDLINE': [1], 'G3E_STYLEUNITS': [1]}, '11290270': {'G3E_COLOR': [13487565], 'G3E_WIDTH': [0.04], 'G3E_STARTSYMBOL': [11295160], 'G3E_PLOTREDLINE': [1], 'G3E_STYLEUNITS': [1]}, '11290280': {'G3E_COLOR': [16711935], 'G3E_WIDTH': [0.04], 'G3E_STARTSYMBOL': [11295170], 'G3E_PLOTREDLINE': [1], 'G3E_STYLEUNITS': [1]}, '11290290': {'G3E_COLOR': [65280], 'G3E_WIDTH': [0.04], 'G3E_STARTSYMBOL': [11295180], 'G3E_PLOTREDLINE': [1], 'G3E_STYLEUNITS': [1]}, '11290300': {'G3E_COLOR': [49920], 'G3E_WIDTH': [0.04], 'G3E_STARTSYMBOL': [11295190], 'G3E_PLOTREDLINE': [1], 'G3E_STYLEUNITS': [1]}, '11290310': {'G3E_COLOR': [37120], 'G3E_WIDTH': [0.04], 'G3E_STARTSYMBOL': [11295200], 'G3E_PLOTREDLINE': [1], 'G3E_STYLEUNITS': [1]}, '11290320': {'G3E_COLOR': [6587095], 'G3E_WIDTH': [0.04], 'G3E_STARTSYMBOL': [11295210], 'G3E_PLOTREDLINE': [1], 'G3E_STYLEUNITS': [1]}, '11290330': {'G3E_COLOR': [8882055], 'G3E_WIDTH': [0.04], 'G3E_STARTSYMBOL': [11295220], 'G3E_PLOTREDLINE': [1], 'G3E_STYLEUNITS': [1]}, '11290340': {'G3E_COLOR': [255], 'G3E_WIDTH': [0.04], 'G3E_STARTSYMBOL': [11295340], 'G3E_PLOTREDLINE': [1], 'G3E_STYLEUNITS': [1]}, '11290350': {'G3E_COLOR': [14459090], 'G3E_WIDTH': [0.04], 'G3E_STARTSYMBOL': [11295350], 'G3E_PLOTREDLINE': [1], 'G3E_STYLEUNITS': [1]}, '11290360': {'G3E_COLOR': [14459090], 'G3E_WIDTH': [0.04], 'G3E_STARTSYMBOL': [11295360], 'G3E_PLOTREDLINE': [1], 'G3E_STYLEUNITS': [1]}, '11290370': {'G3E_COLOR': [16776960], 'G3E_WIDTH': [0.04], 'G3E_STARTSYMBOL': [11295370], 'G3E_PLOTREDLINE': [1], 'G3E_STYLEUNITS': [1]}, '11290380': {'G3E_COLOR': [13487565], 'G3E_WIDTH': [0.04], 'G3E_STARTSYMBOL': [11295380], 'G3E_PLOTREDLINE': [1], 'G3E_STYLEUNITS': [1]}, '11290390': {'G3E_COLOR': [16711935], 'G3E_WIDTH': [0.04], 'G3E_STARTSYMBOL': [11295390], 'G3E_PLOTREDLINE': [1], 'G3E_STYLEUNITS': [1]}, '11290400': {'G3E_COLOR': [65280], 'G3E_WIDTH': [0.04], 'G3E_STARTSYMBOL': [11295400], 'G3E_PLOTREDLINE': [1], 'G3E_STYLEUNITS': [1]}, '11290410': {'G3E_COLOR': [49920], 'G3E_WIDTH': [0.04], 'G3E_STARTSYMBOL': [11295410], 'G3E_PLOTREDLINE': [1], 'G3E_STYLEUNITS': [1]}, '11290420': {'G3E_COLOR': [37120], 'G3E_WIDTH': [0.04], 'G3E_STARTSYMBOL': [11295420], 'G3E_PLOTREDLINE': [1], 'G3E_STYLEUNITS': [1]}, '11290430': {'G3E_COLOR': [6587095], 'G3E_WIDTH': [0.04], 'G3E_STARTSYMBOL': [11295430], 'G3E_PLOTREDLINE': [1], 'G3E_STYLEUNITS': [1]}, '11290440': {'G3E_COLOR': [8882055], 'G3E_WIDTH': [0.04], 'G3E_STARTSYMBOL': [11295440], 'G3E_PLOTREDLINE': [1], 'G3E_STYLEUNITS': [1]}, '11290450': {'G3E_COLOR': [255], 'G3E_WIDTH': [0.04], 'G3E_PLOTREDLINE': [1], 'G3E_STYLEUNITS': [3]}, '11290460': {'G3E_COLOR': [14459090], 'G3E_WIDTH': [0.04], 'G3E_PLOTREDLINE': [1], 'G3E_STYLEUNITS': [3]}, '11290470': {'G3E_COLOR': [14459090], 'G3E_WIDTH': [0.04], 'G3E_PLOTREDLINE': [1], 'G3E_STYLEUNITS': [3]}, '11290480': {'G3E_COLOR': [16776960], 'G3E_WIDTH': [0.04], 'G3E_PLOTREDLINE': [1], 'G3E_STYLEUNITS': [3]}, '11290490': {'G3E_COLOR': [13487565], 'G3E_WIDTH': [0.04], 'G3E_PLOTREDLINE': [1], 'G3E_STYLEUNITS': [3]}, '11290500': {'G3E_COLOR': [16711935], 'G3E_WIDTH': [0.04], 'G3E_PLOTREDLINE': [1], 'G3E_STYLEUNITS': [3]}, '11290510': {'G3E_COLOR': [65280], 'G3E_WIDTH': [0.04], 'G3E_PLOTREDLINE': [1], 'G3E_STYLEUNITS': [3]}, '11290520': {'G3E_COLOR': [49920], 'G3E_WIDTH': [0.04], 'G3E_PLOTREDLINE': [1], 'G3E_STYLEUNITS': [3]}, '11290530': {'G3E_COLOR': [37120], 'G3E_WIDTH': [0.04], 'G3E_PLOTREDLINE': [1], 'G3E_STYLEUNITS': [3]}, '11290540': {'G3E_COLOR': [6587095], 'G3E_WIDTH': [0.04], 'G3E_PLOTREDLINE': [1], 'G3E_STYLEUNITS': [3]}, '11290550': {'G3E_COLOR': [8882055], 'G3E_WIDTH': [0.04], 'G3E_PLOTREDLINE': [1], 'G3E_STYLEUNITS': [3]}}\n"
     ]
    }
   ],
   "source": [
    "# get the relevant information for the given style id\n",
    "styles = {}\n",
    "# check if compositeline, as there is a seperate method of getting style info\n",
    "if styletable != 'G3E_COMPOSITELINESTYLE':\n",
    "    for styleid in logics.keys():\n",
    "        sqlstyle = \"SELECT * FROM {table} WHERE g3e_sno = '{styleid}'\".format(table = styletable, styleid = styleid)\n",
    "        df=pd.read_sql(sqlstyle,con=connection)\n",
    "        df = df.drop(['G3E_SNO','G3E_USERNAME','G3E_EDITDATE'], axis = 1)\n",
    "        df = df.dropna(how='all',axis=1)\n",
    "        data = df.to_dict(orient = 'list')\n",
    "        styles.update({styleid:data})\n",
    "\n",
    "        \n",
    "else:\n",
    "    for styleid in logics.keys():\n",
    "        # get line style\n",
    "        sqlstyle = \"SELECT b.* FROM G3E_COMPOSITELINESTYLE a JOIN g3e_linestyle b on a.g3e_line1 = b.g3e_sno WHERE a.g3e_sno = '{styleid}'\".format(styleid = styleid)\n",
    "        df1=pd.read_sql(sqlstyle,con=connection)\n",
    "        df1 = df1.drop(df1.columns[[0,1,3,4,5,6,9,10,11]], axis = 1)\n",
    "        # get stroke pattern\n",
    "        if not df1.empty:\n",
    "            sqlstyle = \"SELECT * FROM G3E_NORMALIZEDSTROKE WHERE G3E_SPNO = {stroke}\".format(stroke = df1.G3E_STROKEPATTERN[0])\n",
    "            df1s = pd.read_sql(sqlstyle,con=connection)\n",
    "            df1s = df1s.drop(['G3E_SPNO','G3E_USERNAME','G3E_EDITDATE','G3E_DASHPATTERNADJUSTMENT','G3E_MICROSTATIONSTYLENAME','G3E_UDLS'], axis = 1)\n",
    "            df1 = pd.concat([df1,df1s], axis = 1)\n",
    "        \n",
    "\n",
    "        # get line style\n",
    "        sqlstyle = \"SELECT c.* FROM G3E_COMPOSITELINESTYLE a JOIN g3e_linestyle c on a.g3e_line2 = c.g3e_sno WHERE a.g3e_sno = '{styleid}'\".format(styleid = styleid)\n",
    "        df2=pd.read_sql(sqlstyle,con=connection)\n",
    "        df2 = df2.drop(df2.columns[[0,1,3,4,5,6,9,10,11]], axis = 1)\n",
    "        # get stroke pattern\n",
    "        if not df2.empty:\n",
    "            sqlstyle = \"SELECT * FROM G3E_NORMALIZEDSTROKE WHERE G3E_SPNO = {stroke}\".format(stroke = df2.G3E_STROKEPATTERN[0])\n",
    "            df2s = pd.read_sql(sqlstyle,con=connection)\n",
    "            df2s = df2s.drop(['G3E_SPNO','G3E_USERNAME','G3E_EDITDATE','G3E_DASHPATTERNADJUSTMENT','G3E_MICROSTATIONSTYLENAME','G3E_UDLS'], axis = 1)\n",
    "            df2 = pd.concat([df2,df2s], axis = 1)\n",
    "\n",
    "        # combine table\n",
    "        df = pd.concat([df1,df2], axis = 1)\n",
    "        # rename column that has the same name\n",
    "        cols = pd.Series(df.columns)            \n",
    "        for dup in df.columns[df.columns.duplicated(keep=False)]:\n",
    "            cols[df.columns.get_loc(dup)] = ([dup + '_' + str(d_idx) if d_idx != 0 else dup for d_idx in range(df.columns.get_loc(dup).sum())])\n",
    "        df.columns = cols\n",
    "\n",
    "        # if both pattern is empty then get style from single line style table\n",
    "        if df.empty:\n",
    "            sqlstyle = \"SELECT * FROM G3E_LINESTYLE WHERE g3e_sno = '{styleid}'\".format(table = styletable, styleid = styleid)\n",
    "            df = pd.read_sql(sqlstyle,con=connection)\n",
    "            # get stroke pattern\n",
    "            if df.G3E_STROKEPATTERN[0] is not None:\n",
    "                sqlstyle = \"SELECT * FROM G3E_NORMALIZEDSTROKE WHERE G3E_SPNO = {stroke}\".format(stroke = df.G3E_STROKEPATTERN[0])\n",
    "                dfs = pd.read_sql(sqlstyle,con=connection)\n",
    "                dfs = dfs.drop(['G3E_SPNO','G3E_USERNAME','G3E_EDITDATE','G3E_DASHPATTERNADJUSTMENT','G3E_MICROSTATIONSTYLENAME','G3E_UDLS'], axis = 1)\n",
    "                df = pd.concat([df,dfs], axis = 1)\n",
    "            df = df.drop(['G3E_SNO','G3E_USERNAME','G3E_EDITDATE'], axis = 1)\n",
    "        df = df.dropna(how='all',axis=1)\n",
    "        \n",
    "        data = df.to_dict(orient = 'list')\n",
    "        styles.update({styleid:data})\n",
    "\n",
    "print(styles)"
   ]
  },
  {
   "cell_type": "code",
   "execution_count": 42,
   "metadata": {
    "tags": []
   },
   "outputs": [],
   "source": [
    "df1 = pd.DataFrame.from_dict({(i): styles[i]\n",
    "                                for i in styles.keys()},\n",
    "                                orient = 'index')\n",
    "df2 = pd.DataFrame.from_dict({(i): logics[i]\n",
    "                                for i in logics.keys()},\n",
    "                                orient = 'index')\n",
    "\n",
    "df = pd.concat([df1,df2], axis = 1)"
   ]
  },
  {
   "cell_type": "code",
   "execution_count": 43,
   "metadata": {},
   "outputs": [],
   "source": [
    "filename = view_name + \".csv\"\n",
    "csvdata = df.to_csv()\n",
    "with open(filename,'w') as f:\n",
    "    f.write(csvdata)\n",
    "    "
   ]
  },
  {
   "cell_type": "code",
   "execution_count": 26,
   "metadata": {},
   "outputs": [
    {
     "output_type": "stream",
     "name": "stdout",
     "text": [
      "Connection closed\n"
     ]
    }
   ],
   "source": [
    "# close connection\n",
    "if connection:\n",
    "    cursor.close()\n",
    "    connection.close()\n",
    "    print(\"Connection closed\")"
   ]
  }
 ]
}
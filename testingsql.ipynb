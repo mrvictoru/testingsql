{
 "metadata": {
  "language_info": {
   "codemirror_mode": {
    "name": "ipython",
    "version": 3
   },
   "file_extension": ".py",
   "mimetype": "text/x-python",
   "name": "python",
   "nbconvert_exporter": "python",
   "pygments_lexer": "ipython3",
   "version": "3.8.5-final"
  },
  "orig_nbformat": 2,
  "kernelspec": {
   "name": "python3",
   "display_name": "Python 3",
   "language": "python"
  }
 },
 "nbformat": 4,
 "nbformat_minor": 2,
 "cells": [
  {
   "cell_type": "code",
   "execution_count": 84,
   "metadata": {},
   "outputs": [],
   "source": [
    "import config\n",
    "import cx_Oracle\n",
    "import re\n",
    "import pandas as pd\n",
    "import csv\n",
    "import math"
   ]
  },
  {
   "cell_type": "code",
   "execution_count": 44,
   "metadata": {},
   "outputs": [
    {
     "output_type": "stream",
     "name": "stdout",
     "text": [
      "Connected\n12.2.0.1.0\n"
     ]
    }
   ],
   "source": [
    "# connect to Oracle DB\n",
    "connection = None\n",
    "try:\n",
    "    connection = cx_Oracle.connect(\n",
    "        config.username,\n",
    "        config.password,\n",
    "        config.dsn,\n",
    "        encoding = \"UTF-8\"\n",
    "    )\n",
    "    print(\"Connected\")\n",
    "    print(connection.version)\n",
    "except cx_Oracle.Error as error:\n",
    "    print(error)\n",
    "\n",
    "cursor = connection.cursor()"
   ]
  },
  {
   "cell_type": "code",
   "execution_count": 45,
   "metadata": {},
   "outputs": [
    {
     "output_type": "stream",
     "name": "stdout",
     "text": [
      "HV_SEC_LN_1\n",
      "PolylineGeometry\n"
     ]
    }
   ],
   "source": [
    "# set up style view and get the geometrytype of that style's feature\n",
    "view_name = \"V_HV_SEC_LN_1\"\n",
    "# if the logic is more difficult then what the program can handle (mainly having \"or\"). dont sort logic statement\n",
    "logichard = False\n",
    "feature_name = view_name[2:]\n",
    "print(feature_name)\n",
    "sql = \"Select g3e_geometrytype from G3E_COMPONENT where G3E_NAME = '{name}'\".format(name = feature_name)\n",
    "cursor.execute(sql)\n",
    "geometrytype = cursor.fetchall()[0][0]\n",
    "print(geometrytype)"
   ]
  },
  {
   "cell_type": "code",
   "execution_count": 46,
   "metadata": {},
   "outputs": [
    {
     "output_type": "stream",
     "name": "stdout",
     "text": [
      "G3E_COMPOSITELINESTYLE\n"
     ]
    }
   ],
   "source": [
    "# hardcode condition to know which styletable for the given style view\n",
    "if geometrytype == \"PolygonGeometry\":\n",
    "    styletable = 'G3E_AREASTYLE'\n",
    "elif geometrytype == \"PolylineGeometry\":\n",
    "    styletable = 'G3E_COMPOSITELINESTYLE'\n",
    "elif geometrytype == \"OrientedPointGeometry\":\n",
    "    styletable = 'G3E_POINTSTYLE'\n",
    "elif geometrytype == \"TextPointGeometry\":\n",
    "    styletable = 'G3E_TEXTSTYLE'\n",
    "elif geometrytype == \"CompositePolylineGeometry\":\n",
    "    styletable = 'G3E_COMPOSITELINESTYLE'\n",
    "\n",
    "print(styletable)"
   ]
  },
  {
   "cell_type": "code",
   "execution_count": 47,
   "metadata": {
    "tags": []
   },
   "outputs": [],
   "source": [
    "# extract text that create the given style view\n",
    "pattern = re.compile(r'\\s+')\n",
    "sql = \"SELECT TEXT FROM USER_VIEWS WHERE VIEW_NAME = '{view_name}'\".format(view_name = view_name)\n",
    "cursor.execute(sql)\n",
    "fetch = cursor.fetchall()\n",
    "txts = fetch[0][0]\n",
    "txts = txts.rpartition(\"CASE\")[2]\n",
    "txts = txts.rpartition(\"END\")[0]\n",
    "txts = re.sub(pattern,'',txts)\n",
    "default = txts.rpartition(\"ELSE\")[2]\n",
    "txts = txts.rpartition(\"ELSE\")[0]\n",
    "txts = txts.split(\"WHEN\")"
   ]
  },
  {
   "cell_type": "code",
   "execution_count": 48,
   "metadata": {},
   "outputs": [],
   "source": [
    "# find in use style id for given table\n",
    "sql = \"SELECT DISTINCT (g3e_styleid) FROM {view}\".format(view = view_name)\n",
    "dfid = pd.read_sql(sql,con=connection)"
   ]
  },
  {
   "cell_type": "code",
   "execution_count": 49,
   "metadata": {
    "tags": []
   },
   "outputs": [
    {
     "output_type": "stream",
     "name": "stdout",
     "text": [
      "{'14600000': {'TRIM(E.CODETEXT)': \"= '11'\", 'TRIM(G.CODETEXT)': \"= '22'\"}, '14600940': {'L.CODETEXT': \"= 'SHOW'\", 'C.WATER_TREE': \"= 'YES'\"}, '14600930': {'L.CODETEXT': \"= 'SHOW'\", 'C.INGRESS_STATUS': \"= 'YES'\", 'In Used': 'YES'}, '14600920': {'L.CODETEXT': \"= 'SHOW'\", 'In Used': 'YES'}, '14600010': {'TRIM(D.CODETEXT)': \"= 'INS'\", 'TRIM(E.CODETEXT)': \"<> '22'\", 'TRIM(F.CODETEXT)': \"= 'UNKNOWNROUTE'\", 'In Used': 'YES'}, '14600020': {'TRIM(D.CODETEXT)': \"= 'INS'\", 'TRIM(E.CODETEXT)': \"= '22'\", 'TRIM(F.CODETEXT)': \"= 'UNKNOWNROUTE'\", 'In Used': 'YES'}, '14600030': {'TRIM(D.CODETEXT)': \"= 'PPA','PPM','PPR','PPX')\", 'TRIM(F.CODETEXT)': \"= 'UNKNOWNROUTE'\"}, '14600040': {'TRIM(D.CODETEXT)': \"= 'ABA','ABM','ABR','ABX')\", 'TRIM(F.CODETEXT)': \"= 'UNKNOWNROUTE'\"}, '14600050': {'TRIM(D.CODETEXT)': \"= 'APA'\", 'TRIM(F.CODETEXT)': \"= 'UNKNOWNROUTE'\"}, '14600060': {'TRIM(D.CODETEXT)': \"= 'INS'\", 'TRIM(E.CODETEXT)': \"= '11'\", 'TRIM(F.CODETEXT)': \"= 'SUBMARINECABLE'\", 'TRIM(C.WATER_TREE)': \"= 'YES'\"}, '14600070': {'TRIM(D.CODETEXT)': \"= 'INS'\", 'TRIM(E.CODETEXT)': \"= '11'\", 'TRIM(F.CODETEXT)': \"= 'SUBMARINECABLE'\", 'TRIM(C.INGRESS_STATUS)': \"= 'YES'\"}, '14600080': {'TRIM(D.CODETEXT)': \"= 'INS'\", 'TRIM(E.CODETEXT)': \"= '11'\", 'TRIM(F.CODETEXT)': \"= 'SUBMARINECABLE'\"}, '14600090': {'TRIM(D.CODETEXT)': \"= 'INS'\", 'TRIM(E.CODETEXT)': \"= '11'\", 'TRIM(C.WATER_TREE)': \"= 'YES'\", 'In Used': 'YES'}, '14600100': {'TRIM(D.CODETEXT)': \"= 'INS'\", 'TRIM(E.CODETEXT)': \"= '11'\", 'TRIM(C.INGRESS_STATUS)': \"= 'YES'\", 'In Used': 'YES'}, '14600110': {'TRIM(D.CODETEXT)': \"= 'INS'\", 'TRIM(E.CODETEXT)': \"= '11'\", 'In Used': 'YES'}, '14600120': {'TRIM(D.CODETEXT)': \"= 'INS'\", 'TRIM(E.CODETEXT)': \"= '22'\", 'TRIM(G.CODETEXT)': \"= '11'\", 'TRIM(F.CODETEXT)': \"= 'SUBMARINECABLE'\", 'TRIM(C.WATER_TREE)': \"= 'YES'\"}, '14600130': {'TRIM(D.CODETEXT)': \"= 'INS'\", 'TRIM(E.CODETEXT)': \"= '22'\", 'TRIM(G.CODETEXT)': \"= '11'\", 'TRIM(F.CODETEXT)': \"= 'SUBMARINECABLE'\", 'TRIM(C.INGRESS_STATUS)': \"= 'YES'\"}, '14600140': {'TRIM(D.CODETEXT)': \"= 'INS'\", 'TRIM(E.CODETEXT)': \"= '22'\", 'TRIM(G.CODETEXT)': \"= '11'\", 'TRIM(F.CODETEXT)': \"= 'SUBMARINECABLE'\"}, '14600150': {'TRIM(D.CODETEXT)': \"= 'INS'\", 'TRIM(E.CODETEXT)': \"= '22'\", 'TRIM(G.CODETEXT)': \"= '11'\", 'TRIM(C.WATER_TREE)': \"= 'YES'\"}, '14600160': {'TRIM(D.CODETEXT)': \"= 'INS'\", 'TRIM(E.CODETEXT)': \"= '22'\", 'TRIM(G.CODETEXT)': \"= '11'\", 'TRIM(C.INGRESS_STATUS)': \"= 'YES'\"}, '14600170': {'TRIM(D.CODETEXT)': \"= 'INS'\", 'TRIM(E.CODETEXT)': \"= '22'\", 'TRIM(G.CODETEXT)': \"= '11'\", 'In Used': 'YES'}, '14600180': {'TRIM(D.CODETEXT)': \"= 'INS'\", 'TRIM(E.CODETEXT)': \"= '22'\", 'TRIM(F.CODETEXT)': \"= 'SUBMARINECABLE'\", 'TRIM(C.WATER_TREE)': \"= 'YES'\"}, '14600190': {'TRIM(D.CODETEXT)': \"= 'INS'\", 'TRIM(E.CODETEXT)': \"= '22'\", 'TRIM(F.CODETEXT)': \"= 'SUBMARINECABLE'\", 'TRIM(C.INGRESS_STATUS)': \"= 'YES'\"}, '14600200': {'TRIM(D.CODETEXT)': \"= 'INS'\", 'TRIM(E.CODETEXT)': \"= '22'\", 'TRIM(F.CODETEXT)': \"= 'SUBMARINECABLE'\"}, '14600210': {'TRIM(D.CODETEXT)': \"= 'INS'\", 'TRIM(E.CODETEXT)': \"= '22'\", 'TRIM(C.WATER_TREE)': \"= 'YES'\"}, '14600220': {'TRIM(D.CODETEXT)': \"= 'INS'\", 'TRIM(E.CODETEXT)': \"= '22'\", 'TRIM(C.INGRESS_STATUS)': \"= 'YES'\"}, '14600230': {'TRIM(D.CODETEXT)': \"= 'INS'\", 'TRIM(E.CODETEXT)': \"= '22'\", 'In Used': 'YES'}, '14600240': {'TRIM(D.CODETEXT)': \"= 'INS'\", 'TRIM(E.CODETEXT)': \"= '33'\", 'TRIM(F.CODETEXT)': \"= 'SUBMARINECABLE'\", 'TRIM(C.WATER_TREE)': \"= 'YES'\"}, '14600250': {'TRIM(D.CODETEXT)': \"= 'INS'\", 'TRIM(E.CODETEXT)': \"= '33'\", 'TRIM(F.CODETEXT)': \"= 'SUBMARINECABLE'\", 'TRIM(C.INGRESS_STATUS)': \"= 'YES'\"}, '14600260': {'TRIM(D.CODETEXT)': \"= 'INS'\", 'TRIM(E.CODETEXT)': \"= '33'\", 'TRIM(F.CODETEXT)': \"= 'SUBMARINECABLE'\"}, '14600270': {'TRIM(D.CODETEXT)': \"= 'INS'\", 'TRIM(E.CODETEXT)': \"= '33'\", 'TRIM(C.WATER_TREE)': \"= 'YES'\"}, '14600280': {'TRIM(D.CODETEXT)': \"= 'INS'\", 'TRIM(E.CODETEXT)': \"= '33'\", 'TRIM(C.INGRESS_STATUS)': \"= 'YES'\"}, '14600290': {'TRIM(D.CODETEXT)': \"= 'INS'\", 'TRIM(E.CODETEXT)': \"= '33'\", 'In Used': 'YES'}, '14600300': {'TRIM(D.CODETEXT)': \"= 'ABN','RES')\", 'TRIM(E.CODETEXT)': \"= '11'\", 'TRIM(F.CODETEXT)': \"= 'SUBMARINECABLE'\", 'TRIM(C.WATER_TREE)': \"= 'YES'\"}, '14600310': {'TRIM(D.CODETEXT)': \"= 'ABN','RES')\", 'TRIM(E.CODETEXT)': \"= '11'\", 'TRIM(F.CODETEXT)': \"= 'SUBMARINECABLE'\", 'TRIM(C.INGRESS_STATUS)': \"= 'YES'\"}, '14600320': {'TRIM(D.CODETEXT)': \"= 'ABN','RES')\", 'TRIM(E.CODETEXT)': \"= '11'\", 'TRIM(F.CODETEXT)': \"= 'SUBMARINECABLE'\"}, '14600330': {'TRIM(D.CODETEXT)': \"= 'ABN','RES')\", 'TRIM(E.CODETEXT)': \"= '11'\", 'TRIM(C.WATER_TREE)': \"= 'YES'\", 'In Used': 'YES'}, '14600340': {'TRIM(D.CODETEXT)': \"= 'ABN','RES')\", 'TRIM(E.CODETEXT)': \"= '11'\", 'TRIM(C.INGRESS_STATUS)': \"= 'YES'\", 'In Used': 'YES'}, '14600350': {'TRIM(D.CODETEXT)': \"= 'ABN','RES')\", 'TRIM(E.CODETEXT)': \"= '11'\", 'In Used': 'YES'}, '14600360': {'TRIM(D.CODETEXT)': \"= 'ABN','RES')\", 'TRIM(E.CODETEXT)': \"= '22'\", 'TRIM(G.CODETEXT)': \"= '11'\", 'TRIM(F.CODETEXT)': \"= 'SUBMARINECABLE'\", 'TRIM(C.WATER_TREE)': \"= 'YES'\"}, '14600370': {'TRIM(D.CODETEXT)': \"= 'ABN','RES')\", 'TRIM(E.CODETEXT)': \"= '22'\", 'TRIM(G.CODETEXT)': \"= '11'\", 'TRIM(F.CODETEXT)': \"= 'SUBMARINECABLE'\", 'TRIM(C.INGRESS_STATUS)': \"= 'YES'\"}, '14600380': {'TRIM(D.CODETEXT)': \"= 'ABN','RES')\", 'TRIM(E.CODETEXT)': \"= '22'\", 'TRIM(G.CODETEXT)': \"= '11'\", 'TRIM(F.CODETEXT)': \"= 'SUBMARINECABLE'\"}, '14600390': {'TRIM(D.CODETEXT)': \"= 'ABN','RES')\", 'TRIM(E.CODETEXT)': \"= '22'\", 'TRIM(G.CODETEXT)': \"= '11'\", 'TRIM(C.WATER_TREE)': \"= 'YES'\"}, '14600400': {'TRIM(D.CODETEXT)': \"= 'ABN','RES')\", 'TRIM(E.CODETEXT)': \"= '22'\", 'TRIM(G.CODETEXT)': \"= '11'\", 'TRIM(C.INGRESS_STATUS)': \"= 'YES'\"}, '14600410': {'TRIM(D.CODETEXT)': \"= 'ABN','RES')\", 'TRIM(E.CODETEXT)': \"= '22'\", 'TRIM(G.CODETEXT)': \"= '11'\", 'In Used': 'YES'}, '14600420': {'TRIM(D.CODETEXT)': \"= 'ABN','RES')\", 'TRIM(E.CODETEXT)': \"= '22'\", 'TRIM(F.CODETEXT)': \"= 'SUBMARINECABLE'\", 'TRIM(C.WATER_TREE)': \"= 'YES'\"}, '14600430': {'TRIM(D.CODETEXT)': \"= 'ABN','RES')\", 'TRIM(E.CODETEXT)': \"= '22'\", 'TRIM(F.CODETEXT)': \"= 'SUBMARINECABLE'\", 'TRIM(C.INGRESS_STATUS)': \"= 'YES'\"}, '14600440': {'TRIM(D.CODETEXT)': \"= 'ABN','RES')\", 'TRIM(E.CODETEXT)': \"= '22'\", 'TRIM(F.CODETEXT)': \"= 'SUBMARINECABLE'\"}, '14600450': {'TRIM(D.CODETEXT)': \"= 'ABN','RES')\", 'TRIM(E.CODETEXT)': \"= '22'\", 'TRIM(C.WATER_TREE)': \"= 'YES'\"}, '14600460': {'TRIM(D.CODETEXT)': \"= 'ABN','RES')\", 'TRIM(E.CODETEXT)': \"= '22'\", 'TRIM(C.INGRESS_STATUS)': \"= 'YES'\"}, '14600470': {'TRIM(D.CODETEXT)': \"= 'ABN','RES')\", 'TRIM(E.CODETEXT)': \"= '22'\", 'In Used': 'YES'}, '14600480': {'TRIM(D.CODETEXT)': \"= 'ABN','RES')\", 'TRIM(E.CODETEXT)': \"= '33'\", 'TRIM(F.CODETEXT)': \"= 'SUBMARINECABLE'\", 'TRIM(C.WATER_TREE)': \"= 'YES'\"}, '14600490': {'TRIM(D.CODETEXT)': \"= 'ABN','RES')\", 'TRIM(E.CODETEXT)': \"= '33'\", 'TRIM(F.CODETEXT)': \"= 'SUBMARINECABLE'\", 'TRIM(C.INGRESS_STATUS)': \"= 'YES'\"}, '14600500': {'TRIM(D.CODETEXT)': \"= 'ABN','RES')\", 'TRIM(E.CODETEXT)': \"= '33'\", 'TRIM(F.CODETEXT)': \"= 'SUBMARINECABLE'\"}, '14600510': {'TRIM(D.CODETEXT)': \"= 'ABN','RES')\", 'TRIM(E.CODETEXT)': \"= '33'\", 'TRIM(C.WATER_TREE)': \"= 'YES'\"}, '14600520': {'TRIM(D.CODETEXT)': \"= 'ABN','RES')\", 'TRIM(E.CODETEXT)': \"= '33'\", 'TRIM(C.INGRESS_STATUS)': \"= 'YES'\"}, '14600530': {'TRIM(D.CODETEXT)': \"= 'ABN','RES')\", 'TRIM(E.CODETEXT)': \"= '33'\", 'In Used': 'YES'}, '14600540': {'TRIM(D.CODETEXT)': \"= 'PPA'\", 'TRIM(E.CODETEXT)': \"= '11'\", 'TRIM(F.CODETEXT)': \"= 'SUBMARINECABLE'\"}, '14600550': {'TRIM(D.CODETEXT)': \"= 'PPA'\", 'TRIM(E.CODETEXT)': \"= '11'\"}, '14600560': {'TRIM(D.CODETEXT)': \"= 'PPA'\", 'TRIM(E.CODETEXT)': \"= '22'\", 'TRIM(F.CODETEXT)': \"= 'SUBMARINECABLE'\"}, '14600570': {'TRIM(D.CODETEXT)': \"= 'PPA'\", 'TRIM(E.CODETEXT)': \"= '22'\"}, '14600580': {'TRIM(D.CODETEXT)': \"= 'PPA'\", 'TRIM(E.CODETEXT)': \"= '33'\", 'TRIM(F.CODETEXT)': \"= 'SUBMARINECABLE'\"}, '14600590': {'TRIM(D.CODETEXT)': \"= 'PPA'\", 'TRIM(E.CODETEXT)': \"= '33'\"}, '14600600': {'TRIM(D.CODETEXT)': \"= 'PPM'\", 'TRIM(E.CODETEXT)': \"= '11'\", 'TRIM(F.CODETEXT)': \"= 'SUBMARINECABLE'\"}, '14600610': {'TRIM(D.CODETEXT)': \"= 'PPM'\", 'TRIM(E.CODETEXT)': \"= '11'\"}, '14600620': {'TRIM(D.CODETEXT)': \"= 'PPM'\", 'TRIM(E.CODETEXT)': \"= '22'\", 'TRIM(F.CODETEXT)': \"= 'SUBMARINECABLE'\"}, '14600630': {'TRIM(D.CODETEXT)': \"= 'PPM'\", 'TRIM(E.CODETEXT)': \"= '22'\"}, '14600640': {'TRIM(D.CODETEXT)': \"= 'PPR'\", 'TRIM(E.CODETEXT)': \"= '11'\", 'TRIM(F.CODETEXT)': \"= 'SUBMARINECABLE'\"}, '14600650': {'TRIM(D.CODETEXT)': \"= 'PPR'\", 'TRIM(E.CODETEXT)': \"= '11'\"}, '14600660': {'TRIM(D.CODETEXT)': \"= 'PPR'\", 'TRIM(E.CODETEXT)': \"= '22'\", 'TRIM(F.CODETEXT)': \"= 'SUBMARINECABLE'\"}, '14600670': {'TRIM(D.CODETEXT)': \"= 'PPR'\", 'TRIM(E.CODETEXT)': \"= '22'\"}, '14600680': {'TRIM(D.CODETEXT)': \"= 'PPX'\", 'TRIM(E.CODETEXT)': \"= '11'\", 'TRIM(F.CODETEXT)': \"= 'SUBMARINECABLE'\"}, '14600690': {'TRIM(D.CODETEXT)': \"= 'PPX'\", 'TRIM(E.CODETEXT)': \"= '11'\"}, '14600700': {'TRIM(D.CODETEXT)': \"= 'PPX'\", 'TRIM(E.CODETEXT)': \"= '22'\", 'TRIM(F.CODETEXT)': \"= 'SUBMARINECABLE'\"}, '14600710': {'TRIM(D.CODETEXT)': \"= 'PPX'\", 'TRIM(E.CODETEXT)': \"= '22'\"}, '14600720': {'TRIM(D.CODETEXT)': \"= 'ABA'\", 'TRIM(E.CODETEXT)': \"= '11'\", 'TRIM(F.CODETEXT)': \"= 'SUBMARINECABLE'\"}, '14600730': {'TRIM(D.CODETEXT)': \"= 'ABA'\", 'TRIM(E.CODETEXT)': \"= '11'\"}, '14600740': {'TRIM(D.CODETEXT)': \"= 'ABA'\", 'TRIM(E.CODETEXT)': \"= '22'\", 'TRIM(F.CODETEXT)': \"= 'SUBMARINECABLE'\"}, '14600750': {'TRIM(D.CODETEXT)': \"= 'ABA'\", 'TRIM(E.CODETEXT)': \"= '22'\"}, '14600760': {'TRIM(D.CODETEXT)': \"= 'ABM'\", 'TRIM(E.CODETEXT)': \"= '11'\", 'TRIM(F.CODETEXT)': \"= 'SUBMARINECABLE'\"}, '14600770': {'TRIM(D.CODETEXT)': \"= 'ABM'\", 'TRIM(E.CODETEXT)': \"= '11'\"}, '14600780': {'TRIM(D.CODETEXT)': \"= 'ABM'\", 'TRIM(E.CODETEXT)': \"= '22'\", 'TRIM(F.CODETEXT)': \"= 'SUBMARINECABLE'\"}, '14600790': {'TRIM(D.CODETEXT)': \"= 'ABM'\", 'TRIM(E.CODETEXT)': \"= '22'\"}, '14600800': {'TRIM(D.CODETEXT)': \"= 'ABR'\", 'TRIM(E.CODETEXT)': \"= '11'\", 'TRIM(F.CODETEXT)': \"= 'SUBMARINECABLE'\"}, '14600810': {'TRIM(D.CODETEXT)': \"= 'ABR'\", 'TRIM(E.CODETEXT)': \"= '11'\"}, '14600820': {'TRIM(D.CODETEXT)': \"= 'ABR'\", 'TRIM(E.CODETEXT)': \"= '22'\", 'TRIM(F.CODETEXT)': \"= 'SUBMARINECABLE'\"}, '14600830': {'TRIM(D.CODETEXT)': \"= 'ABR'\", 'TRIM(E.CODETEXT)': \"= '22'\"}, '14600840': {'TRIM(D.CODETEXT)': \"= 'ABX'\", 'TRIM(E.CODETEXT)': \"= '11'\", 'TRIM(F.CODETEXT)': \"= 'SUBMARINECABLE'\"}, '14600850': {'TRIM(D.CODETEXT)': \"= 'ABX'\", 'TRIM(E.CODETEXT)': \"= '11'\"}, '14600860': {'TRIM(D.CODETEXT)': \"= 'ABX'\", 'TRIM(E.CODETEXT)': \"= '22'\", 'TRIM(F.CODETEXT)': \"= 'SUBMARINECABLE'\"}, '14600870': {'TRIM(D.CODETEXT)': \"= 'ABX'\", 'TRIM(E.CODETEXT)': \"= '22'\"}, '14600880': {'TRIM(D.CODETEXT)': \"= 'APA'\", 'TRIM(E.CODETEXT)': \"= '11'\", 'TRIM(F.CODETEXT)': \"= 'SUBMARINECABLE'\"}, '14600890': {'TRIM(D.CODETEXT)': \"= 'APA'\", 'TRIM(E.CODETEXT)': \"= '11'\"}, '14600900': {'TRIM(D.CODETEXT)': \"= 'APA'\", 'TRIM(E.CODETEXT)': \"= '22'\", 'TRIM(F.CODETEXT)': \"= 'SUBMARINECABLE'\"}, '14600910': {'TRIM(D.CODETEXT)': \"= 'APA'\", 'TRIM(E.CODETEXT)': \"= '22'\"}}\n"
     ]
    }
   ],
   "source": [
    "# extract cause(logic condition) and effect(styleid) into dict\n",
    "logics = {}\n",
    "logics.update({default:{}})\n",
    "\n",
    "spl_chr = \"THEN\"\n",
    "spl_and = \"AND\"\n",
    "spl_or = \"OR\"\n",
    "spl_eq = \"=\"\n",
    "spl_neq = \"<>\"\n",
    "spl_geq = \">=\"\n",
    "spl_seq = \"<=\"\n",
    "spl_g = \">\"\n",
    "spl_s = \"<\"\n",
    "spl_in = \"IN(\"\n",
    "spl_notin = \"NOTIN\"\n",
    "for txt in txts:\n",
    "    if txt != \"\":\n",
    "        styleid = txt.rpartition(spl_chr)[2]\n",
    "        content = txt.rpartition(spl_chr)[0]\n",
    "        logic = {}\n",
    "        if not logichard:\n",
    "            if spl_and in content:\n",
    "                cond_list = content.split(spl_and)\n",
    "                for cond in cond_list:\n",
    "                    if spl_eq in cond:\n",
    "                        logic.update({cond.rpartition(spl_eq)[0]:\"= \" + cond.rpartition(spl_eq)[2]})\n",
    "                    elif spl_neq in cond:\n",
    "                        logic.update({cond.rpartition(spl_neq)[0]:\"<> \" + cond.rpartition(spl_neq)[2]})\n",
    "                    elif spl_geq in cond:\n",
    "                        logic.update({cond.rpartition(spl_geq)[0]:\">= \" + cond.rpartition(spl_geq)[2]})\n",
    "                    elif spl_seq in cond:\n",
    "                        logic.update({cond.rpartition(spl_seq)[0]:\"<= \" + cond.rpartition(spl_seq)[2]})\n",
    "                    elif spl_g in cond:\n",
    "                        logic.update({cond.rpartition(spl_g)[0]:\"> \" + cond.rpartition(spl_g)[2]})\n",
    "                    elif spl_s in cond:\n",
    "                        logic.update({cond.rpartition(spl_s)[0]:\"< \" + cond.rpartition(spl_s)[2]})\n",
    "                    elif spl_notin in cond:\n",
    "                        logic.update({cond.rpartition(spl_notin)[0]:\"NOT \" + cond.rpartition(spl_notin)[2]})\n",
    "                    elif spl_in in cond:\n",
    "                        logic.update({cond.rpartition(spl_in)[0]:\"= \" + cond.rpartition(spl_in)[2]})\n",
    "                    \n",
    "            else:\n",
    "                if spl_eq in content:\n",
    "                    logic.update({content.rpartition(spl_eq)[0]:\"= \" + content.rpartition(spl_eq)[2]})\n",
    "                elif spl_neq in content:\n",
    "                    logic.update({content.rpartition(spl_neq)[0]:\"<> \" + content.rpartition(spl_neq)[2]})\n",
    "                elif spl_geq in content:\n",
    "                    logic.update({content.rpartition(spl_geq)[0]:\">= \" + content.rpartition(spl_geq)[2]})\n",
    "                elif spl_seq in content:\n",
    "                    logic.update({content.rpartition(spl_seq)[0]:\"<= \" + content.rpartition(spl_seq)[2]})\n",
    "                elif spl_g in content:\n",
    "                    logic.update({content.rpartition(spl_g)[0]:\"> \" + content.rpartition(spl_g)[2]})\n",
    "                elif spl_s in content:\n",
    "                    logic.update({content.rpartition(spl_s)[0]:\"< \" + content.rpartition(spl_s)[2]})\n",
    "                elif spl_notin in content:\n",
    "                    logic.update({content.rpartition(spl_notin)[0]:\"NOT \" + content.rpartition(spl_notin)[2]})\n",
    "                elif spl_in in content:\n",
    "                    logic.update({content.rpartition(spl_in)[0]:\"= \" + content.rpartition(spl_in)[2]})\n",
    "        else:\n",
    "            logic.update({\"logic\":content})\n",
    "\n",
    "        index = len(styleid)\n",
    "        # remove comment that often tag behind style id\n",
    "        for i in styleid:\n",
    "            if not i.isdigit():\n",
    "                index = styleid.index(i)\n",
    "                break\n",
    "        styleid = styleid[:index]\n",
    "        # update logic with corresponding styleid\n",
    "        logics.update({styleid : logic})\n",
    "\n",
    "\n",
    "for row in dfid.iterrows():\n",
    "    logics[str(int(row[1].values))].update({\"In Used\" : \"YES\"})\n",
    "\n",
    "print(logics)"
   ]
  },
  {
   "cell_type": "code",
   "execution_count": 50,
   "metadata": {
    "tags": [
     "outputPrepend"
    ]
   },
   "outputs": [
    {
     "output_type": "stream",
     "name": "stdout",
     "text": [
      "04003], 'G3E_SYMBOLPOSITION_2_1': [0.99], 'G3E_SYMBOLROTATION_2_1': [0], 'G3E_SYMBOLROTATIONRULE_2_1': [2], 'G3E_SYMBOLOFFSET_2_1': [0], 'G3E_SYMBOLINDEX_3_1': [None], 'G3E_STROKESYMBOL_3_1': [None], 'G3E_SYMBOLPOSITION_3_1': [None], 'G3E_SYMBOLROTATION_3_1': [None], 'G3E_SYMBOLROTATIONRULE_3_1': [None], 'G3E_SYMBOLOFFSET_3_1': [None], 'G3E_SYMBOLINDEX_4_1': [None], 'G3E_STROKESYMBOL_4_1': [None], 'G3E_SYMBOLPOSITION_4_1': [None], 'G3E_SYMBOLROTATION_4_1': [None], 'G3E_SYMBOLROTATIONRULE_4_1': [None], 'G3E_SYMBOLOFFSET_4_1': [None]}, '14600840': {'G3E_COLOR': [11572735], 'G3E_STROKEPATTERN': [10000004], 'G3E_PLOTREDLINE': [1], 'G3E_REPETITIONS': [None], 'G3E_VISIBLEDASHES': [1], 'G3E_SEQUENCE_0': [6], 'G3E_SEQUENCE_1': [1.8], 'G3E_SEQUENCE_2': [None], 'G3E_SEQUENCE_3': [None], 'G3E_SEQUENCE_4': [None], 'G3E_SEQUENCE_5': [None], 'G3E_SEQUENCE_6': [None], 'G3E_SEQUENCE_7': [None], 'G3E_SEQUENCE_8': [None], 'G3E_SEQUENCE_9': [None], 'G3E_SYMBOLINDEX_0': [None], 'G3E_STROKESYMBOL_0': [None], 'G3E_SYMBOLPOSITION_0': [None], 'G3E_SYMBOLROTATION_0': [None], 'G3E_SYMBOLROTATIONRULE_0': [None], 'G3E_SYMBOLOFFSET_0': [None], 'G3E_SYMBOLINDEX_1': [None], 'G3E_STROKESYMBOL_1': [None], 'G3E_SYMBOLPOSITION_1': [None], 'G3E_SYMBOLROTATION_1': [None], 'G3E_SYMBOLROTATIONRULE_1': [None], 'G3E_SYMBOLOFFSET_1': [None], 'G3E_SYMBOLINDEX_2': [None], 'G3E_STROKESYMBOL_2': [None], 'G3E_SYMBOLPOSITION_2': [None], 'G3E_SYMBOLROTATION_2': [None], 'G3E_SYMBOLROTATIONRULE_2': [None], 'G3E_SYMBOLOFFSET_2': [None], 'G3E_SYMBOLINDEX_3': [None], 'G3E_STROKESYMBOL_3': [None], 'G3E_SYMBOLPOSITION_3': [None], 'G3E_SYMBOLROTATION_3': [None], 'G3E_SYMBOLROTATIONRULE_3': [None], 'G3E_SYMBOLOFFSET_3': [None], 'G3E_SYMBOLINDEX_4': [None], 'G3E_STROKESYMBOL_4': [None], 'G3E_SYMBOLPOSITION_4': [None], 'G3E_SYMBOLROTATION_4': [None], 'G3E_SYMBOLROTATIONRULE_4': [None], 'G3E_SYMBOLOFFSET_4': [None], 'G3E_COLOR_1': [11572735], 'G3E_STROKEPATTERN_1': [10004009], 'G3E_PLOTREDLINE_1': [1], 'G3E_REPETITIONS_1': [None], 'G3E_VISIBLEDASHES_1': [0], 'G3E_SEQUENCE_0_1': [5.6], 'G3E_SEQUENCE_1_1': [50.4], 'G3E_SEQUENCE_2_1': [None], 'G3E_SEQUENCE_3_1': [None], 'G3E_SEQUENCE_4_1': [None], 'G3E_SEQUENCE_5_1': [None], 'G3E_SEQUENCE_6_1': [None], 'G3E_SEQUENCE_7_1': [None], 'G3E_SEQUENCE_8_1': [None], 'G3E_SEQUENCE_9_1': [None], 'G3E_SYMBOLINDEX_0_1': [0], 'G3E_STROKESYMBOL_0_1': [10004001], 'G3E_SYMBOLPOSITION_0_1': [0.99], 'G3E_SYMBOLROTATION_0_1': [0], 'G3E_SYMBOLROTATIONRULE_0_1': [2], 'G3E_SYMBOLOFFSET_0_1': [0], 'G3E_SYMBOLINDEX_1_1': [None], 'G3E_STROKESYMBOL_1_1': [None], 'G3E_SYMBOLPOSITION_1_1': [None], 'G3E_SYMBOLROTATION_1_1': [None], 'G3E_SYMBOLROTATIONRULE_1_1': [None], 'G3E_SYMBOLOFFSET_1_1': [None], 'G3E_SYMBOLINDEX_2_1': [None], 'G3E_STROKESYMBOL_2_1': [None], 'G3E_SYMBOLPOSITION_2_1': [None], 'G3E_SYMBOLROTATION_2_1': [None], 'G3E_SYMBOLROTATIONRULE_2_1': [None], 'G3E_SYMBOLOFFSET_2_1': [None], 'G3E_SYMBOLINDEX_3_1': [None], 'G3E_STROKESYMBOL_3_1': [None], 'G3E_SYMBOLPOSITION_3_1': [None], 'G3E_SYMBOLROTATION_3_1': [None], 'G3E_SYMBOLROTATIONRULE_3_1': [None], 'G3E_SYMBOLOFFSET_3_1': [None], 'G3E_SYMBOLINDEX_4_1': [None], 'G3E_STROKESYMBOL_4_1': [None], 'G3E_SYMBOLPOSITION_4_1': [None], 'G3E_SYMBOLROTATION_4_1': [None], 'G3E_SYMBOLROTATIONRULE_4_1': [None], 'G3E_SYMBOLOFFSET_4_1': [None]}, '14600850': {'G3E_COLOR': [11572735], 'G3E_STROKEPATTERN': [2000004], 'G3E_PLOTREDLINE': [1], 'G3E_REPETITIONS': [None], 'G3E_VISIBLEDASHES': [1], 'G3E_SEQUENCE_0': [30.06], 'G3E_SEQUENCE_1': [9.018], 'G3E_SEQUENCE_2': [None], 'G3E_SEQUENCE_3': [None], 'G3E_SEQUENCE_4': [None], 'G3E_SEQUENCE_5': [None], 'G3E_SEQUENCE_6': [None], 'G3E_SEQUENCE_7': [None], 'G3E_SEQUENCE_8': [None], 'G3E_SEQUENCE_9': [None], 'G3E_SYMBOLINDEX_0': [None], 'G3E_STROKESYMBOL_0': [None], 'G3E_SYMBOLPOSITION_0': [None], 'G3E_SYMBOLROTATION_0': [None], 'G3E_SYMBOLROTATIONRULE_0': [None], 'G3E_SYMBOLOFFSET_0': [None], 'G3E_SYMBOLINDEX_1': [None], 'G3E_STROKESYMBOL_1': [None], 'G3E_SYMBOLPOSITION_1': [None], 'G3E_SYMBOLROTATION_1': [None], 'G3E_SYMBOLROTATIONRULE_1': [None], 'G3E_SYMBOLOFFSET_1': [None], 'G3E_SYMBOLINDEX_2': [None], 'G3E_STROKESYMBOL_2': [None], 'G3E_SYMBOLPOSITION_2': [None], 'G3E_SYMBOLROTATION_2': [None], 'G3E_SYMBOLROTATIONRULE_2': [None], 'G3E_SYMBOLOFFSET_2': [None], 'G3E_SYMBOLINDEX_3': [None], 'G3E_STROKESYMBOL_3': [None], 'G3E_SYMBOLPOSITION_3': [None], 'G3E_SYMBOLROTATION_3': [None], 'G3E_SYMBOLROTATIONRULE_3': [None], 'G3E_SYMBOLOFFSET_3': [None], 'G3E_SYMBOLINDEX_4': [None], 'G3E_STROKESYMBOL_4': [None], 'G3E_SYMBOLPOSITION_4': [None], 'G3E_SYMBOLROTATION_4': [None], 'G3E_SYMBOLROTATIONRULE_4': [None], 'G3E_SYMBOLOFFSET_4': [None], 'G3E_COLOR_1': [nan], 'G3E_STROKEPATTERN_1': [nan], 'G3E_PLOTREDLINE_1': [nan]}, '14600860': {'G3E_COLOR': [11572735], 'G3E_STROKEPATTERN': [10000004], 'G3E_PLOTREDLINE': [1], 'G3E_REPETITIONS': [None], 'G3E_VISIBLEDASHES': [1], 'G3E_SEQUENCE_0': [6], 'G3E_SEQUENCE_1': [1.8], 'G3E_SEQUENCE_2': [None], 'G3E_SEQUENCE_3': [None], 'G3E_SEQUENCE_4': [None], 'G3E_SEQUENCE_5': [None], 'G3E_SEQUENCE_6': [None], 'G3E_SEQUENCE_7': [None], 'G3E_SEQUENCE_8': [None], 'G3E_SEQUENCE_9': [None], 'G3E_SYMBOLINDEX_0': [None], 'G3E_STROKESYMBOL_0': [None], 'G3E_SYMBOLPOSITION_0': [None], 'G3E_SYMBOLROTATION_0': [None], 'G3E_SYMBOLROTATIONRULE_0': [None], 'G3E_SYMBOLOFFSET_0': [None], 'G3E_SYMBOLINDEX_1': [None], 'G3E_STROKESYMBOL_1': [None], 'G3E_SYMBOLPOSITION_1': [None], 'G3E_SYMBOLROTATION_1': [None], 'G3E_SYMBOLROTATIONRULE_1': [None], 'G3E_SYMBOLOFFSET_1': [None], 'G3E_SYMBOLINDEX_2': [None], 'G3E_STROKESYMBOL_2': [None], 'G3E_SYMBOLPOSITION_2': [None], 'G3E_SYMBOLROTATION_2': [None], 'G3E_SYMBOLROTATIONRULE_2': [None], 'G3E_SYMBOLOFFSET_2': [None], 'G3E_SYMBOLINDEX_3': [None], 'G3E_STROKESYMBOL_3': [None], 'G3E_SYMBOLPOSITION_3': [None], 'G3E_SYMBOLROTATION_3': [None], 'G3E_SYMBOLROTATIONRULE_3': [None], 'G3E_SYMBOLOFFSET_3': [None], 'G3E_SYMBOLINDEX_4': [None], 'G3E_STROKESYMBOL_4': [None], 'G3E_SYMBOLPOSITION_4': [None], 'G3E_SYMBOLROTATION_4': [None], 'G3E_SYMBOLROTATIONRULE_4': [None], 'G3E_SYMBOLOFFSET_4': [None], 'G3E_COLOR_1': [11572735], 'G3E_STROKEPATTERN_1': [10004010], 'G3E_PLOTREDLINE_1': [1], 'G3E_REPETITIONS_1': [None], 'G3E_VISIBLEDASHES_1': [0], 'G3E_SEQUENCE_0_1': [5.6], 'G3E_SEQUENCE_1_1': [28], 'G3E_SEQUENCE_2_1': [22.4], 'G3E_SEQUENCE_3_1': [0], 'G3E_SEQUENCE_4_1': [None], 'G3E_SEQUENCE_5_1': [None], 'G3E_SEQUENCE_6_1': [None], 'G3E_SEQUENCE_7_1': [None], 'G3E_SEQUENCE_8_1': [None], 'G3E_SEQUENCE_9_1': [None], 'G3E_SYMBOLINDEX_0_1': [0], 'G3E_STROKESYMBOL_0_1': [10004003], 'G3E_SYMBOLPOSITION_0_1': [0.99], 'G3E_SYMBOLROTATION_0_1': [0], 'G3E_SYMBOLROTATIONRULE_0_1': [2], 'G3E_SYMBOLOFFSET_0_1': [0], 'G3E_SYMBOLINDEX_1_1': [1], 'G3E_STROKESYMBOL_1_1': [10004001], 'G3E_SYMBOLPOSITION_1_1': [0.99], 'G3E_SYMBOLROTATION_1_1': [0], 'G3E_SYMBOLROTATIONRULE_1_1': [2], 'G3E_SYMBOLOFFSET_1_1': [0], 'G3E_SYMBOLINDEX_2_1': [None], 'G3E_STROKESYMBOL_2_1': [None], 'G3E_SYMBOLPOSITION_2_1': [None], 'G3E_SYMBOLROTATION_2_1': [None], 'G3E_SYMBOLROTATIONRULE_2_1': [None], 'G3E_SYMBOLOFFSET_2_1': [None], 'G3E_SYMBOLINDEX_3_1': [None], 'G3E_STROKESYMBOL_3_1': [None], 'G3E_SYMBOLPOSITION_3_1': [None], 'G3E_SYMBOLROTATION_3_1': [None], 'G3E_SYMBOLROTATIONRULE_3_1': [None], 'G3E_SYMBOLOFFSET_3_1': [None], 'G3E_SYMBOLINDEX_4_1': [None], 'G3E_STROKESYMBOL_4_1': [None], 'G3E_SYMBOLPOSITION_4_1': [None], 'G3E_SYMBOLROTATION_4_1': [None], 'G3E_SYMBOLROTATIONRULE_4_1': [None], 'G3E_SYMBOLOFFSET_4_1': [None]}, '14600870': {'G3E_COLOR': [11572735], 'G3E_STROKEPATTERN': [10000004], 'G3E_PLOTREDLINE': [1], 'G3E_REPETITIONS': [None], 'G3E_VISIBLEDASHES': [1], 'G3E_SEQUENCE_0': [6], 'G3E_SEQUENCE_1': [1.8], 'G3E_SEQUENCE_2': [None], 'G3E_SEQUENCE_3': [None], 'G3E_SEQUENCE_4': [None], 'G3E_SEQUENCE_5': [None], 'G3E_SEQUENCE_6': [None], 'G3E_SEQUENCE_7': [None], 'G3E_SEQUENCE_8': [None], 'G3E_SEQUENCE_9': [None], 'G3E_SYMBOLINDEX_0': [None], 'G3E_STROKESYMBOL_0': [None], 'G3E_SYMBOLPOSITION_0': [None], 'G3E_SYMBOLROTATION_0': [None], 'G3E_SYMBOLROTATIONRULE_0': [None], 'G3E_SYMBOLOFFSET_0': [None], 'G3E_SYMBOLINDEX_1': [None], 'G3E_STROKESYMBOL_1': [None], 'G3E_SYMBOLPOSITION_1': [None], 'G3E_SYMBOLROTATION_1': [None], 'G3E_SYMBOLROTATIONRULE_1': [None], 'G3E_SYMBOLOFFSET_1': [None], 'G3E_SYMBOLINDEX_2': [None], 'G3E_STROKESYMBOL_2': [None], 'G3E_SYMBOLPOSITION_2': [None], 'G3E_SYMBOLROTATION_2': [None], 'G3E_SYMBOLROTATIONRULE_2': [None], 'G3E_SYMBOLOFFSET_2': [None], 'G3E_SYMBOLINDEX_3': [None], 'G3E_STROKESYMBOL_3': [None], 'G3E_SYMBOLPOSITION_3': [None], 'G3E_SYMBOLROTATION_3': [None], 'G3E_SYMBOLROTATIONRULE_3': [None], 'G3E_SYMBOLOFFSET_3': [None], 'G3E_SYMBOLINDEX_4': [None], 'G3E_STROKESYMBOL_4': [None], 'G3E_SYMBOLPOSITION_4': [None], 'G3E_SYMBOLROTATION_4': [None], 'G3E_SYMBOLROTATIONRULE_4': [None], 'G3E_SYMBOLOFFSET_4': [None], 'G3E_COLOR_1': [11572735], 'G3E_STROKEPATTERN_1': [10004011], 'G3E_PLOTREDLINE_1': [1], 'G3E_REPETITIONS_1': [None], 'G3E_VISIBLEDASHES_1': [0], 'G3E_SEQUENCE_0_1': [5.6], 'G3E_SEQUENCE_1_1': [50.4], 'G3E_SEQUENCE_2_1': [None], 'G3E_SEQUENCE_3_1': [None], 'G3E_SEQUENCE_4_1': [None], 'G3E_SEQUENCE_5_1': [None], 'G3E_SEQUENCE_6_1': [None], 'G3E_SEQUENCE_7_1': [None], 'G3E_SEQUENCE_8_1': [None], 'G3E_SEQUENCE_9_1': [None], 'G3E_SYMBOLINDEX_0_1': [0], 'G3E_STROKESYMBOL_0_1': [10004003], 'G3E_SYMBOLPOSITION_0_1': [0.99], 'G3E_SYMBOLROTATION_0_1': [0], 'G3E_SYMBOLROTATIONRULE_0_1': [2], 'G3E_SYMBOLOFFSET_0_1': [0], 'G3E_SYMBOLINDEX_1_1': [None], 'G3E_STROKESYMBOL_1_1': [None], 'G3E_SYMBOLPOSITION_1_1': [None], 'G3E_SYMBOLROTATION_1_1': [None], 'G3E_SYMBOLROTATIONRULE_1_1': [None], 'G3E_SYMBOLOFFSET_1_1': [None], 'G3E_SYMBOLINDEX_2_1': [None], 'G3E_STROKESYMBOL_2_1': [None], 'G3E_SYMBOLPOSITION_2_1': [None], 'G3E_SYMBOLROTATION_2_1': [None], 'G3E_SYMBOLROTATIONRULE_2_1': [None], 'G3E_SYMBOLOFFSET_2_1': [None], 'G3E_SYMBOLINDEX_3_1': [None], 'G3E_STROKESYMBOL_3_1': [None], 'G3E_SYMBOLPOSITION_3_1': [None], 'G3E_SYMBOLROTATION_3_1': [None], 'G3E_SYMBOLROTATIONRULE_3_1': [None], 'G3E_SYMBOLOFFSET_3_1': [None], 'G3E_SYMBOLINDEX_4_1': [None], 'G3E_STROKESYMBOL_4_1': [None], 'G3E_SYMBOLPOSITION_4_1': [None], 'G3E_SYMBOLROTATION_4_1': [None], 'G3E_SYMBOLROTATIONRULE_4_1': [None], 'G3E_SYMBOLOFFSET_4_1': [None]}, '14600880': {'G3E_COLOR': [11568304], 'G3E_STROKEPATTERN': [10000008], 'G3E_PLOTREDLINE': [1], 'G3E_REPETITIONS': [None], 'G3E_VISIBLEDASHES': [1], 'G3E_SEQUENCE_0': [6], 'G3E_SEQUENCE_1': [1.5], 'G3E_SEQUENCE_2': [2], 'G3E_SEQUENCE_3': [1.5], 'G3E_SEQUENCE_4': [None], 'G3E_SEQUENCE_5': [None], 'G3E_SEQUENCE_6': [None], 'G3E_SEQUENCE_7': [None], 'G3E_SEQUENCE_8': [None], 'G3E_SEQUENCE_9': [None], 'G3E_SYMBOLINDEX_0': [None], 'G3E_STROKESYMBOL_0': [None], 'G3E_SYMBOLPOSITION_0': [None], 'G3E_SYMBOLROTATION_0': [None], 'G3E_SYMBOLROTATIONRULE_0': [None], 'G3E_SYMBOLOFFSET_0': [None], 'G3E_SYMBOLINDEX_1': [None], 'G3E_STROKESYMBOL_1': [None], 'G3E_SYMBOLPOSITION_1': [None], 'G3E_SYMBOLROTATION_1': [None], 'G3E_SYMBOLROTATIONRULE_1': [None], 'G3E_SYMBOLOFFSET_1': [None], 'G3E_SYMBOLINDEX_2': [None], 'G3E_STROKESYMBOL_2': [None], 'G3E_SYMBOLPOSITION_2': [None], 'G3E_SYMBOLROTATION_2': [None], 'G3E_SYMBOLROTATIONRULE_2': [None], 'G3E_SYMBOLOFFSET_2': [None], 'G3E_SYMBOLINDEX_3': [None], 'G3E_STROKESYMBOL_3': [None], 'G3E_SYMBOLPOSITION_3': [None], 'G3E_SYMBOLROTATION_3': [None], 'G3E_SYMBOLROTATIONRULE_3': [None], 'G3E_SYMBOLOFFSET_3': [None], 'G3E_SYMBOLINDEX_4': [None], 'G3E_STROKESYMBOL_4': [None], 'G3E_SYMBOLPOSITION_4': [None], 'G3E_SYMBOLROTATION_4': [None], 'G3E_SYMBOLROTATIONRULE_4': [None], 'G3E_SYMBOLOFFSET_4': [None], 'G3E_COLOR_1': [11568304], 'G3E_STROKEPATTERN_1': [10005001], 'G3E_PLOTREDLINE_1': [1], 'G3E_REPETITIONS_1': [None], 'G3E_VISIBLEDASHES_1': [0], 'G3E_SEQUENCE_0_1': [5.6], 'G3E_SEQUENCE_1_1': [50.4], 'G3E_SEQUENCE_2_1': [None], 'G3E_SEQUENCE_3_1': [None], 'G3E_SEQUENCE_4_1': [None], 'G3E_SEQUENCE_5_1': [None], 'G3E_SEQUENCE_6_1': [None], 'G3E_SEQUENCE_7_1': [None], 'G3E_SEQUENCE_8_1': [None], 'G3E_SEQUENCE_9_1': [None], 'G3E_SYMBOLINDEX_0_1': [0], 'G3E_STROKESYMBOL_0_1': [10005001], 'G3E_SYMBOLPOSITION_0_1': [0.99], 'G3E_SYMBOLROTATION_0_1': [0], 'G3E_SYMBOLROTATIONRULE_0_1': [2], 'G3E_SYMBOLOFFSET_0_1': [0], 'G3E_SYMBOLINDEX_1_1': [None], 'G3E_STROKESYMBOL_1_1': [None], 'G3E_SYMBOLPOSITION_1_1': [None], 'G3E_SYMBOLROTATION_1_1': [None], 'G3E_SYMBOLROTATIONRULE_1_1': [None], 'G3E_SYMBOLOFFSET_1_1': [None], 'G3E_SYMBOLINDEX_2_1': [None], 'G3E_STROKESYMBOL_2_1': [None], 'G3E_SYMBOLPOSITION_2_1': [None], 'G3E_SYMBOLROTATION_2_1': [None], 'G3E_SYMBOLROTATIONRULE_2_1': [None], 'G3E_SYMBOLOFFSET_2_1': [None], 'G3E_SYMBOLINDEX_3_1': [None], 'G3E_STROKESYMBOL_3_1': [None], 'G3E_SYMBOLPOSITION_3_1': [None], 'G3E_SYMBOLROTATION_3_1': [None], 'G3E_SYMBOLROTATIONRULE_3_1': [None], 'G3E_SYMBOLOFFSET_3_1': [None], 'G3E_SYMBOLINDEX_4_1': [None], 'G3E_STROKESYMBOL_4_1': [None], 'G3E_SYMBOLPOSITION_4_1': [None], 'G3E_SYMBOLROTATION_4_1': [None], 'G3E_SYMBOLROTATIONRULE_4_1': [None], 'G3E_SYMBOLOFFSET_4_1': [None]}, '14600890': {'G3E_COLOR': [11568304], 'G3E_STROKEPATTERN': [2000008], 'G3E_PLOTREDLINE': [1], 'G3E_REPETITIONS': [None], 'G3E_VISIBLEDASHES': [1], 'G3E_SEQUENCE_0': [30.06], 'G3E_SEQUENCE_1': [7.515], 'G3E_SEQUENCE_2': [10.02], 'G3E_SEQUENCE_3': [7.515], 'G3E_SEQUENCE_4': [None], 'G3E_SEQUENCE_5': [None], 'G3E_SEQUENCE_6': [None], 'G3E_SEQUENCE_7': [None], 'G3E_SEQUENCE_8': [None], 'G3E_SEQUENCE_9': [None], 'G3E_SYMBOLINDEX_0': [None], 'G3E_STROKESYMBOL_0': [None], 'G3E_SYMBOLPOSITION_0': [None], 'G3E_SYMBOLROTATION_0': [None], 'G3E_SYMBOLROTATIONRULE_0': [None], 'G3E_SYMBOLOFFSET_0': [None], 'G3E_SYMBOLINDEX_1': [None], 'G3E_STROKESYMBOL_1': [None], 'G3E_SYMBOLPOSITION_1': [None], 'G3E_SYMBOLROTATION_1': [None], 'G3E_SYMBOLROTATIONRULE_1': [None], 'G3E_SYMBOLOFFSET_1': [None], 'G3E_SYMBOLINDEX_2': [None], 'G3E_STROKESYMBOL_2': [None], 'G3E_SYMBOLPOSITION_2': [None], 'G3E_SYMBOLROTATION_2': [None], 'G3E_SYMBOLROTATIONRULE_2': [None], 'G3E_SYMBOLOFFSET_2': [None], 'G3E_SYMBOLINDEX_3': [None], 'G3E_STROKESYMBOL_3': [None], 'G3E_SYMBOLPOSITION_3': [None], 'G3E_SYMBOLROTATION_3': [None], 'G3E_SYMBOLROTATIONRULE_3': [None], 'G3E_SYMBOLOFFSET_3': [None], 'G3E_SYMBOLINDEX_4': [None], 'G3E_STROKESYMBOL_4': [None], 'G3E_SYMBOLPOSITION_4': [None], 'G3E_SYMBOLROTATION_4': [None], 'G3E_SYMBOLROTATIONRULE_4': [None], 'G3E_SYMBOLOFFSET_4': [None], 'G3E_COLOR_1': [nan], 'G3E_STROKEPATTERN_1': [nan], 'G3E_PLOTREDLINE_1': [nan]}, '14600900': {'G3E_COLOR': [11568304], 'G3E_STROKEPATTERN': [10000008], 'G3E_PLOTREDLINE': [1], 'G3E_REPETITIONS': [None], 'G3E_VISIBLEDASHES': [1], 'G3E_SEQUENCE_0': [6], 'G3E_SEQUENCE_1': [1.5], 'G3E_SEQUENCE_2': [2], 'G3E_SEQUENCE_3': [1.5], 'G3E_SEQUENCE_4': [None], 'G3E_SEQUENCE_5': [None], 'G3E_SEQUENCE_6': [None], 'G3E_SEQUENCE_7': [None], 'G3E_SEQUENCE_8': [None], 'G3E_SEQUENCE_9': [None], 'G3E_SYMBOLINDEX_0': [None], 'G3E_STROKESYMBOL_0': [None], 'G3E_SYMBOLPOSITION_0': [None], 'G3E_SYMBOLROTATION_0': [None], 'G3E_SYMBOLROTATIONRULE_0': [None], 'G3E_SYMBOLOFFSET_0': [None], 'G3E_SYMBOLINDEX_1': [None], 'G3E_STROKESYMBOL_1': [None], 'G3E_SYMBOLPOSITION_1': [None], 'G3E_SYMBOLROTATION_1': [None], 'G3E_SYMBOLROTATIONRULE_1': [None], 'G3E_SYMBOLOFFSET_1': [None], 'G3E_SYMBOLINDEX_2': [None], 'G3E_STROKESYMBOL_2': [None], 'G3E_SYMBOLPOSITION_2': [None], 'G3E_SYMBOLROTATION_2': [None], 'G3E_SYMBOLROTATIONRULE_2': [None], 'G3E_SYMBOLOFFSET_2': [None], 'G3E_SYMBOLINDEX_3': [None], 'G3E_STROKESYMBOL_3': [None], 'G3E_SYMBOLPOSITION_3': [None], 'G3E_SYMBOLROTATION_3': [None], 'G3E_SYMBOLROTATIONRULE_3': [None], 'G3E_SYMBOLOFFSET_3': [None], 'G3E_SYMBOLINDEX_4': [None], 'G3E_STROKESYMBOL_4': [None], 'G3E_SYMBOLPOSITION_4': [None], 'G3E_SYMBOLROTATION_4': [None], 'G3E_SYMBOLROTATIONRULE_4': [None], 'G3E_SYMBOLOFFSET_4': [None], 'G3E_COLOR_1': [11568304], 'G3E_STROKEPATTERN_1': [10005002], 'G3E_PLOTREDLINE_1': [1], 'G3E_REPETITIONS_1': [None], 'G3E_VISIBLEDASHES_1': [0], 'G3E_SEQUENCE_0_1': [5.6], 'G3E_SEQUENCE_1_1': [28], 'G3E_SEQUENCE_2_1': [22.4], 'G3E_SEQUENCE_3_1': [0], 'G3E_SEQUENCE_4_1': [None], 'G3E_SEQUENCE_5_1': [None], 'G3E_SEQUENCE_6_1': [None], 'G3E_SEQUENCE_7_1': [None], 'G3E_SEQUENCE_8_1': [None], 'G3E_SEQUENCE_9_1': [None], 'G3E_SYMBOLINDEX_0_1': [0], 'G3E_STROKESYMBOL_0_1': [10005002], 'G3E_SYMBOLPOSITION_0_1': [0.99], 'G3E_SYMBOLROTATION_0_1': [0], 'G3E_SYMBOLROTATIONRULE_0_1': [2], 'G3E_SYMBOLOFFSET_0_1': [0], 'G3E_SYMBOLINDEX_1_1': [1], 'G3E_STROKESYMBOL_1_1': [10005001], 'G3E_SYMBOLPOSITION_1_1': [0.99], 'G3E_SYMBOLROTATION_1_1': [0], 'G3E_SYMBOLROTATIONRULE_1_1': [2], 'G3E_SYMBOLOFFSET_1_1': [0], 'G3E_SYMBOLINDEX_2_1': [None], 'G3E_STROKESYMBOL_2_1': [None], 'G3E_SYMBOLPOSITION_2_1': [None], 'G3E_SYMBOLROTATION_2_1': [None], 'G3E_SYMBOLROTATIONRULE_2_1': [None], 'G3E_SYMBOLOFFSET_2_1': [None], 'G3E_SYMBOLINDEX_3_1': [None], 'G3E_STROKESYMBOL_3_1': [None], 'G3E_SYMBOLPOSITION_3_1': [None], 'G3E_SYMBOLROTATION_3_1': [None], 'G3E_SYMBOLROTATIONRULE_3_1': [None], 'G3E_SYMBOLOFFSET_3_1': [None], 'G3E_SYMBOLINDEX_4_1': [None], 'G3E_STROKESYMBOL_4_1': [None], 'G3E_SYMBOLPOSITION_4_1': [None], 'G3E_SYMBOLROTATION_4_1': [None], 'G3E_SYMBOLROTATIONRULE_4_1': [None], 'G3E_SYMBOLOFFSET_4_1': [None]}, '14600910': {'G3E_COLOR': [11568304], 'G3E_STROKEPATTERN': [10000008], 'G3E_PLOTREDLINE': [1], 'G3E_REPETITIONS': [None], 'G3E_VISIBLEDASHES': [1], 'G3E_SEQUENCE_0': [6], 'G3E_SEQUENCE_1': [1.5], 'G3E_SEQUENCE_2': [2], 'G3E_SEQUENCE_3': [1.5], 'G3E_SEQUENCE_4': [None], 'G3E_SEQUENCE_5': [None], 'G3E_SEQUENCE_6': [None], 'G3E_SEQUENCE_7': [None], 'G3E_SEQUENCE_8': [None], 'G3E_SEQUENCE_9': [None], 'G3E_SYMBOLINDEX_0': [None], 'G3E_STROKESYMBOL_0': [None], 'G3E_SYMBOLPOSITION_0': [None], 'G3E_SYMBOLROTATION_0': [None], 'G3E_SYMBOLROTATIONRULE_0': [None], 'G3E_SYMBOLOFFSET_0': [None], 'G3E_SYMBOLINDEX_1': [None], 'G3E_STROKESYMBOL_1': [None], 'G3E_SYMBOLPOSITION_1': [None], 'G3E_SYMBOLROTATION_1': [None], 'G3E_SYMBOLROTATIONRULE_1': [None], 'G3E_SYMBOLOFFSET_1': [None], 'G3E_SYMBOLINDEX_2': [None], 'G3E_STROKESYMBOL_2': [None], 'G3E_SYMBOLPOSITION_2': [None], 'G3E_SYMBOLROTATION_2': [None], 'G3E_SYMBOLROTATIONRULE_2': [None], 'G3E_SYMBOLOFFSET_2': [None], 'G3E_SYMBOLINDEX_3': [None], 'G3E_STROKESYMBOL_3': [None], 'G3E_SYMBOLPOSITION_3': [None], 'G3E_SYMBOLROTATION_3': [None], 'G3E_SYMBOLROTATIONRULE_3': [None], 'G3E_SYMBOLOFFSET_3': [None], 'G3E_SYMBOLINDEX_4': [None], 'G3E_STROKESYMBOL_4': [None], 'G3E_SYMBOLPOSITION_4': [None], 'G3E_SYMBOLROTATION_4': [None], 'G3E_SYMBOLROTATIONRULE_4': [None], 'G3E_SYMBOLOFFSET_4': [None], 'G3E_COLOR_1': [11568304], 'G3E_STROKEPATTERN_1': [10005003], 'G3E_PLOTREDLINE_1': [1], 'G3E_REPETITIONS_1': [None], 'G3E_VISIBLEDASHES_1': [0], 'G3E_SEQUENCE_0_1': [5.6], 'G3E_SEQUENCE_1_1': [50.4], 'G3E_SEQUENCE_2_1': [None], 'G3E_SEQUENCE_3_1': [None], 'G3E_SEQUENCE_4_1': [None], 'G3E_SEQUENCE_5_1': [None], 'G3E_SEQUENCE_6_1': [None], 'G3E_SEQUENCE_7_1': [None], 'G3E_SEQUENCE_8_1': [None], 'G3E_SEQUENCE_9_1': [None], 'G3E_SYMBOLINDEX_0_1': [0], 'G3E_STROKESYMBOL_0_1': [10005002], 'G3E_SYMBOLPOSITION_0_1': [0.99], 'G3E_SYMBOLROTATION_0_1': [0], 'G3E_SYMBOLROTATIONRULE_0_1': [2], 'G3E_SYMBOLOFFSET_0_1': [0], 'G3E_SYMBOLINDEX_1_1': [None], 'G3E_STROKESYMBOL_1_1': [None], 'G3E_SYMBOLPOSITION_1_1': [None], 'G3E_SYMBOLROTATION_1_1': [None], 'G3E_SYMBOLROTATIONRULE_1_1': [None], 'G3E_SYMBOLOFFSET_1_1': [None], 'G3E_SYMBOLINDEX_2_1': [None], 'G3E_STROKESYMBOL_2_1': [None], 'G3E_SYMBOLPOSITION_2_1': [None], 'G3E_SYMBOLROTATION_2_1': [None], 'G3E_SYMBOLROTATIONRULE_2_1': [None], 'G3E_SYMBOLOFFSET_2_1': [None], 'G3E_SYMBOLINDEX_3_1': [None], 'G3E_STROKESYMBOL_3_1': [None], 'G3E_SYMBOLPOSITION_3_1': [None], 'G3E_SYMBOLROTATION_3_1': [None], 'G3E_SYMBOLROTATIONRULE_3_1': [None], 'G3E_SYMBOLOFFSET_3_1': [None], 'G3E_SYMBOLINDEX_4_1': [None], 'G3E_STROKESYMBOL_4_1': [None], 'G3E_SYMBOLPOSITION_4_1': [None], 'G3E_SYMBOLROTATION_4_1': [None], 'G3E_SYMBOLROTATIONRULE_4_1': [None], 'G3E_SYMBOLOFFSET_4_1': [None]}}\n"
     ]
    }
   ],
   "source": [
    "# get the relevant information for the given style id\n",
    "styles = {}\n",
    "# check if compositeline, as there is a seperate method of getting style info\n",
    "if styletable != 'G3E_COMPOSITELINESTYLE':\n",
    "    for styleid in logics.keys():\n",
    "        sqlstyle = \"SELECT * FROM {table} WHERE g3e_sno = '{styleid}'\".format(table = styletable, styleid = styleid)\n",
    "        df=pd.read_sql(sqlstyle,con=connection)\n",
    "        df = df.drop(['G3E_SNO','G3E_USERNAME','G3E_EDITDATE'], axis = 1)\n",
    "        df = df.dropna(how='all',axis=1)\n",
    "        data = df.to_dict(orient = 'list')\n",
    "        styles.update({styleid:data})\n",
    "\n",
    "        \n",
    "else:\n",
    "    for styleid in logics.keys():\n",
    "        # get line style\n",
    "        sqlstyle = \"SELECT b.* FROM G3E_COMPOSITELINESTYLE a JOIN g3e_linestyle b on a.g3e_line1 = b.g3e_sno WHERE a.g3e_sno = '{styleid}'\".format(styleid = styleid)\n",
    "        df1=pd.read_sql(sqlstyle,con=connection)\n",
    "        df1 = df1.drop(df1.columns[[0,1,3,4,5,6,9,10,11]], axis = 1)\n",
    "        # get stroke pattern\n",
    "        if not df1.empty:\n",
    "            sqlstyle = \"SELECT * FROM G3E_NORMALIZEDSTROKE WHERE G3E_SPNO = {stroke}\".format(stroke = df1.G3E_STROKEPATTERN[0])\n",
    "            df1s = pd.read_sql(sqlstyle,con=connection)\n",
    "            df1s = df1s.drop(['G3E_SPNO','G3E_USERNAME','G3E_EDITDATE','G3E_DASHPATTERNADJUSTMENT','G3E_MICROSTATIONSTYLENAME','G3E_UDLS'], axis = 1)\n",
    "            df1 = pd.concat([df1,df1s], axis = 1)\n",
    "        \n",
    "\n",
    "        # get line style\n",
    "        sqlstyle = \"SELECT c.* FROM G3E_COMPOSITELINESTYLE a JOIN g3e_linestyle c on a.g3e_line2 = c.g3e_sno WHERE a.g3e_sno = '{styleid}'\".format(styleid = styleid)\n",
    "        df2=pd.read_sql(sqlstyle,con=connection)\n",
    "        df2 = df2.drop(df2.columns[[0,1,3,4,5,6,9,10,11]], axis = 1)\n",
    "        # get stroke pattern\n",
    "        if not df2.empty:\n",
    "            sqlstyle = \"SELECT * FROM G3E_NORMALIZEDSTROKE WHERE G3E_SPNO = {stroke}\".format(stroke = df2.G3E_STROKEPATTERN[0])\n",
    "            df2s = pd.read_sql(sqlstyle,con=connection)\n",
    "            df2s = df2s.drop(['G3E_SPNO','G3E_USERNAME','G3E_EDITDATE','G3E_DASHPATTERNADJUSTMENT','G3E_MICROSTATIONSTYLENAME','G3E_UDLS'], axis = 1)\n",
    "            df2 = pd.concat([df2,df2s], axis = 1)\n",
    "\n",
    "        # combine table\n",
    "        df = pd.concat([df1,df2], axis = 1)\n",
    "        # rename column that has the same name\n",
    "        cols = pd.Series(df.columns)            \n",
    "        for dup in df.columns[df.columns.duplicated(keep=False)]:\n",
    "            cols[df.columns.get_loc(dup)] = ([dup + '_' + str(d_idx) if d_idx != 0 else dup for d_idx in range(df.columns.get_loc(dup).sum())])\n",
    "        df.columns = cols\n",
    "\n",
    "        # if both pattern is empty then get style from single line style table\n",
    "        if df.empty:\n",
    "            sqlstyle = \"SELECT * FROM G3E_LINESTYLE WHERE g3e_sno = '{styleid}'\".format(table = styletable, styleid = styleid)\n",
    "            df = pd.read_sql(sqlstyle,con=connection)\n",
    "            # get stroke pattern\n",
    "            if df.G3E_STROKEPATTERN[0] is not None:\n",
    "                sqlstyle = \"SELECT * FROM G3E_NORMALIZEDSTROKE WHERE G3E_SPNO = {stroke}\".format(stroke = df.G3E_STROKEPATTERN[0])\n",
    "                dfs = pd.read_sql(sqlstyle,con=connection)\n",
    "                dfs = dfs.drop(['G3E_SPNO','G3E_USERNAME','G3E_EDITDATE','G3E_DASHPATTERNADJUSTMENT','G3E_MICROSTATIONSTYLENAME','G3E_UDLS'], axis = 1)\n",
    "                df = pd.concat([df,dfs], axis = 1)\n",
    "            df = df.drop(['G3E_SNO','G3E_USERNAME','G3E_EDITDATE'], axis = 1)\n",
    "        \n",
    "        data = df.to_dict(orient = 'list')\n",
    "        styles.update({styleid:data})\n",
    "\n",
    "print(styles)"
   ]
  },
  {
   "cell_type": "code",
   "execution_count": 116,
   "metadata": {
    "tags": []
   },
   "outputs": [],
   "source": [
    "df1 = pd.DataFrame.from_dict({(i): styles[i]\n",
    "                                for i in styles.keys()},\n",
    "                                orient = 'index')\n",
    "\n",
    "# drop empty column in df1\n",
    "for column in df1:\n",
    "    isNone = True\n",
    "    for item in df1[column]:\n",
    "        if not (item == [None] or type(item) == float):\n",
    "            isNone = False\n",
    "            break\n",
    "    if isNone:\n",
    "        df1 = df1.drop([column], axis = 1)\n",
    "\n",
    "\n",
    "df2 = pd.DataFrame.from_dict({(i): logics[i]\n",
    "                                for i in logics.keys()},\n",
    "                                orient = 'index')\n",
    "\n",
    "df = pd.concat([df1,df2], axis = 1)"
   ]
  },
  {
   "cell_type": "code",
   "execution_count": 113,
   "metadata": {
    "tags": []
   },
   "outputs": [
    {
     "output_type": "stream",
     "name": "stdout",
     "text": [
      "this column is none\n"
     ]
    }
   ],
   "source": [
    "isNone = True\n",
    "for item in df1[df1.columns[84]]:\n",
    "    if not (item == [None] or type(item) == float):\n",
    "        isNone = False\n",
    "        break\n",
    "if isNone:\n",
    "    print(\"this column is none\")\n",
    "\n",
    "        "
   ]
  },
  {
   "cell_type": "code",
   "execution_count": 112,
   "metadata": {},
   "outputs": [
    {
     "output_type": "stream",
     "name": "stdout",
     "text": [
      "nan\n[None]\n[None]\n[None]\nnan\nnan\nnan\nnan\nnan\n[None]\n[None]\n[None]\n[None]\n[None]\nnan\n[None]\n[None]\n[None]\n[None]\n[None]\n[None]\n[None]\n[None]\n[None]\n[None]\n[None]\n[None]\n[None]\n[None]\n[None]\n[None]\n[None]\n[None]\n[None]\n[None]\n[None]\n[None]\n[None]\nnan\n[None]\n[None]\n[None]\n[None]\n[None]\n[None]\n[None]\n[None]\n[None]\n[None]\n[None]\n[None]\n[None]\n[None]\n[None]\n[None]\n[None]\n[None]\n[None]\n[None]\n[None]\n[None]\n[None]\n[None]\n[None]\n[None]\n[None]\n[None]\n[None]\n[None]\n[None]\n[None]\n[None]\nnan\n[None]\n[None]\n[None]\n[None]\n[None]\n[None]\n[None]\n[None]\n[None]\n[None]\n[None]\n[None]\n[None]\n[None]\n[None]\nnan\n[None]\n[None]\n[None]\nnan\n[None]\n[None]\n"
     ]
    }
   ],
   "source": [
    "for item in df1[df1.columns[84]]:\n",
    "    print(item)\n",
    "\n"
   ]
  },
  {
   "cell_type": "code",
   "execution_count": 117,
   "metadata": {},
   "outputs": [],
   "source": [
    "filename = view_name + \".csv\"\n",
    "csvdata = df.to_csv()\n",
    "with open(filename,'w') as f:\n",
    "    f.write(csvdata)\n",
    "    "
   ]
  },
  {
   "cell_type": "code",
   "execution_count": 26,
   "metadata": {},
   "outputs": [
    {
     "output_type": "stream",
     "name": "stdout",
     "text": [
      "Connection closed\n"
     ]
    }
   ],
   "source": [
    "# close connection\n",
    "if connection:\n",
    "    cursor.close()\n",
    "    connection.close()\n",
    "    print(\"Connection closed\")"
   ]
  }
 ]
}
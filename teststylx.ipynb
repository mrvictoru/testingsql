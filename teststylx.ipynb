{
 "metadata": {
  "language_info": {
   "codemirror_mode": {
    "name": "ipython",
    "version": 3
   },
   "file_extension": ".py",
   "mimetype": "text/x-python",
   "name": "python",
   "nbconvert_exporter": "python",
   "pygments_lexer": "ipython3",
   "version": "3.8.5-final"
  },
  "orig_nbformat": 2,
  "kernelspec": {
   "name": "python3",
   "display_name": "Python 3",
   "language": "python"
  }
 },
 "nbformat": 4,
 "nbformat_minor": 2,
 "cells": [
  {
   "cell_type": "code",
   "execution_count": 6,
   "metadata": {},
   "outputs": [],
   "source": [
    "import sqlite3\n",
    "import os\n",
    "import pandas as pd"
   ]
  },
  {
   "cell_type": "code",
   "execution_count": 2,
   "metadata": {},
   "outputs": [],
   "source": [
    "dir = os.getcwd()\n",
    "style = \"Favorites.stylx\"\n",
    "conn = sqlite3.connect(os.path.join(dir,style))\n",
    "c = conn.cursor()"
   ]
  },
  {
   "cell_type": "code",
   "execution_count": 7,
   "metadata": {},
   "outputs": [],
   "source": [
    "sql = \"SELECT * FROM ITEMS\"\n",
    "df = pd.read_sql(sql,con=conn)"
   ]
  },
  {
   "cell_type": "code",
   "execution_count": 15,
   "metadata": {},
   "outputs": [],
   "source": [
    "csvdata = df.to_csv()\n",
    "with open(\"test.csv\",'w') as f:\n",
    "    f.write(csvdata)"
   ]
  },
  {
   "cell_type": "code",
   "execution_count": 15,
   "metadata": {},
   "outputs": [
    {
     "output_type": "error",
     "ename": "ValueError",
     "evalue": "the query contains a null character",
     "traceback": [
      "\u001b[1;31m---------------------------------------------------------------------------\u001b[0m",
      "\u001b[1;31mValueError\u001b[0m                                Traceback (most recent call last)",
      "\u001b[1;32m<ipython-input-15-2c649dd49fcc>\u001b[0m in \u001b[0;36m<module>\u001b[1;34m\u001b[0m\n\u001b[0;32m      1\u001b[0m \u001b[0msql\u001b[0m \u001b[1;33m=\u001b[0m \u001b[1;34m\"INSERT INTO ITEMS (ID,CLASS,CATEGORY,NAME,TAGS,CONTENT,KEY) VALUE(2,4,'NULL','yaya2','rgb;red;dash','{\\\"type\\\":\\\"CIMLineSymbol\\\",\\\"symbolLayers\\\":[{\\\"type\\\":\\\"CIMSolidStroke\\\",\\\"effects\\\":[{\\\"type\\\":\\\"CIMGeometricEffectDashes\\\",\\\"dashTemplate\\\":[30,8.5,1.5,20],\\\"lineDashEnding\\\":\\\"NoConstraint\\\",\\\"controlPointEnding\\\":\\\"NoConstraint\\\"}],\\\"enable\\\":true,\\\"capStyle\\\":\\\"Round\\\",\\\"joinStyle\\\":\\\"Round\\\",\\\"lineStyle3D\\\":\\\"Strip\\\",\\\"miterLimit\\\":10,\\\"width\\\":1,\\\"color\\\":{\\\"type\\\":\\\"CIMRGBColor\\\",\\\"values\\\":[160.65000000000001,62.649999999999999,74.090000000000003,100]}}]}\\x00', 'test1')\"\u001b[0m\u001b[1;33m\u001b[0m\u001b[1;33m\u001b[0m\u001b[0m\n\u001b[1;32m----> 2\u001b[1;33m \u001b[0mc\u001b[0m\u001b[1;33m.\u001b[0m\u001b[0mexecute\u001b[0m\u001b[1;33m(\u001b[0m\u001b[0msql\u001b[0m\u001b[1;33m)\u001b[0m\u001b[1;33m\u001b[0m\u001b[1;33m\u001b[0m\u001b[0m\n\u001b[0m",
      "\u001b[1;31mValueError\u001b[0m: the query contains a null character"
     ]
    }
   ],
   "source": [
    "sql = \"INSERT INTO ITEMS (ID,CLASS,CATEGORY,NAME,TAGS,CONTENT,KEY) VALUE(2,4,'NULL','yaya2','rgb;red;dash','{\\\"type\\\":\\\"CIMLineSymbol\\\",\\\"symbolLayers\\\":[{\\\"type\\\":\\\"CIMSolidStroke\\\",\\\"effects\\\":[{\\\"type\\\":\\\"CIMGeometricEffectDashes\\\",\\\"dashTemplate\\\":[30,8.5,1.5,20],\\\"lineDashEnding\\\":\\\"NoConstraint\\\",\\\"controlPointEnding\\\":\\\"NoConstraint\\\"}],\\\"enable\\\":true,\\\"capStyle\\\":\\\"Round\\\",\\\"joinStyle\\\":\\\"Round\\\",\\\"lineStyle3D\\\":\\\"Strip\\\",\\\"miterLimit\\\":10,\\\"width\\\":1,\\\"color\\\":{\\\"type\\\":\\\"CIMRGBColor\\\",\\\"values\\\":[160.65000000000001,62.649999999999999,74.090000000000003,100]}}]}\\x00', 'test1')\"\n",
    "c.execute()sql"
   ]
  },
  {
   "cell_type": "code",
   "execution_count": 16,
   "metadata": {},
   "outputs": [],
   "source": [
    "conn.close()"
   ]
  },
  {
   "cell_type": "code",
   "execution_count": null,
   "metadata": {},
   "outputs": [],
   "source": []
  }
 ]
}